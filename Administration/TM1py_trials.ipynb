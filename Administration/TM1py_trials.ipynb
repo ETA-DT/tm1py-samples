{
 "cells": [
  {
   "cell_type": "markdown",
   "metadata": {},
   "source": [
    "## Read rules from all cubes and sort cubes by some metrics (Number rows, Number feeders,... )"
   ]
  },
  {
   "cell_type": "code",
   "execution_count": 17,
   "metadata": {},
   "outputs": [],
   "source": [
    "import configparser\n",
    "from TM1py.Services import TM1Service"
   ]
  },
  {
   "cell_type": "code",
   "execution_count": 18,
   "metadata": {},
   "outputs": [
    {
     "data": {
      "text/plain": [
       "['../config.ini']"
      ]
     },
     "execution_count": 18,
     "metadata": {},
     "output_type": "execute_result"
    }
   ],
   "source": [
    "config = configparser.ConfigParser()\n",
    "config.read(r'../config.ini')"
   ]
  },
  {
   "cell_type": "code",
   "execution_count": 19,
   "metadata": {},
   "outputs": [
    {
     "data": {
      "text/plain": [
       "{'address': '91.236.254.119',\n",
       " 'port': '5032',\n",
       " 'user': 'erwan.tang',\n",
       " 'password': 'Datatilt2021',\n",
       " 'ssl': 'False',\n",
       " 'decode_b64': 'False'}"
      ]
     },
     "execution_count": 19,
     "metadata": {},
     "output_type": "execute_result"
    }
   ],
   "source": [
    "dict(config['tm1srv01'])"
   ]
  },
  {
   "cell_type": "code",
   "execution_count": 25,
   "metadata": {},
   "outputs": [],
   "source": [
    "with TM1Service(**config['tm1srv01']) as tm1:\n",
    "    all_cubes = tm1.cubes.get_all()\n",
    "    control_cubes = tm1.cubes.get_control_cubes()\n",
    "    no_control_cubes = list(set(all_cubes)-set(control_cubes))\n"
   ]
  },
  {
   "cell_type": "code",
   "execution_count": 26,
   "metadata": {},
   "outputs": [],
   "source": [
    "all_groups = tm1.security.get_all_groups()\n",
    "\n",
    "# Determine the used groups from }ClientGroups Cube\n",
    "mdx = \"SELECT \" \\\n",
    "        \"NON EMPTY {TM1SUBSETALL( [}Clients] )} ON ROWS, \" \\\n",
    "        \"NON EMPTY {TM1SUBSETALL( [}Groups] )} ON COLUMNS \" \\\n",
    "        \"FROM [}ClientGroups]\"\n",
    "cube_content = tm1.cubes.cells.execute_mdx(mdx, ['Value'])\n",
    "\n",
    "used_groups = {cell['Value'] for cell in cube_content.values() if cell['Value'] != ''}\n"
   ]
  },
  {
   "cell_type": "code",
   "execution_count": 48,
   "metadata": {},
   "outputs": [],
   "source": [
    "all_groups = list(tm1.elements.get_all_leaf_element_identifiers(dimension_name='}Groups',hierarchy_name='}Groups'))"
   ]
  },
  {
   "cell_type": "code",
   "execution_count": null,
   "metadata": {},
   "outputs": [],
   "source": [
    "groups_all_members = tm1.dimensions.subsets.get_element_names(dimension_name='}Groups',hierarchy_name='}Groups',subset_name='')"
   ]
  },
  {
   "cell_type": "code",
   "execution_count": 49,
   "metadata": {},
   "outputs": [
    {
     "data": {
      "text/plain": [
       "['ADMIN', 'SecurityAdmin', 'DataAdmin', 'OperationsAdmin']"
      ]
     },
     "execution_count": 49,
     "metadata": {},
     "output_type": "execute_result"
    }
   ],
   "source": [
    "all_groups"
   ]
  },
  {
   "cell_type": "code",
   "execution_count": 66,
   "metadata": {},
   "outputs": [],
   "source": [
    "mdx = \"SELECT \" \\\n",
    "          \"NON EMPTY {TM1SUBSETALL( [}Clients] )} on ROWS, \" \\\n",
    "          \"NON EMPTY {TM1SUBSETALL( [}Groups] )} ON COLUMNS \" \\\n",
    "          \"FROM [}ClientGroups]\"\n",
    "cube_content = tm1.cubes.cells.execute_mdx(mdx, ['Value'])"
   ]
  },
  {
   "cell_type": "code",
   "execution_count": 72,
   "metadata": {},
   "outputs": [
    {
     "data": {
      "text/plain": [
       "['adel.hamache',\n",
       " 'Admin',\n",
       " 'Alexandre.ngai',\n",
       " 'amavi.atigla',\n",
       " 'aurele.nassara',\n",
       " 'badr.bouhlal',\n",
       " 'bruno.taboument',\n",
       " 'elhadj.sow',\n",
       " 'erwan.tang',\n",
       " 'Fatma.bousnina',\n",
       " 'franck.luciani',\n",
       " 'Hugo.lim',\n",
       " 'jamil.fadile',\n",
       " 'Jennifer.ardon',\n",
       " 'karima.barki',\n",
       " 'laurent.mariotte',\n",
       " 'ludovic.sant',\n",
       " 'mariama.diallo',\n",
       " 'marianne.plesse',\n",
       " 'mathieu.botquin',\n",
       " 'mehdi.taheraly',\n",
       " 'Meryam.zouabi',\n",
       " 'test.user',\n",
       " 'Virginie.jumel',\n",
       " 'Yasmine.ghanem',\n",
       " 'zied.benhmida']"
      ]
     },
     "execution_count": 72,
     "metadata": {},
     "output_type": "execute_result"
    }
   ],
   "source": [
    "tm1.security.get_all_user_names()"
   ]
  },
  {
   "cell_type": "code",
   "execution_count": 69,
   "metadata": {},
   "outputs": [
    {
     "data": {
      "text/plain": [
       "0         adel.hamache\n",
       "1                Admin\n",
       "2         amavi.atigla\n",
       "3       aurele.nassara\n",
       "4         badr.bouhlal\n",
       "5      bruno.taboument\n",
       "6           elhadj.sow\n",
       "7           erwan.tang\n",
       "8       franck.luciani\n",
       "9             Hugo.lim\n",
       "10        jamil.fadile\n",
       "11      Jennifer.ardon\n",
       "12        karima.barki\n",
       "13    laurent.mariotte\n",
       "14        ludovic.sant\n",
       "15      mariama.diallo\n",
       "16     marianne.plesse\n",
       "17     mathieu.botquin\n",
       "18      mehdi.taheraly\n",
       "19           test.user\n",
       "20      Virginie.jumel\n",
       "21      Yasmine.ghanem\n",
       "22       zied.benhmida\n",
       "Name: }Clients, dtype: object"
      ]
     },
     "execution_count": 69,
     "metadata": {},
     "output_type": "execute_result"
    }
   ],
   "source": [
    "tm1.cubes.cells.execute_mdx_dataframe(mdx=mdx)['}Clients']"
   ]
  },
  {
   "cell_type": "code",
   "execution_count": 51,
   "metadata": {},
   "outputs": [
    {
     "ename": "TM1pyRestException",
     "evalue": "Text: '{\"error\":{\"code\":\"278\",\"message\":\"'All' can not be found in collection of type 'View'.\"}}' - Status Code: 404 - Reason: 'Not Found' - Headers: {'Content-Length': '103', 'Connection': 'keep-alive', 'Content-Encoding': 'gzip', 'Cache-Control': 'no-cache', 'Content-Type': 'application/json; charset=utf-8', 'OData-Version': '4.0'}",
     "output_type": "error",
     "traceback": [
      "\u001b[1;31m---------------------------------------------------------------------------\u001b[0m",
      "\u001b[1;31mTM1pyRestException\u001b[0m                        Traceback (most recent call last)",
      "Cell \u001b[1;32mIn[51], line 1\u001b[0m\n\u001b[1;32m----> 1\u001b[0m client_groups_content \u001b[38;5;241m=\u001b[39m \u001b[43mtm1\u001b[49m\u001b[38;5;241;43m.\u001b[39;49m\u001b[43mcubes\u001b[49m\u001b[38;5;241;43m.\u001b[39;49m\u001b[43mcells\u001b[49m\u001b[38;5;241;43m.\u001b[39;49m\u001b[43mexecute_view_dataframe\u001b[49m\u001b[43m(\u001b[49m\u001b[43mcube_name\u001b[49m\u001b[38;5;241;43m=\u001b[39;49m\u001b[38;5;124;43m'\u001b[39;49m\u001b[38;5;124;43m}ClientGroups\u001b[39;49m\u001b[38;5;124;43m'\u001b[39;49m\u001b[43m,\u001b[49m\u001b[43mview_name\u001b[49m\u001b[38;5;241;43m=\u001b[39;49m\u001b[38;5;124;43m'\u001b[39;49m\u001b[38;5;124;43mAll\u001b[39;49m\u001b[38;5;124;43m'\u001b[39;49m\u001b[43m)\u001b[49m\n",
      "File \u001b[1;32mc:\\Users\\ErwanTang\\AppData\\Local\\Programs\\Python\\Python312\\Lib\\site-packages\\TM1py\\Utils\\Utils.py:146\u001b[0m, in \u001b[0;36mrequire_pandas.<locals>.wrapper\u001b[1;34m(self, *args, **kwargs)\u001b[0m\n\u001b[0;32m    144\u001b[0m \u001b[38;5;28;01mtry\u001b[39;00m:\n\u001b[0;32m    145\u001b[0m     \u001b[38;5;28;01mimport\u001b[39;00m \u001b[38;5;21;01mpandas\u001b[39;00m\n\u001b[1;32m--> 146\u001b[0m     \u001b[38;5;28;01mreturn\u001b[39;00m \u001b[43mfunc\u001b[49m\u001b[43m(\u001b[49m\u001b[38;5;28;43mself\u001b[39;49m\u001b[43m,\u001b[49m\u001b[43m \u001b[49m\u001b[38;5;241;43m*\u001b[39;49m\u001b[43margs\u001b[49m\u001b[43m,\u001b[49m\u001b[43m \u001b[49m\u001b[38;5;241;43m*\u001b[39;49m\u001b[38;5;241;43m*\u001b[39;49m\u001b[43mkwargs\u001b[49m\u001b[43m)\u001b[49m\n\u001b[0;32m    147\u001b[0m \u001b[38;5;28;01mexcept\u001b[39;00m \u001b[38;5;167;01mImportError\u001b[39;00m:\n\u001b[0;32m    148\u001b[0m     \u001b[38;5;28;01mraise\u001b[39;00m \u001b[38;5;167;01mImportError\u001b[39;00m(\u001b[38;5;124mf\u001b[39m\u001b[38;5;124m\"\u001b[39m\u001b[38;5;124mFunction \u001b[39m\u001b[38;5;124m'\u001b[39m\u001b[38;5;132;01m{\u001b[39;00mfunc\u001b[38;5;241m.\u001b[39m\u001b[38;5;18m__name__\u001b[39m\u001b[38;5;132;01m}\u001b[39;00m\u001b[38;5;124m'\u001b[39m\u001b[38;5;124m requires pandas\u001b[39m\u001b[38;5;124m\"\u001b[39m)\n",
      "File \u001b[1;32mc:\\Users\\ErwanTang\\AppData\\Local\\Programs\\Python\\Python312\\Lib\\site-packages\\TM1py\\Services\\CellService.py:2734\u001b[0m, in \u001b[0;36mCellService.execute_view_dataframe\u001b[1;34m(self, cube_name, view_name, private, top, skip, skip_zeros, skip_consolidated_cells, skip_rule_derived_cells, sandbox_name, use_iterative_json, use_blob, shaped, arranged_axes, mdx_headers, **kwargs)\u001b[0m\n\u001b[0;32m   2716\u001b[0m     raw_csv \u001b[38;5;241m=\u001b[39m \u001b[38;5;28mself\u001b[39m\u001b[38;5;241m.\u001b[39mexecute_view_csv(\n\u001b[0;32m   2717\u001b[0m         cube_name\u001b[38;5;241m=\u001b[39mcube_name,\n\u001b[0;32m   2718\u001b[0m         view_name\u001b[38;5;241m=\u001b[39mview_name,\n\u001b[1;32m   (...)\u001b[0m\n\u001b[0;32m   2730\u001b[0m         mdx_headers\u001b[38;5;241m=\u001b[39mmdx_headers,\n\u001b[0;32m   2731\u001b[0m         \u001b[38;5;241m*\u001b[39m\u001b[38;5;241m*\u001b[39mkwargs)\n\u001b[0;32m   2732\u001b[0m     \u001b[38;5;28;01mreturn\u001b[39;00m build_dataframe_from_csv(raw_csv, sep\u001b[38;5;241m=\u001b[39m\u001b[38;5;124m'\u001b[39m\u001b[38;5;124m~\u001b[39m\u001b[38;5;124m'\u001b[39m, shaped\u001b[38;5;241m=\u001b[39mshaped, \u001b[38;5;241m*\u001b[39m\u001b[38;5;241m*\u001b[39mkwargs)\n\u001b[1;32m-> 2734\u001b[0m cellset_id \u001b[38;5;241m=\u001b[39m \u001b[38;5;28;43mself\u001b[39;49m\u001b[38;5;241;43m.\u001b[39;49m\u001b[43mcreate_cellset_from_view\u001b[49m\u001b[43m(\u001b[49m\u001b[43mcube_name\u001b[49m\u001b[38;5;241;43m=\u001b[39;49m\u001b[43mcube_name\u001b[49m\u001b[43m,\u001b[49m\u001b[43m \u001b[49m\u001b[43mview_name\u001b[49m\u001b[38;5;241;43m=\u001b[39;49m\u001b[43mview_name\u001b[49m\u001b[43m,\u001b[49m\u001b[43m \u001b[49m\u001b[43mprivate\u001b[49m\u001b[38;5;241;43m=\u001b[39;49m\u001b[43mprivate\u001b[49m\u001b[43m,\u001b[49m\n\u001b[0;32m   2735\u001b[0m \u001b[43m                                           \u001b[49m\u001b[43msandbox_name\u001b[49m\u001b[38;5;241;43m=\u001b[39;49m\u001b[43msandbox_name\u001b[49m\u001b[43m,\u001b[49m\u001b[43m \u001b[49m\u001b[38;5;241;43m*\u001b[39;49m\u001b[38;5;241;43m*\u001b[39;49m\u001b[43mkwargs\u001b[49m\u001b[43m)\u001b[49m\n\u001b[0;32m   2736\u001b[0m \u001b[38;5;28;01mreturn\u001b[39;00m \u001b[38;5;28mself\u001b[39m\u001b[38;5;241m.\u001b[39mextract_cellset_dataframe(cellset_id, top\u001b[38;5;241m=\u001b[39mtop, skip\u001b[38;5;241m=\u001b[39mskip, skip_zeros\u001b[38;5;241m=\u001b[39mskip_zeros,\n\u001b[0;32m   2737\u001b[0m                                       skip_consolidated_cells\u001b[38;5;241m=\u001b[39mskip_consolidated_cells,\n\u001b[0;32m   2738\u001b[0m                                       skip_rule_derived_cells\u001b[38;5;241m=\u001b[39mskip_rule_derived_cells,\n\u001b[0;32m   2739\u001b[0m                                       sandbox_name\u001b[38;5;241m=\u001b[39msandbox_name, use_iterative_json\u001b[38;5;241m=\u001b[39muse_iterative_json,\n\u001b[0;32m   2740\u001b[0m                                       shaped\u001b[38;5;241m=\u001b[39mshaped, mdx_headers\u001b[38;5;241m=\u001b[39mmdx_headers, \u001b[38;5;241m*\u001b[39m\u001b[38;5;241m*\u001b[39mkwargs)\n",
      "File \u001b[1;32mc:\\Users\\ErwanTang\\AppData\\Local\\Programs\\Python\\Python312\\Lib\\site-packages\\TM1py\\Services\\CellService.py:4318\u001b[0m, in \u001b[0;36mCellService.create_cellset_from_view\u001b[1;34m(self, cube_name, view_name, private, sandbox_name, **kwargs)\u001b[0m\n\u001b[0;32m   4313\u001b[0m url \u001b[38;5;241m=\u001b[39m format_url(\u001b[38;5;124m\"\u001b[39m\u001b[38;5;124m/Cubes(\u001b[39m\u001b[38;5;124m'\u001b[39m\u001b[38;5;132;01m{cube_name}\u001b[39;00m\u001b[38;5;124m'\u001b[39m\u001b[38;5;124m)/\u001b[39m\u001b[38;5;132;01m{views}\u001b[39;00m\u001b[38;5;124m(\u001b[39m\u001b[38;5;124m'\u001b[39m\u001b[38;5;132;01m{view_name}\u001b[39;00m\u001b[38;5;124m'\u001b[39m\u001b[38;5;124m)/tm1.Execute\u001b[39m\u001b[38;5;124m\"\u001b[39m,\n\u001b[0;32m   4314\u001b[0m                  cube_name\u001b[38;5;241m=\u001b[39mcube_name,\n\u001b[0;32m   4315\u001b[0m                  views\u001b[38;5;241m=\u001b[39m\u001b[38;5;124m'\u001b[39m\u001b[38;5;124mPrivateViews\u001b[39m\u001b[38;5;124m'\u001b[39m \u001b[38;5;28;01mif\u001b[39;00m private \u001b[38;5;28;01melse\u001b[39;00m \u001b[38;5;124m'\u001b[39m\u001b[38;5;124mViews\u001b[39m\u001b[38;5;124m'\u001b[39m,\n\u001b[0;32m   4316\u001b[0m                  view_name\u001b[38;5;241m=\u001b[39mview_name)\n\u001b[0;32m   4317\u001b[0m url \u001b[38;5;241m=\u001b[39m add_url_parameters(url, \u001b[38;5;241m*\u001b[39m\u001b[38;5;241m*\u001b[39m{\u001b[38;5;124m\"\u001b[39m\u001b[38;5;124m!sandbox\u001b[39m\u001b[38;5;124m\"\u001b[39m: sandbox_name})\n\u001b[1;32m-> 4318\u001b[0m \u001b[38;5;28;01mreturn\u001b[39;00m \u001b[38;5;28;43mself\u001b[39;49m\u001b[38;5;241;43m.\u001b[39;49m\u001b[43m_rest\u001b[49m\u001b[38;5;241;43m.\u001b[39;49m\u001b[43mPOST\u001b[49m\u001b[43m(\u001b[49m\u001b[43murl\u001b[49m\u001b[38;5;241;43m=\u001b[39;49m\u001b[43murl\u001b[49m\u001b[43m,\u001b[49m\u001b[43m \u001b[49m\u001b[38;5;241;43m*\u001b[39;49m\u001b[38;5;241;43m*\u001b[39;49m\u001b[43mkwargs\u001b[49m\u001b[43m)\u001b[49m\u001b[38;5;241m.\u001b[39mjson()[\u001b[38;5;124m'\u001b[39m\u001b[38;5;124mID\u001b[39m\u001b[38;5;124m'\u001b[39m]\n",
      "File \u001b[1;32mc:\\Users\\ErwanTang\\AppData\\Local\\Programs\\Python\\Python312\\Lib\\site-packages\\TM1py\\Services\\RestService.py:535\u001b[0m, in \u001b[0;36mRestService.POST\u001b[1;34m(self, url, data, headers, async_requests_mode, return_async_id, timeout, cancel_at_timeout, encoding, **kwargs)\u001b[0m\n\u001b[0;32m    512\u001b[0m \u001b[38;5;28;01mdef\u001b[39;00m \u001b[38;5;21mPOST\u001b[39m(\n\u001b[0;32m    513\u001b[0m         \u001b[38;5;28mself\u001b[39m,\n\u001b[0;32m    514\u001b[0m         url: \u001b[38;5;28mstr\u001b[39m,\n\u001b[1;32m   (...)\u001b[0m\n\u001b[0;32m    521\u001b[0m         encoding: \u001b[38;5;28mstr\u001b[39m \u001b[38;5;241m=\u001b[39m \u001b[38;5;124m'\u001b[39m\u001b[38;5;124mutf-8\u001b[39m\u001b[38;5;124m'\u001b[39m,\n\u001b[0;32m    522\u001b[0m         \u001b[38;5;241m*\u001b[39m\u001b[38;5;241m*\u001b[39mkwargs):\n\u001b[0;32m    523\u001b[0m \u001b[38;5;250m    \u001b[39m\u001b[38;5;124;03m\"\"\" Perform a GET request against TM1 instance\u001b[39;00m\n\u001b[0;32m    524\u001b[0m \u001b[38;5;124;03m    :param url:\u001b[39;00m\n\u001b[0;32m    525\u001b[0m \u001b[38;5;124;03m    :param data: the payload\u001b[39;00m\n\u001b[1;32m   (...)\u001b[0m\n\u001b[0;32m    532\u001b[0m \u001b[38;5;124;03m    :return: response object or async_id\u001b[39;00m\n\u001b[0;32m    533\u001b[0m \u001b[38;5;124;03m    \"\"\"\u001b[39;00m\n\u001b[1;32m--> 535\u001b[0m     response \u001b[38;5;241m=\u001b[39m \u001b[38;5;28;43mself\u001b[39;49m\u001b[38;5;241;43m.\u001b[39;49m\u001b[43mrequest\u001b[49m\u001b[43m(\u001b[49m\n\u001b[0;32m    536\u001b[0m \u001b[43m        \u001b[49m\u001b[43mmethod\u001b[49m\u001b[38;5;241;43m=\u001b[39;49m\u001b[38;5;124;43m'\u001b[39;49m\u001b[38;5;124;43mpost\u001b[39;49m\u001b[38;5;124;43m'\u001b[39;49m\u001b[43m,\u001b[49m\n\u001b[0;32m    537\u001b[0m \u001b[43m        \u001b[49m\u001b[43mheaders\u001b[49m\u001b[38;5;241;43m=\u001b[39;49m\u001b[43m{\u001b[49m\u001b[38;5;241;43m*\u001b[39;49m\u001b[38;5;241;43m*\u001b[39;49m\u001b[38;5;28;43mself\u001b[39;49m\u001b[38;5;241;43m.\u001b[39;49m\u001b[43m_headers\u001b[49m\u001b[43m,\u001b[49m\u001b[43m \u001b[49m\u001b[38;5;241;43m*\u001b[39;49m\u001b[38;5;241;43m*\u001b[39;49m\u001b[43mheaders\u001b[49m\u001b[43m}\u001b[49m\u001b[43m \u001b[49m\u001b[38;5;28;43;01mif\u001b[39;49;00m\u001b[43m \u001b[49m\u001b[43mheaders\u001b[49m\u001b[43m \u001b[49m\u001b[38;5;28;43;01melse\u001b[39;49;00m\u001b[43m \u001b[49m\u001b[38;5;28;43mself\u001b[39;49m\u001b[38;5;241;43m.\u001b[39;49m\u001b[43m_headers\u001b[49m\u001b[43m,\u001b[49m\n\u001b[0;32m    538\u001b[0m \u001b[43m        \u001b[49m\u001b[43murl\u001b[49m\u001b[38;5;241;43m=\u001b[39;49m\u001b[43murl\u001b[49m\u001b[43m,\u001b[49m\n\u001b[0;32m    539\u001b[0m \u001b[43m        \u001b[49m\u001b[43mdata\u001b[49m\u001b[38;5;241;43m=\u001b[39;49m\u001b[43mdata\u001b[49m\u001b[43m,\u001b[49m\n\u001b[0;32m    540\u001b[0m \u001b[43m        \u001b[49m\u001b[43masync_requests_mode\u001b[49m\u001b[38;5;241;43m=\u001b[39;49m\u001b[43masync_requests_mode\u001b[49m\u001b[43m,\u001b[49m\n\u001b[0;32m    541\u001b[0m \u001b[43m        \u001b[49m\u001b[43mreturn_async_id\u001b[49m\u001b[38;5;241;43m=\u001b[39;49m\u001b[43mreturn_async_id\u001b[49m\u001b[43m,\u001b[49m\n\u001b[0;32m    542\u001b[0m \u001b[43m        \u001b[49m\u001b[43mtimeout\u001b[49m\u001b[38;5;241;43m=\u001b[39;49m\u001b[43mtimeout\u001b[49m\u001b[43m \u001b[49m\u001b[38;5;28;43;01mif\u001b[39;49;00m\u001b[43m \u001b[49m\u001b[43mtimeout\u001b[49m\u001b[43m \u001b[49m\u001b[38;5;28;43;01melse\u001b[39;49;00m\u001b[43m \u001b[49m\u001b[38;5;28;43mself\u001b[39;49m\u001b[38;5;241;43m.\u001b[39;49m\u001b[43m_timeout\u001b[49m\u001b[43m,\u001b[49m\n\u001b[0;32m    543\u001b[0m \u001b[43m        \u001b[49m\u001b[43mcancel_at_timeout\u001b[49m\u001b[38;5;241;43m=\u001b[39;49m\u001b[43mcancel_at_timeout\u001b[49m\u001b[43m,\u001b[49m\n\u001b[0;32m    544\u001b[0m \u001b[43m        \u001b[49m\u001b[43mencoding\u001b[49m\u001b[38;5;241;43m=\u001b[39;49m\u001b[43mencoding\u001b[49m\n\u001b[0;32m    545\u001b[0m \u001b[43m    \u001b[49m\u001b[43m)\u001b[49m\n\u001b[0;32m    547\u001b[0m     \u001b[38;5;28;01mreturn\u001b[39;00m response\n",
      "File \u001b[1;32mc:\\Users\\ErwanTang\\AppData\\Local\\Programs\\Python\\Python312\\Lib\\site-packages\\TM1py\\Services\\RestService.py:324\u001b[0m, in \u001b[0;36mRestService.request\u001b[1;34m(self, method, url, data, encoding, async_requests_mode, return_async_id, timeout, cancel_at_timeout, **kwargs)\u001b[0m\n\u001b[0;32m    321\u001b[0m         response\u001b[38;5;241m.\u001b[39mstatus_code \u001b[38;5;241m=\u001b[39m \u001b[38;5;28mint\u001b[39m(response\u001b[38;5;241m.\u001b[39mheaders[\u001b[38;5;124m'\u001b[39m\u001b[38;5;124masyncresult\u001b[39m\u001b[38;5;124m'\u001b[39m])\n\u001b[0;32m    323\u001b[0m \u001b[38;5;66;03m# verify\u001b[39;00m\n\u001b[1;32m--> 324\u001b[0m \u001b[38;5;28;43mself\u001b[39;49m\u001b[38;5;241;43m.\u001b[39;49m\u001b[43mverify_response\u001b[49m\u001b[43m(\u001b[49m\u001b[43mresponse\u001b[49m\u001b[38;5;241;43m=\u001b[39;49m\u001b[43mresponse\u001b[49m\u001b[43m)\u001b[49m\n\u001b[0;32m    326\u001b[0m \u001b[38;5;66;03m# response encoding\u001b[39;00m\n\u001b[0;32m    327\u001b[0m response\u001b[38;5;241m.\u001b[39mencoding \u001b[38;5;241m=\u001b[39m encoding\n",
      "File \u001b[1;32mc:\\Users\\ErwanTang\\AppData\\Local\\Programs\\Python\\Python312\\Lib\\site-packages\\TM1py\\Services\\RestService.py:889\u001b[0m, in \u001b[0;36mRestService.verify_response\u001b[1;34m(response)\u001b[0m\n\u001b[0;32m    881\u001b[0m \u001b[38;5;250m\u001b[39m\u001b[38;5;124;03m\"\"\" check if Status Code is OK\u001b[39;00m\n\u001b[0;32m    882\u001b[0m \u001b[38;5;124;03m:Parameters:\u001b[39;00m\n\u001b[0;32m    883\u001b[0m \u001b[38;5;124;03m    `response`: String\u001b[39;00m\n\u001b[1;32m   (...)\u001b[0m\n\u001b[0;32m    886\u001b[0m \u001b[38;5;124;03m    TM1pyException, raises TM1pyException when Code is not 200, 204 etc.\u001b[39;00m\n\u001b[0;32m    887\u001b[0m \u001b[38;5;124;03m\"\"\"\u001b[39;00m\n\u001b[0;32m    888\u001b[0m \u001b[38;5;28;01mif\u001b[39;00m \u001b[38;5;129;01mnot\u001b[39;00m response\u001b[38;5;241m.\u001b[39mok:\n\u001b[1;32m--> 889\u001b[0m     \u001b[38;5;28;01mraise\u001b[39;00m TM1pyRestException(response\u001b[38;5;241m.\u001b[39mtext,\n\u001b[0;32m    890\u001b[0m                              status_code\u001b[38;5;241m=\u001b[39mresponse\u001b[38;5;241m.\u001b[39mstatus_code,\n\u001b[0;32m    891\u001b[0m                              reason\u001b[38;5;241m=\u001b[39mresponse\u001b[38;5;241m.\u001b[39mreason,\n\u001b[0;32m    892\u001b[0m                              headers\u001b[38;5;241m=\u001b[39mresponse\u001b[38;5;241m.\u001b[39mheaders)\n",
      "\u001b[1;31mTM1pyRestException\u001b[0m: Text: '{\"error\":{\"code\":\"278\",\"message\":\"'All' can not be found in collection of type 'View'.\"}}' - Status Code: 404 - Reason: 'Not Found' - Headers: {'Content-Length': '103', 'Connection': 'keep-alive', 'Content-Encoding': 'gzip', 'Cache-Control': 'no-cache', 'Content-Type': 'application/json; charset=utf-8', 'OData-Version': '4.0'}"
     ]
    }
   ],
   "source": [
    "client_groups_content = tm1.cubes.cells.execute_view_dataframe(cube_name='}ClientGroups',view_name='All')"
   ]
  },
  {
   "cell_type": "code",
   "execution_count": 21,
   "metadata": {},
   "outputs": [
    {
     "ename": "NameError",
     "evalue": "name 'client_groups_content' is not defined",
     "output_type": "error",
     "traceback": [
      "\u001b[1;31m---------------------------------------------------------------------------\u001b[0m",
      "\u001b[1;31mNameError\u001b[0m                                 Traceback (most recent call last)",
      "Cell \u001b[1;32mIn[21], line 1\u001b[0m\n\u001b[1;32m----> 1\u001b[0m \u001b[43mclient_groups_content\u001b[49m\n",
      "\u001b[1;31mNameError\u001b[0m: name 'client_groups_content' is not defined"
     ]
    }
   ],
   "source": [
    "client_groups_content"
   ]
  },
  {
   "cell_type": "code",
   "execution_count": 57,
   "metadata": {},
   "outputs": [
    {
     "data": {
      "text/plain": [
       "{'ADMIN',\n",
       " 'CFO',\n",
       " 'Contribute_Americas',\n",
       " 'Contribute_Central_Europe',\n",
       " 'DataAdmin',\n",
       " 'Education',\n",
       " 'Executive',\n",
       " 'Manager',\n",
       " 'Review_Americas',\n",
       " 'Review_Europe',\n",
       " 'View_Company',\n",
       " '}tp_Everyone'}"
      ]
     },
     "execution_count": 57,
     "metadata": {},
     "output_type": "execute_result"
    }
   ],
   "source": [
    "used_groups"
   ]
  },
  {
   "cell_type": "code",
   "execution_count": 2,
   "metadata": {},
   "outputs": [],
   "source": [
    "from TM1py.Utils import get_all_servers_from_adminhost\n",
    "\n",
    "tm1_instances_on_server = get_all_servers_from_adminhost('91.236.254.119',None,True)"
   ]
  },
  {
   "cell_type": "code",
   "execution_count": 4,
   "metadata": {},
   "outputs": [
    {
     "name": "stdout",
     "output_type": "stream",
     "text": [
      "CarSales_Test\n",
      "Datatilt - Interne\n",
      "Datatilt - Planning Equipe\n",
      "ESSP_Cost_Sheet_dev\n",
      "IBM - Demo2023\n",
      "Sample - SData\n",
      "SampleOutdoors ETA\n",
      "Socfin\n",
      "TK\n",
      "TM1 Login Server\n"
     ]
    }
   ],
   "source": [
    "for tm1_instance in tm1_instances_on_server:\n",
    "    print(tm1_instance.name)"
   ]
  }
 ],
 "metadata": {
  "kernelspec": {
   "display_name": "Python 3",
   "language": "python",
   "name": "python3"
  },
  "language_info": {
   "codemirror_mode": {
    "name": "ipython",
    "version": 3
   },
   "file_extension": ".py",
   "mimetype": "text/x-python",
   "name": "python",
   "nbconvert_exporter": "python",
   "pygments_lexer": "ipython3",
   "version": "3.12.2"
  }
 },
 "nbformat": 4,
 "nbformat_minor": 2
}
