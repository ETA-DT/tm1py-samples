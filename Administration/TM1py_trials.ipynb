{
 "cells": [
  {
   "cell_type": "markdown",
   "metadata": {},
   "source": [
    "## Read rules from all cubes and sort cubes by some metrics (Number rows, Number feeders,... )"
   ]
  },
  {
   "cell_type": "code",
   "execution_count": 22,
   "metadata": {},
   "outputs": [],
   "source": [
    "import pandas as pd\n",
    "import configparser\n",
    "import TM1py\n",
    "from TM1py.Services import TM1Service\n",
    "config = configparser.ConfigParser()\n",
    "config.read(r'../config.ini')\n",
    "tm1 = TM1Service(**config['tm1srv02'])"
   ]
  },
  {
   "cell_type": "code",
   "execution_count": 10,
   "metadata": {},
   "outputs": [],
   "source": [
    "from TM1py.Services import TM1Service\n",
    "from TM1py.Utils.Utils import build_pandas_dataframe_from_cellset\n",
    "from TM1py.Utils.Utils import build_cellset_from_pandas_dataframe"
   ]
  },
  {
   "cell_type": "code",
   "execution_count": 2,
   "metadata": {},
   "outputs": [],
   "source": [
    "dimension_name = 'Region'\n",
    "tm1.dimensions.get(dimension_name=dimension_name).name\n",
    "tm1_master = TM1Service(**config['tm1srv01'])\n",
    "tm1_other = TM1Service(**config['tm1srv02'])\n",
    "\n",
    "# while True:\n",
    "dimension_master = tm1_master.dimensions.get(dimension_name=\"dimension_test\")"
   ]
  },
  {
   "cell_type": "code",
   "execution_count": 29,
   "metadata": {},
   "outputs": [
    {
     "data": {
      "text/plain": [
       "'ElementAttributes_dimension_test'"
      ]
     },
     "execution_count": 29,
     "metadata": {},
     "output_type": "execute_result"
    }
   ],
   "source": [
    "cube_name=f'ElementAttributes_{dimension_master.name}'\n",
    "cube_name"
   ]
  },
  {
   "cell_type": "code",
   "execution_count": 75,
   "metadata": {},
   "outputs": [],
   "source": [
    "cube_name = '}ElementAttributes_dimension_test'\n",
    "cube_dimensions_names = tm1.cubes.get_dimension_names(cube_name=cube_name)\n",
    "tm1.cubes.views.create()"
   ]
  },
  {
   "cell_type": "code",
   "execution_count": 58,
   "metadata": {},
   "outputs": [],
   "source": [
    "elements_ = []\n",
    "for dimension_name in cube_dimensions_names:\n",
    "    elements = []\n",
    "    hierarchies = tm1.hierarchies.get_all_names(dimension_name=dimension_name)\n",
    "    elements += tm1.elements.get_element_names(dimension_name=dimension_name,hierarchy_name=hierarchies[0])\n",
    "    elements_ += [elements]"
   ]
  },
  {
   "cell_type": "code",
   "execution_count": 29,
   "metadata": {},
   "outputs": [
    {
     "data": {
      "text/plain": [
       "['Commissions',\n",
       " 'Customer_Churn',\n",
       " 'Expenses',\n",
       " 'Franchise_Revenue',\n",
       " 'Franchise_Revenue2',\n",
       " 'Franchise_Revenue3',\n",
       " 'Income_Statement',\n",
       " 'Price_and_Cost',\n",
       " 'Rules',\n",
       " 'Sales_Plan',\n",
       " 'Spread_Profile_SubsByMonth',\n",
       " 'Spread_Profile_Subsidiary',\n",
       " 'Spread_Profiles',\n",
       " 'zRate',\n",
       " 'zTime_Navigation',\n",
       " '}appClientProperties',\n",
       " '}Capabilities',\n",
       " '}CellSecurity_}tp_application_root_permissions',\n",
       " '}ChoreSecurity',\n",
       " '}ClientCAMAssociatedGroups',\n",
       " '}ClientGroups',\n",
       " '}ClientProperties',\n",
       " '}ClientSettings',\n",
       " '}CubeAttributes',\n",
       " '}CubeCaptions',\n",
       " '}CubeDrill_Commissions',\n",
       " '}CubeDrill_Sales_Plan',\n",
       " '}CubeProperties',\n",
       " '}CubeSecurity',\n",
       " '}CubeSecurityProperties',\n",
       " '}DimensionAttributes',\n",
       " '}DimensionCaptions',\n",
       " '}DimensionProperties',\n",
       " '}DimensionSecurity',\n",
       " '}ElementAttributes_Channels',\n",
       " '}ElementAttributes_Churn_Measures',\n",
       " '}ElementAttributes_Commission_Measures',\n",
       " '}ElementAttributes_Currency',\n",
       " '}ElementAttributes_CurrencyConvertTo',\n",
       " '}ElementAttributes_CurrencyType',\n",
       " '}ElementAttributes_dimension_test',\n",
       " '}ElementAttributes_Expense_Measures',\n",
       " '}ElementAttributes_Expenses',\n",
       " '}ElementAttributes_Franchise_Revenue_Measures',\n",
       " '}ElementAttributes_Income_Statement_Accounts',\n",
       " '}ElementAttributes_Income_Statement_Measures',\n",
       " '}ElementAttributes_Months',\n",
       " '}ElementAttributes_Price_and_Cost_Measures',\n",
       " '}ElementAttributes_Products',\n",
       " '}ElementAttributes_Sales_Plan_Measures',\n",
       " '}ElementAttributes_SL_Time',\n",
       " '}ElementAttributes_SpreadMethod',\n",
       " '}ElementAttributes_Subsidiaries',\n",
       " '}ElementAttributes_Time_Navigation',\n",
       " '}ElementAttributes_UnevenSubsidiary',\n",
       " '}ElementAttributes_Versions',\n",
       " '}ElementAttributes_Years',\n",
       " '}ElementAttributes_}Clients',\n",
       " '}ElementAttributes_}Cultures',\n",
       " '}ElementAttributes_}DeployedLinkRecord',\n",
       " '}ElementAttributes_}DimensionProperties',\n",
       " '}ElementAttributes_}formatTesterDimensionA',\n",
       " '}ElementAttributes_}formatTesterDimensionB',\n",
       " '}ElementAttributes_}Groups',\n",
       " '}ElementAttributes_}Modeling',\n",
       " '}ElementAttributes_}ModelProperties',\n",
       " '}ElementAttributes_}Processes',\n",
       " '}ElementAttributes_}ProgressTimings',\n",
       " '}ElementAttributes_}sm_client_properties',\n",
       " '}ElementAttributes_}sm_control_attribute_types',\n",
       " '}ElementAttributes_}sm_control_attributes',\n",
       " '}ElementAttributes_}sm_control_list_values',\n",
       " '}ElementAttributes_}sm_control_task_attributes',\n",
       " '}ElementAttributes_}sm_controls',\n",
       " '}ElementAttributes_}sm_plans',\n",
       " '}ElementAttributes_}sm_simple_tasks',\n",
       " '}ElementAttributes_}sm_task_action',\n",
       " '}ElementAttributes_}sm_task_status',\n",
       " '}ElementAttributes_}sm_task_type',\n",
       " '}ElementAttributes_}sm_templates',\n",
       " '}ElementAttributes_}sm_templatetasks@Versions',\n",
       " '}ElementAttributes_}sm_user_role',\n",
       " '}ElementAttributes_}sm_version_security_setting',\n",
       " '}ElementAttributes_}sm_version_status',\n",
       " '}ElementAttributes_}sm_versions@Versions',\n",
       " '}ElementAttributes_}sm_versiontasks@Versions@Budget Version 3',\n",
       " '}ElementAttributes_}Subsets_Products',\n",
       " '}ElementAttributes_}tp_applications',\n",
       " '}ElementAttributes_}tp_config',\n",
       " '}ElementAttributes_}tp_process_errors_localization',\n",
       " '}ElementAttributes_}tp_system_config',\n",
       " '}ElementCaptions',\n",
       " '}ElementCaptionsByDimension',\n",
       " '}ElementSecurity_}tp_applications',\n",
       " '}formatTesterCube',\n",
       " '}HierarchyProperties',\n",
       " '}PickList_Expenses',\n",
       " '}PickList_}DimensionProperties',\n",
       " '}PlanningControl',\n",
       " '}ProcessSecurity',\n",
       " '}sm_client_properties',\n",
       " '}sm_control_attribute_settings',\n",
       " '}sm_task_status_action',\n",
       " '}sm_templatebindings@Versions',\n",
       " '}sm_versionbindings@Versions@Budget Version 3',\n",
       " '}sm_versiontaskstatuses@Versions',\n",
       " '}StatsByChore',\n",
       " '}StatsByClient',\n",
       " '}StatsByCube',\n",
       " '}StatsByCubeByClient',\n",
       " '}StatsByProcess',\n",
       " '}StatsByRule',\n",
       " '}StatsForServer',\n",
       " '}tp_app_user_preferences',\n",
       " '}tp_application_cubes',\n",
       " '}tp_application_jobs',\n",
       " '}tp_application_root_permissions',\n",
       " '}tp_central_application_state',\n",
       " '}tp_process_errors',\n",
       " '}tp_workflow_action_TI']"
      ]
     },
     "execution_count": 29,
     "metadata": {},
     "output_type": "execute_result"
    }
   ],
   "source": [
    "tm1.cubes.get_all_names()"
   ]
  },
  {
   "cell_type": "code",
   "execution_count": 73,
   "metadata": {},
   "outputs": [],
   "source": [
    "dataframe = tm1.cubes.cells.execute_view_raw(cube_name='Sales_Plan',view_name=\"TM1View\",skip_zeros=False)"
   ]
  },
  {
   "cell_type": "code",
   "execution_count": 81,
   "metadata": {},
   "outputs": [
    {
     "name": "stdout",
     "output_type": "stream",
     "text": [
      "| Subsidiaries       | Channels     | Products     | Months     | Versions         | KPI      |   Values |\n",
      "|:-------------------|:-------------|:-------------|:-----------|:-----------------|:---------|---------:|\n",
      "| GO AMERICAS REGION | ALL CHANNELS | Cooking Gear | Jan        | Budget Version 1 | Quantity |    20218 |\n",
      "| GO AMERICAS REGION | ALL CHANNELS | Cooking Gear | Feb        | Budget Version 1 | Quantity |    27634 |\n",
      "| GO AMERICAS REGION | ALL CHANNELS | Cooking Gear | Mar        | Budget Version 1 | Quantity |    25927 |\n",
      "| GO AMERICAS REGION | ALL CHANNELS | Cooking Gear | Apr        | Budget Version 1 | Quantity |    12340 |\n",
      "| GO AMERICAS REGION | ALL CHANNELS | Cooking Gear | May        | Budget Version 1 | Quantity |     7615 |\n",
      "| GO AMERICAS REGION | ALL CHANNELS | Cooking Gear | Jun        | Budget Version 1 | Quantity |    16540 |\n",
      "| GO AMERICAS REGION | ALL CHANNELS | Cooking Gear | Jul        | Budget Version 1 | Quantity |     5841 |\n",
      "| GO AMERICAS REGION | ALL CHANNELS | Cooking Gear | Aug        | Budget Version 1 | Quantity |     6827 |\n",
      "| GO AMERICAS REGION | ALL CHANNELS | Cooking Gear | Sep        | Budget Version 1 | Quantity |     9518 |\n",
      "| GO AMERICAS REGION | ALL CHANNELS | Cooking Gear | Oct        | Budget Version 1 | Quantity |    11356 |\n",
      "| GO AMERICAS REGION | ALL CHANNELS | Cooking Gear | Nov        | Budget Version 1 | Quantity |     4792 |\n",
      "| GO AMERICAS REGION | ALL CHANNELS | Cooking Gear | Dec        | Budget Version 1 | Quantity |    12471 |\n",
      "| GO AMERICAS REGION | ALL CHANNELS | Cooking Gear | Total Year | Budget Version 1 | Quantity |   161079 |\n"
     ]
    }
   ],
   "source": [
    "data = tm1.cubes.cells.execute_view(cube_name='Sales_Plan', view_name='TM1View',skip_zeros=False)\n",
    "df = build_pandas_dataframe_from_cellset(data, multiindex=False, sort_values=False)\n",
    "data_list = [{item: value} for item,value in data.items()]\n",
    "df = df.rename({'Sales_Plan_Measures':'KPI'},axis=1)\n",
    "df_md = df.to_markdown(index=False)\n",
    "print(df_md)"
   ]
  },
  {
   "cell_type": "code",
   "execution_count": 88,
   "metadata": {},
   "outputs": [
    {
     "name": "stderr",
     "output_type": "stream",
     "text": [
      "<>:1: SyntaxWarning: invalid escape sequence '\\O'\n",
      "<>:1: SyntaxWarning: invalid escape sequence '\\O'\n",
      "C:\\Users\\ErwanTang\\AppData\\Local\\Temp\\ipykernel_2348\\841774845.py:1: SyntaxWarning: invalid escape sequence '\\O'\n",
      "  dataframe.to_csv('..\\Outputs\\exports_csv',index=False)\n"
     ]
    }
   ],
   "source": [
    "dataframe.to_csv('..\\Outputs\\exports_csv',index=False)"
   ]
  },
  {
   "cell_type": "code",
   "execution_count": 22,
   "metadata": {},
   "outputs": [
    {
     "name": "stdout",
     "output_type": "stream",
     "text": [
      "Hierarchy Name: Region\n",
      "-- World\n",
      "---- Europe\n",
      "------ Scandinavia\n",
      "-------- Denmark\n",
      "-------- Norway\n",
      "-------- Sweden\n",
      "------ Benelux\n",
      "-------- Belgium\n",
      "-------- Luxemburg\n",
      "-------- Netherlands\n",
      "------ Islands\n",
      "-------- Great Britain\n",
      "-------- Ireland\n",
      "------ Central Europe\n",
      "-------- France\n",
      "-------- Germany\n",
      "------ Iberia\n",
      "-------- Portugal\n",
      "-------- Spain\n",
      "------ Southern Europe\n",
      "-------- Greece\n",
      "-------- Italy\n",
      "------ Americas\n",
      "-------- North America\n",
      "---------- Canada\n",
      "---------- Mexico\n",
      "---------- United States\n",
      "-------- South America\n",
      "---------- Argentina\n",
      "---------- Brazil\n",
      "---------- Chile\n",
      "---------- Uruguay\n",
      "Hierarchy Name: By Vice President\n",
      "-- Uruguay\n",
      "-- Chile\n",
      "-- Brazil\n",
      "-- Argentina\n",
      "-- United States\n",
      "-- Mexico\n",
      "-- Canada\n",
      "-- Italy\n",
      "-- Greece\n",
      "-- Spain\n",
      "-- Portugal\n",
      "-- Germany\n",
      "-- France\n",
      "-- Ireland\n",
      "-- Great Britain\n",
      "-- Netherlands\n",
      "-- Luxemburg\n",
      "-- Belgium\n",
      "-- Sweden\n",
      " VP2\n",
      "-- Norway\n",
      " VP1\n",
      "-- Denmark\n",
      " All By Vice President\n",
      "Hierarchy Name: H2 Reorg\n",
      "-- Uruguay\n",
      "-- Chile\n",
      "-- Brazil\n",
      " All H2 Reorg\n",
      "-- Americas\n",
      "---- South America\n",
      "------ Argentina\n",
      "------ United States\n",
      "------ Mexico\n",
      "---- North America\n",
      "------ Canada\n",
      "------ Italy\n",
      "---- Southern Europe\n",
      "------ Greece\n",
      "------ Spain\n",
      "---- Iberia\n",
      "------ Portugal\n",
      "------ Germany\n",
      "---- Central Europe\n",
      "------ France\n",
      "------ Ireland\n",
      "---- Islands\n",
      "------ Great Britain\n",
      "------ Netherlands\n",
      "------ Luxemburg\n",
      "---- Benelux\n",
      "------ Belgium\n",
      "------ Sweden\n",
      "------ Norway\n",
      "---- Scandinavia\n",
      "------ Denmark\n",
      "---- Europe\n",
      "Hierarchy Name: Hiérarchie_adel_test\n",
      "Hierarchy Name: Leaves\n",
      "-- Denmark\n",
      "-- Norway\n",
      "-- Sweden\n",
      "-- Belgium\n",
      "-- Luxemburg\n",
      "-- Netherlands\n",
      "-- Great Britain\n",
      "-- Ireland\n",
      "-- France\n",
      "-- Germany\n",
      "-- Portugal\n",
      "-- Spain\n",
      "-- Greece\n",
      "-- Italy\n",
      "-- Canada\n",
      "-- Mexico\n",
      "-- United States\n",
      "-- Argentina\n",
      "-- Brazil\n",
      "-- Chile\n",
      "-- Uruguay\n"
     ]
    }
   ],
   "source": [
    "dimension_name = 'Region'\n",
    "for hierarchy in tm1.dimensions.get(dimension_name=dimension_name):\n",
    "    print('Hierarchy Name: {}'.format(hierarchy.name))\n",
    "    start = 0\n",
    "    current_level = start\n",
    "    current_type = 'Consolidated'\n",
    "    previous_type = current_type[:]\n",
    "    # iterate through Elements in hierarchy\n",
    "    for element in hierarchy:\n",
    "        current_type = element.element_type\n",
    "        if str(previous_type) == 'Consolidated':\n",
    "            current_level += 1\n",
    "        else:\n",
    "            if str(current_type) == 'Consolidated':\n",
    "                current_level -= 1\n",
    "        level_string = '--'*current_level\n",
    "        previous_type = current_type\n",
    "        print(level_string,element.name)"
   ]
  },
  {
   "cell_type": "code",
   "execution_count": 60,
   "metadata": {},
   "outputs": [
    {
     "data": {
      "text/plain": [
       "{'South America': ['Uruguay', 'Chile', 'Brazil'],\n",
       " 'All H2 Reorg': ['Americas', 'Europe'],\n",
       " 'Americas': ['South America', 'North America'],\n",
       " 'North America': ['Argentina', 'United States', 'Mexico', 'Canada'],\n",
       " 'Southern Europe': ['Italy', 'Greece'],\n",
       " 'Europe': ['Southern Europe',\n",
       "  'Iberia',\n",
       "  'Central Europe',\n",
       "  'Islands',\n",
       "  'Benelux',\n",
       "  'Scandinavia'],\n",
       " 'Iberia': ['Spain', 'Portugal'],\n",
       " 'Central Europe': ['Germany', 'France'],\n",
       " 'Islands': ['Ireland', 'Great Britain'],\n",
       " 'Benelux': ['Netherlands', 'Luxemburg', 'Belgium'],\n",
       " 'Scandinavia': ['Sweden', 'Norway', 'Denmark']}"
      ]
     },
     "execution_count": 60,
     "metadata": {},
     "output_type": "execute_result"
    }
   ],
   "source": [
    "reordered_parents"
   ]
  },
  {
   "cell_type": "code",
   "execution_count": 59,
   "metadata": {},
   "outputs": [
    {
     "data": {
      "text/plain": [
       "['South America',\n",
       " 'North America',\n",
       " 'Southern Europe',\n",
       " 'Iberia',\n",
       " 'Central Europe',\n",
       " 'Islands',\n",
       " 'Benelux',\n",
       " 'Scandinavia',\n",
       " 'Uruguay',\n",
       " 'Chile',\n",
       " 'Brazil',\n",
       " 'Argentina',\n",
       " 'United States',\n",
       " 'Mexico',\n",
       " 'Canada',\n",
       " 'Italy',\n",
       " 'Greece',\n",
       " 'Spain',\n",
       " 'Portugal',\n",
       " 'Germany',\n",
       " 'France',\n",
       " 'Ireland',\n",
       " 'Great Britain',\n",
       " 'Netherlands',\n",
       " 'Luxemburg',\n",
       " 'Belgium',\n",
       " 'Sweden',\n",
       " 'Norway',\n",
       " 'Denmark']"
      ]
     },
     "execution_count": 59,
     "metadata": {},
     "output_type": "execute_result"
    }
   ],
   "source": [
    "consolidated_elements = {}\n",
    "for key,val in reordered_parents.items():\n",
    "    for val2 in reordered_parents[key]:\n",
    "        if val2 in reordered_parents.keys() :\n",
    "            consolidated_elements += reordered_parents[val2]\n",
    "\n",
    "        #     val2.replace(key,val)\n",
    "consolidated_elements"
   ]
  },
  {
   "cell_type": "code",
   "execution_count": 58,
   "metadata": {},
   "outputs": [
    {
     "name": "stdout",
     "output_type": "stream",
     "text": [
      "All H2 Reorg\n"
     ]
    }
   ],
   "source": [
    "dict_parents = tm1.elements.get_parents_of_all_elements(dimension_name=dimension_name,hierarchy_name='H2 Reorg')\n",
    "reordered_parents = {}\n",
    "for key,val in dict_parents.items():\n",
    "    if val:\n",
    "        if val[0] not in reordered_parents.keys():\n",
    "            reordered_parents[val[0]] = [key]\n",
    "        else:\n",
    "            reordered_parents[val[0]] += [key]\n",
    "    else:\n",
    "        root = key\n",
    "\n",
    "print(root)"
   ]
  },
  {
   "cell_type": "code",
   "execution_count": 100,
   "metadata": {},
   "outputs": [
    {
     "name": "stdout",
     "output_type": "stream",
     "text": [
      "{\"Name\": \"H2 Reorg\", \"Type\": \"String\"}\n",
      "{\"Name\": \"By Vice President\", \"Type\": \"String\"}\n",
      "{\"Name\": \"H2 Reorg\", \"Type\": \"String\"}\n",
      "{\"Name\": \"By Vice President\", \"Type\": \"String\"}\n",
      "{\"Name\": \"H2 Reorg\", \"Type\": \"String\"}\n",
      "{\"Name\": \"By Vice President\", \"Type\": \"String\"}\n",
      "{\"Name\": \"H2 Reorg\", \"Type\": \"String\"}\n",
      "{\"Name\": \"By Vice President\", \"Type\": \"String\"}\n",
      "{\"Name\": \"H2 Reorg\", \"Type\": \"String\"}\n",
      "{\"Name\": \"By Vice President\", \"Type\": \"String\"}\n"
     ]
    }
   ],
   "source": [
    "dimension_name = 'Region'\n",
    "\n",
    "for hierarchy in tm1.dimensions.get(dimension_name=dimension_name):\n",
    "    # print(hierarchy.name)\n",
    "    parents_dict = dict(hierarchy.edges).keys()\n",
    "    new_dict = {}\n",
    "    keys = [tup[0] for tup in parents_dict]\n",
    "    values = set([tup[1] for tup in parents_dict])\n",
    "    # print(keys)\n",
    "    # print(values)\n",
    "    # print(list(parents_dict))\n",
    "    # print(tm1.elements.get_element_attributes(dimension_name=dimension_name, hierarchy_name=hierarchy.name))\n",
    "    for attribute in tm1.elements.get_element_attributes(dimension_name=dimension_name, hierarchy_name=hierarchy.name):\n",
    "        print(attribute)\n",
    "    # for attribute in tm1.elements.get_element_attributes(dimension_name=dimension_name, hierarchy_name=hierarchy.name):\n",
    "    #     print(tm1.elements.get_attribute_of_elements(dimension_name=dimension_name, hierarchy_name=hierarchy.name, elements=tm1.elements.get_element_names(dimension_name=dimension_name, hierarchy_name=hierarchy.name),attribute=attribute))"
   ]
  },
  {
   "cell_type": "code",
   "execution_count": 64,
   "metadata": {},
   "outputs": [
    {
     "name": "stdout",
     "output_type": "stream",
     "text": [
      "Hierarchy\n",
      "Region\n",
      "|- Europe\n",
      "{'World': [], 'Europe': ['World'], 'Scandinavia': ['Europe'], 'Denmark': ['Scandinavia'], 'Norway': ['Scandinavia'], 'Sweden': ['Scandinavia'], 'Benelux': ['Europe'], 'Belgium': ['Benelux'], 'Luxemburg': ['Benelux'], 'Netherlands': ['Benelux'], 'Islands': ['Europe'], 'Great Britain': ['Islands'], 'Ireland': ['Islands'], 'Central Europe': ['Europe'], 'France': ['Central Europe'], 'Germany': ['Central Europe'], 'Iberia': ['Europe'], 'Portugal': ['Iberia'], 'Spain': ['Iberia'], 'Southern Europe': ['Europe'], 'Greece': ['Southern Europe'], 'Italy': ['Southern Europe'], 'Americas': ['World'], 'North America': ['Americas'], 'Canada': ['North America'], 'Mexico': ['North America'], 'United States': ['North America'], 'South America': ['Americas'], 'Argentina': ['South America'], 'Brazil': ['South America'], 'Chile': ['South America'], 'Uruguay': ['South America']}\n",
      "4\n",
      "|- Americas\n",
      "{'World': [], 'Europe': ['World'], 'Scandinavia': ['Europe'], 'Denmark': ['Scandinavia'], 'Norway': ['Scandinavia'], 'Sweden': ['Scandinavia'], 'Benelux': ['Europe'], 'Belgium': ['Benelux'], 'Luxemburg': ['Benelux'], 'Netherlands': ['Benelux'], 'Islands': ['Europe'], 'Great Britain': ['Islands'], 'Ireland': ['Islands'], 'Central Europe': ['Europe'], 'France': ['Central Europe'], 'Germany': ['Central Europe'], 'Iberia': ['Europe'], 'Portugal': ['Iberia'], 'Spain': ['Iberia'], 'Southern Europe': ['Europe'], 'Greece': ['Southern Europe'], 'Italy': ['Southern Europe'], 'Americas': ['World'], 'North America': ['Americas'], 'Canada': ['North America'], 'Mexico': ['North America'], 'United States': ['North America'], 'South America': ['Americas'], 'Argentina': ['South America'], 'Brazil': ['South America'], 'Chile': ['South America'], 'Uruguay': ['South America']}\n",
      "4\n",
      "|- Scandinavia\n",
      "{'World': [], 'Europe': ['World'], 'Scandinavia': ['Europe'], 'Denmark': ['Scandinavia'], 'Norway': ['Scandinavia'], 'Sweden': ['Scandinavia'], 'Benelux': ['Europe'], 'Belgium': ['Benelux'], 'Luxemburg': ['Benelux'], 'Netherlands': ['Benelux'], 'Islands': ['Europe'], 'Great Britain': ['Islands'], 'Ireland': ['Islands'], 'Central Europe': ['Europe'], 'France': ['Central Europe'], 'Germany': ['Central Europe'], 'Iberia': ['Europe'], 'Portugal': ['Iberia'], 'Spain': ['Iberia'], 'Southern Europe': ['Europe'], 'Greece': ['Southern Europe'], 'Italy': ['Southern Europe'], 'Americas': ['World'], 'North America': ['Americas'], 'Canada': ['North America'], 'Mexico': ['North America'], 'United States': ['North America'], 'South America': ['Americas'], 'Argentina': ['South America'], 'Brazil': ['South America'], 'Chile': ['South America'], 'Uruguay': ['South America']}\n",
      "4\n",
      "|- Benelux\n",
      "{'World': [], 'Europe': ['World'], 'Scandinavia': ['Europe'], 'Denmark': ['Scandinavia'], 'Norway': ['Scandinavia'], 'Sweden': ['Scandinavia'], 'Benelux': ['Europe'], 'Belgium': ['Benelux'], 'Luxemburg': ['Benelux'], 'Netherlands': ['Benelux'], 'Islands': ['Europe'], 'Great Britain': ['Islands'], 'Ireland': ['Islands'], 'Central Europe': ['Europe'], 'France': ['Central Europe'], 'Germany': ['Central Europe'], 'Iberia': ['Europe'], 'Portugal': ['Iberia'], 'Spain': ['Iberia'], 'Southern Europe': ['Europe'], 'Greece': ['Southern Europe'], 'Italy': ['Southern Europe'], 'Americas': ['World'], 'North America': ['Americas'], 'Canada': ['North America'], 'Mexico': ['North America'], 'United States': ['North America'], 'South America': ['Americas'], 'Argentina': ['South America'], 'Brazil': ['South America'], 'Chile': ['South America'], 'Uruguay': ['South America']}\n",
      "4\n",
      "|- Islands\n",
      "{'World': [], 'Europe': ['World'], 'Scandinavia': ['Europe'], 'Denmark': ['Scandinavia'], 'Norway': ['Scandinavia'], 'Sweden': ['Scandinavia'], 'Benelux': ['Europe'], 'Belgium': ['Benelux'], 'Luxemburg': ['Benelux'], 'Netherlands': ['Benelux'], 'Islands': ['Europe'], 'Great Britain': ['Islands'], 'Ireland': ['Islands'], 'Central Europe': ['Europe'], 'France': ['Central Europe'], 'Germany': ['Central Europe'], 'Iberia': ['Europe'], 'Portugal': ['Iberia'], 'Spain': ['Iberia'], 'Southern Europe': ['Europe'], 'Greece': ['Southern Europe'], 'Italy': ['Southern Europe'], 'Americas': ['World'], 'North America': ['Americas'], 'Canada': ['North America'], 'Mexico': ['North America'], 'United States': ['North America'], 'South America': ['Americas'], 'Argentina': ['South America'], 'Brazil': ['South America'], 'Chile': ['South America'], 'Uruguay': ['South America']}\n",
      "4\n",
      "|- Central Europe\n",
      "{'World': [], 'Europe': ['World'], 'Scandinavia': ['Europe'], 'Denmark': ['Scandinavia'], 'Norway': ['Scandinavia'], 'Sweden': ['Scandinavia'], 'Benelux': ['Europe'], 'Belgium': ['Benelux'], 'Luxemburg': ['Benelux'], 'Netherlands': ['Benelux'], 'Islands': ['Europe'], 'Great Britain': ['Islands'], 'Ireland': ['Islands'], 'Central Europe': ['Europe'], 'France': ['Central Europe'], 'Germany': ['Central Europe'], 'Iberia': ['Europe'], 'Portugal': ['Iberia'], 'Spain': ['Iberia'], 'Southern Europe': ['Europe'], 'Greece': ['Southern Europe'], 'Italy': ['Southern Europe'], 'Americas': ['World'], 'North America': ['Americas'], 'Canada': ['North America'], 'Mexico': ['North America'], 'United States': ['North America'], 'South America': ['Americas'], 'Argentina': ['South America'], 'Brazil': ['South America'], 'Chile': ['South America'], 'Uruguay': ['South America']}\n",
      "4\n",
      "|- Iberia\n",
      "{'World': [], 'Europe': ['World'], 'Scandinavia': ['Europe'], 'Denmark': ['Scandinavia'], 'Norway': ['Scandinavia'], 'Sweden': ['Scandinavia'], 'Benelux': ['Europe'], 'Belgium': ['Benelux'], 'Luxemburg': ['Benelux'], 'Netherlands': ['Benelux'], 'Islands': ['Europe'], 'Great Britain': ['Islands'], 'Ireland': ['Islands'], 'Central Europe': ['Europe'], 'France': ['Central Europe'], 'Germany': ['Central Europe'], 'Iberia': ['Europe'], 'Portugal': ['Iberia'], 'Spain': ['Iberia'], 'Southern Europe': ['Europe'], 'Greece': ['Southern Europe'], 'Italy': ['Southern Europe'], 'Americas': ['World'], 'North America': ['Americas'], 'Canada': ['North America'], 'Mexico': ['North America'], 'United States': ['North America'], 'South America': ['Americas'], 'Argentina': ['South America'], 'Brazil': ['South America'], 'Chile': ['South America'], 'Uruguay': ['South America']}\n",
      "4\n",
      "|- Southern Europe\n",
      "{'World': [], 'Europe': ['World'], 'Scandinavia': ['Europe'], 'Denmark': ['Scandinavia'], 'Norway': ['Scandinavia'], 'Sweden': ['Scandinavia'], 'Benelux': ['Europe'], 'Belgium': ['Benelux'], 'Luxemburg': ['Benelux'], 'Netherlands': ['Benelux'], 'Islands': ['Europe'], 'Great Britain': ['Islands'], 'Ireland': ['Islands'], 'Central Europe': ['Europe'], 'France': ['Central Europe'], 'Germany': ['Central Europe'], 'Iberia': ['Europe'], 'Portugal': ['Iberia'], 'Spain': ['Iberia'], 'Southern Europe': ['Europe'], 'Greece': ['Southern Europe'], 'Italy': ['Southern Europe'], 'Americas': ['World'], 'North America': ['Americas'], 'Canada': ['North America'], 'Mexico': ['North America'], 'United States': ['North America'], 'South America': ['Americas'], 'Argentina': ['South America'], 'Brazil': ['South America'], 'Chile': ['South America'], 'Uruguay': ['South America']}\n",
      "4\n",
      "|- Denmark\n",
      "{'World': [], 'Europe': ['World'], 'Scandinavia': ['Europe'], 'Denmark': ['Scandinavia'], 'Norway': ['Scandinavia'], 'Sweden': ['Scandinavia'], 'Benelux': ['Europe'], 'Belgium': ['Benelux'], 'Luxemburg': ['Benelux'], 'Netherlands': ['Benelux'], 'Islands': ['Europe'], 'Great Britain': ['Islands'], 'Ireland': ['Islands'], 'Central Europe': ['Europe'], 'France': ['Central Europe'], 'Germany': ['Central Europe'], 'Iberia': ['Europe'], 'Portugal': ['Iberia'], 'Spain': ['Iberia'], 'Southern Europe': ['Europe'], 'Greece': ['Southern Europe'], 'Italy': ['Southern Europe'], 'Americas': ['World'], 'North America': ['Americas'], 'Canada': ['North America'], 'Mexico': ['North America'], 'United States': ['North America'], 'South America': ['Americas'], 'Argentina': ['South America'], 'Brazil': ['South America'], 'Chile': ['South America'], 'Uruguay': ['South America']}\n",
      "4\n",
      "|- Norway\n",
      "{'World': [], 'Europe': ['World'], 'Scandinavia': ['Europe'], 'Denmark': ['Scandinavia'], 'Norway': ['Scandinavia'], 'Sweden': ['Scandinavia'], 'Benelux': ['Europe'], 'Belgium': ['Benelux'], 'Luxemburg': ['Benelux'], 'Netherlands': ['Benelux'], 'Islands': ['Europe'], 'Great Britain': ['Islands'], 'Ireland': ['Islands'], 'Central Europe': ['Europe'], 'France': ['Central Europe'], 'Germany': ['Central Europe'], 'Iberia': ['Europe'], 'Portugal': ['Iberia'], 'Spain': ['Iberia'], 'Southern Europe': ['Europe'], 'Greece': ['Southern Europe'], 'Italy': ['Southern Europe'], 'Americas': ['World'], 'North America': ['Americas'], 'Canada': ['North America'], 'Mexico': ['North America'], 'United States': ['North America'], 'South America': ['Americas'], 'Argentina': ['South America'], 'Brazil': ['South America'], 'Chile': ['South America'], 'Uruguay': ['South America']}\n",
      "4\n",
      "|- Sweden\n",
      "{'World': [], 'Europe': ['World'], 'Scandinavia': ['Europe'], 'Denmark': ['Scandinavia'], 'Norway': ['Scandinavia'], 'Sweden': ['Scandinavia'], 'Benelux': ['Europe'], 'Belgium': ['Benelux'], 'Luxemburg': ['Benelux'], 'Netherlands': ['Benelux'], 'Islands': ['Europe'], 'Great Britain': ['Islands'], 'Ireland': ['Islands'], 'Central Europe': ['Europe'], 'France': ['Central Europe'], 'Germany': ['Central Europe'], 'Iberia': ['Europe'], 'Portugal': ['Iberia'], 'Spain': ['Iberia'], 'Southern Europe': ['Europe'], 'Greece': ['Southern Europe'], 'Italy': ['Southern Europe'], 'Americas': ['World'], 'North America': ['Americas'], 'Canada': ['North America'], 'Mexico': ['North America'], 'United States': ['North America'], 'South America': ['Americas'], 'Argentina': ['South America'], 'Brazil': ['South America'], 'Chile': ['South America'], 'Uruguay': ['South America']}\n",
      "4\n",
      "|- Luxemburg\n",
      "{'World': [], 'Europe': ['World'], 'Scandinavia': ['Europe'], 'Denmark': ['Scandinavia'], 'Norway': ['Scandinavia'], 'Sweden': ['Scandinavia'], 'Benelux': ['Europe'], 'Belgium': ['Benelux'], 'Luxemburg': ['Benelux'], 'Netherlands': ['Benelux'], 'Islands': ['Europe'], 'Great Britain': ['Islands'], 'Ireland': ['Islands'], 'Central Europe': ['Europe'], 'France': ['Central Europe'], 'Germany': ['Central Europe'], 'Iberia': ['Europe'], 'Portugal': ['Iberia'], 'Spain': ['Iberia'], 'Southern Europe': ['Europe'], 'Greece': ['Southern Europe'], 'Italy': ['Southern Europe'], 'Americas': ['World'], 'North America': ['Americas'], 'Canada': ['North America'], 'Mexico': ['North America'], 'United States': ['North America'], 'South America': ['Americas'], 'Argentina': ['South America'], 'Brazil': ['South America'], 'Chile': ['South America'], 'Uruguay': ['South America']}\n",
      "4\n",
      "|- Netherlands\n",
      "{'World': [], 'Europe': ['World'], 'Scandinavia': ['Europe'], 'Denmark': ['Scandinavia'], 'Norway': ['Scandinavia'], 'Sweden': ['Scandinavia'], 'Benelux': ['Europe'], 'Belgium': ['Benelux'], 'Luxemburg': ['Benelux'], 'Netherlands': ['Benelux'], 'Islands': ['Europe'], 'Great Britain': ['Islands'], 'Ireland': ['Islands'], 'Central Europe': ['Europe'], 'France': ['Central Europe'], 'Germany': ['Central Europe'], 'Iberia': ['Europe'], 'Portugal': ['Iberia'], 'Spain': ['Iberia'], 'Southern Europe': ['Europe'], 'Greece': ['Southern Europe'], 'Italy': ['Southern Europe'], 'Americas': ['World'], 'North America': ['Americas'], 'Canada': ['North America'], 'Mexico': ['North America'], 'United States': ['North America'], 'South America': ['Americas'], 'Argentina': ['South America'], 'Brazil': ['South America'], 'Chile': ['South America'], 'Uruguay': ['South America']}\n",
      "4\n",
      "|- Belgium\n",
      "{'World': [], 'Europe': ['World'], 'Scandinavia': ['Europe'], 'Denmark': ['Scandinavia'], 'Norway': ['Scandinavia'], 'Sweden': ['Scandinavia'], 'Benelux': ['Europe'], 'Belgium': ['Benelux'], 'Luxemburg': ['Benelux'], 'Netherlands': ['Benelux'], 'Islands': ['Europe'], 'Great Britain': ['Islands'], 'Ireland': ['Islands'], 'Central Europe': ['Europe'], 'France': ['Central Europe'], 'Germany': ['Central Europe'], 'Iberia': ['Europe'], 'Portugal': ['Iberia'], 'Spain': ['Iberia'], 'Southern Europe': ['Europe'], 'Greece': ['Southern Europe'], 'Italy': ['Southern Europe'], 'Americas': ['World'], 'North America': ['Americas'], 'Canada': ['North America'], 'Mexico': ['North America'], 'United States': ['North America'], 'South America': ['Americas'], 'Argentina': ['South America'], 'Brazil': ['South America'], 'Chile': ['South America'], 'Uruguay': ['South America']}\n",
      "4\n",
      "|- Great Britain\n",
      "{'World': [], 'Europe': ['World'], 'Scandinavia': ['Europe'], 'Denmark': ['Scandinavia'], 'Norway': ['Scandinavia'], 'Sweden': ['Scandinavia'], 'Benelux': ['Europe'], 'Belgium': ['Benelux'], 'Luxemburg': ['Benelux'], 'Netherlands': ['Benelux'], 'Islands': ['Europe'], 'Great Britain': ['Islands'], 'Ireland': ['Islands'], 'Central Europe': ['Europe'], 'France': ['Central Europe'], 'Germany': ['Central Europe'], 'Iberia': ['Europe'], 'Portugal': ['Iberia'], 'Spain': ['Iberia'], 'Southern Europe': ['Europe'], 'Greece': ['Southern Europe'], 'Italy': ['Southern Europe'], 'Americas': ['World'], 'North America': ['Americas'], 'Canada': ['North America'], 'Mexico': ['North America'], 'United States': ['North America'], 'South America': ['Americas'], 'Argentina': ['South America'], 'Brazil': ['South America'], 'Chile': ['South America'], 'Uruguay': ['South America']}\n",
      "4\n",
      "|- Ireland\n",
      "{'World': [], 'Europe': ['World'], 'Scandinavia': ['Europe'], 'Denmark': ['Scandinavia'], 'Norway': ['Scandinavia'], 'Sweden': ['Scandinavia'], 'Benelux': ['Europe'], 'Belgium': ['Benelux'], 'Luxemburg': ['Benelux'], 'Netherlands': ['Benelux'], 'Islands': ['Europe'], 'Great Britain': ['Islands'], 'Ireland': ['Islands'], 'Central Europe': ['Europe'], 'France': ['Central Europe'], 'Germany': ['Central Europe'], 'Iberia': ['Europe'], 'Portugal': ['Iberia'], 'Spain': ['Iberia'], 'Southern Europe': ['Europe'], 'Greece': ['Southern Europe'], 'Italy': ['Southern Europe'], 'Americas': ['World'], 'North America': ['Americas'], 'Canada': ['North America'], 'Mexico': ['North America'], 'United States': ['North America'], 'South America': ['Americas'], 'Argentina': ['South America'], 'Brazil': ['South America'], 'Chile': ['South America'], 'Uruguay': ['South America']}\n",
      "4\n",
      "|- France\n",
      "{'World': [], 'Europe': ['World'], 'Scandinavia': ['Europe'], 'Denmark': ['Scandinavia'], 'Norway': ['Scandinavia'], 'Sweden': ['Scandinavia'], 'Benelux': ['Europe'], 'Belgium': ['Benelux'], 'Luxemburg': ['Benelux'], 'Netherlands': ['Benelux'], 'Islands': ['Europe'], 'Great Britain': ['Islands'], 'Ireland': ['Islands'], 'Central Europe': ['Europe'], 'France': ['Central Europe'], 'Germany': ['Central Europe'], 'Iberia': ['Europe'], 'Portugal': ['Iberia'], 'Spain': ['Iberia'], 'Southern Europe': ['Europe'], 'Greece': ['Southern Europe'], 'Italy': ['Southern Europe'], 'Americas': ['World'], 'North America': ['Americas'], 'Canada': ['North America'], 'Mexico': ['North America'], 'United States': ['North America'], 'South America': ['Americas'], 'Argentina': ['South America'], 'Brazil': ['South America'], 'Chile': ['South America'], 'Uruguay': ['South America']}\n",
      "4\n",
      "|- Germany\n",
      "{'World': [], 'Europe': ['World'], 'Scandinavia': ['Europe'], 'Denmark': ['Scandinavia'], 'Norway': ['Scandinavia'], 'Sweden': ['Scandinavia'], 'Benelux': ['Europe'], 'Belgium': ['Benelux'], 'Luxemburg': ['Benelux'], 'Netherlands': ['Benelux'], 'Islands': ['Europe'], 'Great Britain': ['Islands'], 'Ireland': ['Islands'], 'Central Europe': ['Europe'], 'France': ['Central Europe'], 'Germany': ['Central Europe'], 'Iberia': ['Europe'], 'Portugal': ['Iberia'], 'Spain': ['Iberia'], 'Southern Europe': ['Europe'], 'Greece': ['Southern Europe'], 'Italy': ['Southern Europe'], 'Americas': ['World'], 'North America': ['Americas'], 'Canada': ['North America'], 'Mexico': ['North America'], 'United States': ['North America'], 'South America': ['Americas'], 'Argentina': ['South America'], 'Brazil': ['South America'], 'Chile': ['South America'], 'Uruguay': ['South America']}\n",
      "4\n",
      "|- Portugal\n",
      "{'World': [], 'Europe': ['World'], 'Scandinavia': ['Europe'], 'Denmark': ['Scandinavia'], 'Norway': ['Scandinavia'], 'Sweden': ['Scandinavia'], 'Benelux': ['Europe'], 'Belgium': ['Benelux'], 'Luxemburg': ['Benelux'], 'Netherlands': ['Benelux'], 'Islands': ['Europe'], 'Great Britain': ['Islands'], 'Ireland': ['Islands'], 'Central Europe': ['Europe'], 'France': ['Central Europe'], 'Germany': ['Central Europe'], 'Iberia': ['Europe'], 'Portugal': ['Iberia'], 'Spain': ['Iberia'], 'Southern Europe': ['Europe'], 'Greece': ['Southern Europe'], 'Italy': ['Southern Europe'], 'Americas': ['World'], 'North America': ['Americas'], 'Canada': ['North America'], 'Mexico': ['North America'], 'United States': ['North America'], 'South America': ['Americas'], 'Argentina': ['South America'], 'Brazil': ['South America'], 'Chile': ['South America'], 'Uruguay': ['South America']}\n",
      "4\n",
      "|- Spain\n",
      "{'World': [], 'Europe': ['World'], 'Scandinavia': ['Europe'], 'Denmark': ['Scandinavia'], 'Norway': ['Scandinavia'], 'Sweden': ['Scandinavia'], 'Benelux': ['Europe'], 'Belgium': ['Benelux'], 'Luxemburg': ['Benelux'], 'Netherlands': ['Benelux'], 'Islands': ['Europe'], 'Great Britain': ['Islands'], 'Ireland': ['Islands'], 'Central Europe': ['Europe'], 'France': ['Central Europe'], 'Germany': ['Central Europe'], 'Iberia': ['Europe'], 'Portugal': ['Iberia'], 'Spain': ['Iberia'], 'Southern Europe': ['Europe'], 'Greece': ['Southern Europe'], 'Italy': ['Southern Europe'], 'Americas': ['World'], 'North America': ['Americas'], 'Canada': ['North America'], 'Mexico': ['North America'], 'United States': ['North America'], 'South America': ['Americas'], 'Argentina': ['South America'], 'Brazil': ['South America'], 'Chile': ['South America'], 'Uruguay': ['South America']}\n",
      "4\n",
      "|- Greece\n",
      "{'World': [], 'Europe': ['World'], 'Scandinavia': ['Europe'], 'Denmark': ['Scandinavia'], 'Norway': ['Scandinavia'], 'Sweden': ['Scandinavia'], 'Benelux': ['Europe'], 'Belgium': ['Benelux'], 'Luxemburg': ['Benelux'], 'Netherlands': ['Benelux'], 'Islands': ['Europe'], 'Great Britain': ['Islands'], 'Ireland': ['Islands'], 'Central Europe': ['Europe'], 'France': ['Central Europe'], 'Germany': ['Central Europe'], 'Iberia': ['Europe'], 'Portugal': ['Iberia'], 'Spain': ['Iberia'], 'Southern Europe': ['Europe'], 'Greece': ['Southern Europe'], 'Italy': ['Southern Europe'], 'Americas': ['World'], 'North America': ['Americas'], 'Canada': ['North America'], 'Mexico': ['North America'], 'United States': ['North America'], 'South America': ['Americas'], 'Argentina': ['South America'], 'Brazil': ['South America'], 'Chile': ['South America'], 'Uruguay': ['South America']}\n",
      "4\n",
      "|- Italy\n",
      "{'World': [], 'Europe': ['World'], 'Scandinavia': ['Europe'], 'Denmark': ['Scandinavia'], 'Norway': ['Scandinavia'], 'Sweden': ['Scandinavia'], 'Benelux': ['Europe'], 'Belgium': ['Benelux'], 'Luxemburg': ['Benelux'], 'Netherlands': ['Benelux'], 'Islands': ['Europe'], 'Great Britain': ['Islands'], 'Ireland': ['Islands'], 'Central Europe': ['Europe'], 'France': ['Central Europe'], 'Germany': ['Central Europe'], 'Iberia': ['Europe'], 'Portugal': ['Iberia'], 'Spain': ['Iberia'], 'Southern Europe': ['Europe'], 'Greece': ['Southern Europe'], 'Italy': ['Southern Europe'], 'Americas': ['World'], 'North America': ['Americas'], 'Canada': ['North America'], 'Mexico': ['North America'], 'United States': ['North America'], 'South America': ['Americas'], 'Argentina': ['South America'], 'Brazil': ['South America'], 'Chile': ['South America'], 'Uruguay': ['South America']}\n",
      "4\n",
      "|- North America\n",
      "{'World': [], 'Europe': ['World'], 'Scandinavia': ['Europe'], 'Denmark': ['Scandinavia'], 'Norway': ['Scandinavia'], 'Sweden': ['Scandinavia'], 'Benelux': ['Europe'], 'Belgium': ['Benelux'], 'Luxemburg': ['Benelux'], 'Netherlands': ['Benelux'], 'Islands': ['Europe'], 'Great Britain': ['Islands'], 'Ireland': ['Islands'], 'Central Europe': ['Europe'], 'France': ['Central Europe'], 'Germany': ['Central Europe'], 'Iberia': ['Europe'], 'Portugal': ['Iberia'], 'Spain': ['Iberia'], 'Southern Europe': ['Europe'], 'Greece': ['Southern Europe'], 'Italy': ['Southern Europe'], 'Americas': ['World'], 'North America': ['Americas'], 'Canada': ['North America'], 'Mexico': ['North America'], 'United States': ['North America'], 'South America': ['Americas'], 'Argentina': ['South America'], 'Brazil': ['South America'], 'Chile': ['South America'], 'Uruguay': ['South America']}\n",
      "4\n",
      "|- South America\n",
      "{'World': [], 'Europe': ['World'], 'Scandinavia': ['Europe'], 'Denmark': ['Scandinavia'], 'Norway': ['Scandinavia'], 'Sweden': ['Scandinavia'], 'Benelux': ['Europe'], 'Belgium': ['Benelux'], 'Luxemburg': ['Benelux'], 'Netherlands': ['Benelux'], 'Islands': ['Europe'], 'Great Britain': ['Islands'], 'Ireland': ['Islands'], 'Central Europe': ['Europe'], 'France': ['Central Europe'], 'Germany': ['Central Europe'], 'Iberia': ['Europe'], 'Portugal': ['Iberia'], 'Spain': ['Iberia'], 'Southern Europe': ['Europe'], 'Greece': ['Southern Europe'], 'Italy': ['Southern Europe'], 'Americas': ['World'], 'North America': ['Americas'], 'Canada': ['North America'], 'Mexico': ['North America'], 'United States': ['North America'], 'South America': ['Americas'], 'Argentina': ['South America'], 'Brazil': ['South America'], 'Chile': ['South America'], 'Uruguay': ['South America']}\n",
      "4\n",
      "|- Canada\n",
      "{'World': [], 'Europe': ['World'], 'Scandinavia': ['Europe'], 'Denmark': ['Scandinavia'], 'Norway': ['Scandinavia'], 'Sweden': ['Scandinavia'], 'Benelux': ['Europe'], 'Belgium': ['Benelux'], 'Luxemburg': ['Benelux'], 'Netherlands': ['Benelux'], 'Islands': ['Europe'], 'Great Britain': ['Islands'], 'Ireland': ['Islands'], 'Central Europe': ['Europe'], 'France': ['Central Europe'], 'Germany': ['Central Europe'], 'Iberia': ['Europe'], 'Portugal': ['Iberia'], 'Spain': ['Iberia'], 'Southern Europe': ['Europe'], 'Greece': ['Southern Europe'], 'Italy': ['Southern Europe'], 'Americas': ['World'], 'North America': ['Americas'], 'Canada': ['North America'], 'Mexico': ['North America'], 'United States': ['North America'], 'South America': ['Americas'], 'Argentina': ['South America'], 'Brazil': ['South America'], 'Chile': ['South America'], 'Uruguay': ['South America']}\n",
      "4\n",
      "|- Mexico\n",
      "{'World': [], 'Europe': ['World'], 'Scandinavia': ['Europe'], 'Denmark': ['Scandinavia'], 'Norway': ['Scandinavia'], 'Sweden': ['Scandinavia'], 'Benelux': ['Europe'], 'Belgium': ['Benelux'], 'Luxemburg': ['Benelux'], 'Netherlands': ['Benelux'], 'Islands': ['Europe'], 'Great Britain': ['Islands'], 'Ireland': ['Islands'], 'Central Europe': ['Europe'], 'France': ['Central Europe'], 'Germany': ['Central Europe'], 'Iberia': ['Europe'], 'Portugal': ['Iberia'], 'Spain': ['Iberia'], 'Southern Europe': ['Europe'], 'Greece': ['Southern Europe'], 'Italy': ['Southern Europe'], 'Americas': ['World'], 'North America': ['Americas'], 'Canada': ['North America'], 'Mexico': ['North America'], 'United States': ['North America'], 'South America': ['Americas'], 'Argentina': ['South America'], 'Brazil': ['South America'], 'Chile': ['South America'], 'Uruguay': ['South America']}\n",
      "4\n",
      "|- United States\n",
      "{'World': [], 'Europe': ['World'], 'Scandinavia': ['Europe'], 'Denmark': ['Scandinavia'], 'Norway': ['Scandinavia'], 'Sweden': ['Scandinavia'], 'Benelux': ['Europe'], 'Belgium': ['Benelux'], 'Luxemburg': ['Benelux'], 'Netherlands': ['Benelux'], 'Islands': ['Europe'], 'Great Britain': ['Islands'], 'Ireland': ['Islands'], 'Central Europe': ['Europe'], 'France': ['Central Europe'], 'Germany': ['Central Europe'], 'Iberia': ['Europe'], 'Portugal': ['Iberia'], 'Spain': ['Iberia'], 'Southern Europe': ['Europe'], 'Greece': ['Southern Europe'], 'Italy': ['Southern Europe'], 'Americas': ['World'], 'North America': ['Americas'], 'Canada': ['North America'], 'Mexico': ['North America'], 'United States': ['North America'], 'South America': ['Americas'], 'Argentina': ['South America'], 'Brazil': ['South America'], 'Chile': ['South America'], 'Uruguay': ['South America']}\n",
      "4\n",
      "|- Argentina\n",
      "{'World': [], 'Europe': ['World'], 'Scandinavia': ['Europe'], 'Denmark': ['Scandinavia'], 'Norway': ['Scandinavia'], 'Sweden': ['Scandinavia'], 'Benelux': ['Europe'], 'Belgium': ['Benelux'], 'Luxemburg': ['Benelux'], 'Netherlands': ['Benelux'], 'Islands': ['Europe'], 'Great Britain': ['Islands'], 'Ireland': ['Islands'], 'Central Europe': ['Europe'], 'France': ['Central Europe'], 'Germany': ['Central Europe'], 'Iberia': ['Europe'], 'Portugal': ['Iberia'], 'Spain': ['Iberia'], 'Southern Europe': ['Europe'], 'Greece': ['Southern Europe'], 'Italy': ['Southern Europe'], 'Americas': ['World'], 'North America': ['Americas'], 'Canada': ['North America'], 'Mexico': ['North America'], 'United States': ['North America'], 'South America': ['Americas'], 'Argentina': ['South America'], 'Brazil': ['South America'], 'Chile': ['South America'], 'Uruguay': ['South America']}\n",
      "4\n",
      "|- Brazil\n",
      "{'World': [], 'Europe': ['World'], 'Scandinavia': ['Europe'], 'Denmark': ['Scandinavia'], 'Norway': ['Scandinavia'], 'Sweden': ['Scandinavia'], 'Benelux': ['Europe'], 'Belgium': ['Benelux'], 'Luxemburg': ['Benelux'], 'Netherlands': ['Benelux'], 'Islands': ['Europe'], 'Great Britain': ['Islands'], 'Ireland': ['Islands'], 'Central Europe': ['Europe'], 'France': ['Central Europe'], 'Germany': ['Central Europe'], 'Iberia': ['Europe'], 'Portugal': ['Iberia'], 'Spain': ['Iberia'], 'Southern Europe': ['Europe'], 'Greece': ['Southern Europe'], 'Italy': ['Southern Europe'], 'Americas': ['World'], 'North America': ['Americas'], 'Canada': ['North America'], 'Mexico': ['North America'], 'United States': ['North America'], 'South America': ['Americas'], 'Argentina': ['South America'], 'Brazil': ['South America'], 'Chile': ['South America'], 'Uruguay': ['South America']}\n",
      "4\n",
      "|- Chile\n",
      "{'World': [], 'Europe': ['World'], 'Scandinavia': ['Europe'], 'Denmark': ['Scandinavia'], 'Norway': ['Scandinavia'], 'Sweden': ['Scandinavia'], 'Benelux': ['Europe'], 'Belgium': ['Benelux'], 'Luxemburg': ['Benelux'], 'Netherlands': ['Benelux'], 'Islands': ['Europe'], 'Great Britain': ['Islands'], 'Ireland': ['Islands'], 'Central Europe': ['Europe'], 'France': ['Central Europe'], 'Germany': ['Central Europe'], 'Iberia': ['Europe'], 'Portugal': ['Iberia'], 'Spain': ['Iberia'], 'Southern Europe': ['Europe'], 'Greece': ['Southern Europe'], 'Italy': ['Southern Europe'], 'Americas': ['World'], 'North America': ['Americas'], 'Canada': ['North America'], 'Mexico': ['North America'], 'United States': ['North America'], 'South America': ['Americas'], 'Argentina': ['South America'], 'Brazil': ['South America'], 'Chile': ['South America'], 'Uruguay': ['South America']}\n",
      "4\n",
      "|- Uruguay\n",
      "{'World': [], 'Europe': ['World'], 'Scandinavia': ['Europe'], 'Denmark': ['Scandinavia'], 'Norway': ['Scandinavia'], 'Sweden': ['Scandinavia'], 'Benelux': ['Europe'], 'Belgium': ['Benelux'], 'Luxemburg': ['Benelux'], 'Netherlands': ['Benelux'], 'Islands': ['Europe'], 'Great Britain': ['Islands'], 'Ireland': ['Islands'], 'Central Europe': ['Europe'], 'France': ['Central Europe'], 'Germany': ['Central Europe'], 'Iberia': ['Europe'], 'Portugal': ['Iberia'], 'Spain': ['Iberia'], 'Southern Europe': ['Europe'], 'Greece': ['Southern Europe'], 'Italy': ['Southern Europe'], 'Americas': ['World'], 'North America': ['Americas'], 'Canada': ['North America'], 'Mexico': ['North America'], 'United States': ['North America'], 'South America': ['Americas'], 'Argentina': ['South America'], 'Brazil': ['South America'], 'Chile': ['South America'], 'Uruguay': ['South America']}\n",
      "4\n",
      "Hierarchy\n",
      "By Vice President\n",
      "|- Norway\n",
      "{'Uruguay': ['VP1'], 'Chile': ['VP2'], 'Brazil': ['VP1'], 'Argentina': ['VP2'], 'United States': ['VP1'], 'Mexico': ['VP2'], 'Canada': ['VP1'], 'Italy': ['VP2'], 'Greece': ['VP1'], 'Spain': ['VP2'], 'Portugal': ['VP1'], 'Germany': ['VP2'], 'France': ['VP1'], 'Ireland': ['VP2'], 'Great Britain': ['VP1'], 'Netherlands': ['VP2'], 'Luxemburg': ['VP1'], 'Belgium': ['VP2'], 'Sweden': ['VP1'], 'VP2': ['All By Vice President'], 'Norway': ['VP2'], 'VP1': ['All By Vice President'], 'Denmark': ['VP1'], 'All By Vice President': []}\n",
      "3\n",
      "|- Belgium\n",
      "{'Uruguay': ['VP1'], 'Chile': ['VP2'], 'Brazil': ['VP1'], 'Argentina': ['VP2'], 'United States': ['VP1'], 'Mexico': ['VP2'], 'Canada': ['VP1'], 'Italy': ['VP2'], 'Greece': ['VP1'], 'Spain': ['VP2'], 'Portugal': ['VP1'], 'Germany': ['VP2'], 'France': ['VP1'], 'Ireland': ['VP2'], 'Great Britain': ['VP1'], 'Netherlands': ['VP2'], 'Luxemburg': ['VP1'], 'Belgium': ['VP2'], 'Sweden': ['VP1'], 'VP2': ['All By Vice President'], 'Norway': ['VP2'], 'VP1': ['All By Vice President'], 'Denmark': ['VP1'], 'All By Vice President': []}\n",
      "3\n",
      "|- Netherlands\n",
      "{'Uruguay': ['VP1'], 'Chile': ['VP2'], 'Brazil': ['VP1'], 'Argentina': ['VP2'], 'United States': ['VP1'], 'Mexico': ['VP2'], 'Canada': ['VP1'], 'Italy': ['VP2'], 'Greece': ['VP1'], 'Spain': ['VP2'], 'Portugal': ['VP1'], 'Germany': ['VP2'], 'France': ['VP1'], 'Ireland': ['VP2'], 'Great Britain': ['VP1'], 'Netherlands': ['VP2'], 'Luxemburg': ['VP1'], 'Belgium': ['VP2'], 'Sweden': ['VP1'], 'VP2': ['All By Vice President'], 'Norway': ['VP2'], 'VP1': ['All By Vice President'], 'Denmark': ['VP1'], 'All By Vice President': []}\n",
      "3\n",
      "|- Ireland\n",
      "{'Uruguay': ['VP1'], 'Chile': ['VP2'], 'Brazil': ['VP1'], 'Argentina': ['VP2'], 'United States': ['VP1'], 'Mexico': ['VP2'], 'Canada': ['VP1'], 'Italy': ['VP2'], 'Greece': ['VP1'], 'Spain': ['VP2'], 'Portugal': ['VP1'], 'Germany': ['VP2'], 'France': ['VP1'], 'Ireland': ['VP2'], 'Great Britain': ['VP1'], 'Netherlands': ['VP2'], 'Luxemburg': ['VP1'], 'Belgium': ['VP2'], 'Sweden': ['VP1'], 'VP2': ['All By Vice President'], 'Norway': ['VP2'], 'VP1': ['All By Vice President'], 'Denmark': ['VP1'], 'All By Vice President': []}\n",
      "3\n",
      "|- Germany\n",
      "{'Uruguay': ['VP1'], 'Chile': ['VP2'], 'Brazil': ['VP1'], 'Argentina': ['VP2'], 'United States': ['VP1'], 'Mexico': ['VP2'], 'Canada': ['VP1'], 'Italy': ['VP2'], 'Greece': ['VP1'], 'Spain': ['VP2'], 'Portugal': ['VP1'], 'Germany': ['VP2'], 'France': ['VP1'], 'Ireland': ['VP2'], 'Great Britain': ['VP1'], 'Netherlands': ['VP2'], 'Luxemburg': ['VP1'], 'Belgium': ['VP2'], 'Sweden': ['VP1'], 'VP2': ['All By Vice President'], 'Norway': ['VP2'], 'VP1': ['All By Vice President'], 'Denmark': ['VP1'], 'All By Vice President': []}\n",
      "3\n",
      "|- Spain\n",
      "{'Uruguay': ['VP1'], 'Chile': ['VP2'], 'Brazil': ['VP1'], 'Argentina': ['VP2'], 'United States': ['VP1'], 'Mexico': ['VP2'], 'Canada': ['VP1'], 'Italy': ['VP2'], 'Greece': ['VP1'], 'Spain': ['VP2'], 'Portugal': ['VP1'], 'Germany': ['VP2'], 'France': ['VP1'], 'Ireland': ['VP2'], 'Great Britain': ['VP1'], 'Netherlands': ['VP2'], 'Luxemburg': ['VP1'], 'Belgium': ['VP2'], 'Sweden': ['VP1'], 'VP2': ['All By Vice President'], 'Norway': ['VP2'], 'VP1': ['All By Vice President'], 'Denmark': ['VP1'], 'All By Vice President': []}\n",
      "3\n",
      "|- Italy\n",
      "{'Uruguay': ['VP1'], 'Chile': ['VP2'], 'Brazil': ['VP1'], 'Argentina': ['VP2'], 'United States': ['VP1'], 'Mexico': ['VP2'], 'Canada': ['VP1'], 'Italy': ['VP2'], 'Greece': ['VP1'], 'Spain': ['VP2'], 'Portugal': ['VP1'], 'Germany': ['VP2'], 'France': ['VP1'], 'Ireland': ['VP2'], 'Great Britain': ['VP1'], 'Netherlands': ['VP2'], 'Luxemburg': ['VP1'], 'Belgium': ['VP2'], 'Sweden': ['VP1'], 'VP2': ['All By Vice President'], 'Norway': ['VP2'], 'VP1': ['All By Vice President'], 'Denmark': ['VP1'], 'All By Vice President': []}\n",
      "3\n",
      "|- Mexico\n",
      "{'Uruguay': ['VP1'], 'Chile': ['VP2'], 'Brazil': ['VP1'], 'Argentina': ['VP2'], 'United States': ['VP1'], 'Mexico': ['VP2'], 'Canada': ['VP1'], 'Italy': ['VP2'], 'Greece': ['VP1'], 'Spain': ['VP2'], 'Portugal': ['VP1'], 'Germany': ['VP2'], 'France': ['VP1'], 'Ireland': ['VP2'], 'Great Britain': ['VP1'], 'Netherlands': ['VP2'], 'Luxemburg': ['VP1'], 'Belgium': ['VP2'], 'Sweden': ['VP1'], 'VP2': ['All By Vice President'], 'Norway': ['VP2'], 'VP1': ['All By Vice President'], 'Denmark': ['VP1'], 'All By Vice President': []}\n",
      "3\n",
      "|- Argentina\n",
      "{'Uruguay': ['VP1'], 'Chile': ['VP2'], 'Brazil': ['VP1'], 'Argentina': ['VP2'], 'United States': ['VP1'], 'Mexico': ['VP2'], 'Canada': ['VP1'], 'Italy': ['VP2'], 'Greece': ['VP1'], 'Spain': ['VP2'], 'Portugal': ['VP1'], 'Germany': ['VP2'], 'France': ['VP1'], 'Ireland': ['VP2'], 'Great Britain': ['VP1'], 'Netherlands': ['VP2'], 'Luxemburg': ['VP1'], 'Belgium': ['VP2'], 'Sweden': ['VP1'], 'VP2': ['All By Vice President'], 'Norway': ['VP2'], 'VP1': ['All By Vice President'], 'Denmark': ['VP1'], 'All By Vice President': []}\n",
      "3\n",
      "|- Chile\n",
      "{'Uruguay': ['VP1'], 'Chile': ['VP2'], 'Brazil': ['VP1'], 'Argentina': ['VP2'], 'United States': ['VP1'], 'Mexico': ['VP2'], 'Canada': ['VP1'], 'Italy': ['VP2'], 'Greece': ['VP1'], 'Spain': ['VP2'], 'Portugal': ['VP1'], 'Germany': ['VP2'], 'France': ['VP1'], 'Ireland': ['VP2'], 'Great Britain': ['VP1'], 'Netherlands': ['VP2'], 'Luxemburg': ['VP1'], 'Belgium': ['VP2'], 'Sweden': ['VP1'], 'VP2': ['All By Vice President'], 'Norway': ['VP2'], 'VP1': ['All By Vice President'], 'Denmark': ['VP1'], 'All By Vice President': []}\n",
      "3\n",
      "|- Denmark\n",
      "{'Uruguay': ['VP1'], 'Chile': ['VP2'], 'Brazil': ['VP1'], 'Argentina': ['VP2'], 'United States': ['VP1'], 'Mexico': ['VP2'], 'Canada': ['VP1'], 'Italy': ['VP2'], 'Greece': ['VP1'], 'Spain': ['VP2'], 'Portugal': ['VP1'], 'Germany': ['VP2'], 'France': ['VP1'], 'Ireland': ['VP2'], 'Great Britain': ['VP1'], 'Netherlands': ['VP2'], 'Luxemburg': ['VP1'], 'Belgium': ['VP2'], 'Sweden': ['VP1'], 'VP2': ['All By Vice President'], 'Norway': ['VP2'], 'VP1': ['All By Vice President'], 'Denmark': ['VP1'], 'All By Vice President': []}\n",
      "3\n",
      "|- Sweden\n",
      "{'Uruguay': ['VP1'], 'Chile': ['VP2'], 'Brazil': ['VP1'], 'Argentina': ['VP2'], 'United States': ['VP1'], 'Mexico': ['VP2'], 'Canada': ['VP1'], 'Italy': ['VP2'], 'Greece': ['VP1'], 'Spain': ['VP2'], 'Portugal': ['VP1'], 'Germany': ['VP2'], 'France': ['VP1'], 'Ireland': ['VP2'], 'Great Britain': ['VP1'], 'Netherlands': ['VP2'], 'Luxemburg': ['VP1'], 'Belgium': ['VP2'], 'Sweden': ['VP1'], 'VP2': ['All By Vice President'], 'Norway': ['VP2'], 'VP1': ['All By Vice President'], 'Denmark': ['VP1'], 'All By Vice President': []}\n",
      "3\n",
      "|- Luxemburg\n",
      "{'Uruguay': ['VP1'], 'Chile': ['VP2'], 'Brazil': ['VP1'], 'Argentina': ['VP2'], 'United States': ['VP1'], 'Mexico': ['VP2'], 'Canada': ['VP1'], 'Italy': ['VP2'], 'Greece': ['VP1'], 'Spain': ['VP2'], 'Portugal': ['VP1'], 'Germany': ['VP2'], 'France': ['VP1'], 'Ireland': ['VP2'], 'Great Britain': ['VP1'], 'Netherlands': ['VP2'], 'Luxemburg': ['VP1'], 'Belgium': ['VP2'], 'Sweden': ['VP1'], 'VP2': ['All By Vice President'], 'Norway': ['VP2'], 'VP1': ['All By Vice President'], 'Denmark': ['VP1'], 'All By Vice President': []}\n",
      "3\n",
      "|- Great Britain\n",
      "{'Uruguay': ['VP1'], 'Chile': ['VP2'], 'Brazil': ['VP1'], 'Argentina': ['VP2'], 'United States': ['VP1'], 'Mexico': ['VP2'], 'Canada': ['VP1'], 'Italy': ['VP2'], 'Greece': ['VP1'], 'Spain': ['VP2'], 'Portugal': ['VP1'], 'Germany': ['VP2'], 'France': ['VP1'], 'Ireland': ['VP2'], 'Great Britain': ['VP1'], 'Netherlands': ['VP2'], 'Luxemburg': ['VP1'], 'Belgium': ['VP2'], 'Sweden': ['VP1'], 'VP2': ['All By Vice President'], 'Norway': ['VP2'], 'VP1': ['All By Vice President'], 'Denmark': ['VP1'], 'All By Vice President': []}\n",
      "3\n",
      "|- France\n",
      "{'Uruguay': ['VP1'], 'Chile': ['VP2'], 'Brazil': ['VP1'], 'Argentina': ['VP2'], 'United States': ['VP1'], 'Mexico': ['VP2'], 'Canada': ['VP1'], 'Italy': ['VP2'], 'Greece': ['VP1'], 'Spain': ['VP2'], 'Portugal': ['VP1'], 'Germany': ['VP2'], 'France': ['VP1'], 'Ireland': ['VP2'], 'Great Britain': ['VP1'], 'Netherlands': ['VP2'], 'Luxemburg': ['VP1'], 'Belgium': ['VP2'], 'Sweden': ['VP1'], 'VP2': ['All By Vice President'], 'Norway': ['VP2'], 'VP1': ['All By Vice President'], 'Denmark': ['VP1'], 'All By Vice President': []}\n",
      "3\n",
      "|- Portugal\n",
      "{'Uruguay': ['VP1'], 'Chile': ['VP2'], 'Brazil': ['VP1'], 'Argentina': ['VP2'], 'United States': ['VP1'], 'Mexico': ['VP2'], 'Canada': ['VP1'], 'Italy': ['VP2'], 'Greece': ['VP1'], 'Spain': ['VP2'], 'Portugal': ['VP1'], 'Germany': ['VP2'], 'France': ['VP1'], 'Ireland': ['VP2'], 'Great Britain': ['VP1'], 'Netherlands': ['VP2'], 'Luxemburg': ['VP1'], 'Belgium': ['VP2'], 'Sweden': ['VP1'], 'VP2': ['All By Vice President'], 'Norway': ['VP2'], 'VP1': ['All By Vice President'], 'Denmark': ['VP1'], 'All By Vice President': []}\n",
      "3\n",
      "|- Greece\n",
      "{'Uruguay': ['VP1'], 'Chile': ['VP2'], 'Brazil': ['VP1'], 'Argentina': ['VP2'], 'United States': ['VP1'], 'Mexico': ['VP2'], 'Canada': ['VP1'], 'Italy': ['VP2'], 'Greece': ['VP1'], 'Spain': ['VP2'], 'Portugal': ['VP1'], 'Germany': ['VP2'], 'France': ['VP1'], 'Ireland': ['VP2'], 'Great Britain': ['VP1'], 'Netherlands': ['VP2'], 'Luxemburg': ['VP1'], 'Belgium': ['VP2'], 'Sweden': ['VP1'], 'VP2': ['All By Vice President'], 'Norway': ['VP2'], 'VP1': ['All By Vice President'], 'Denmark': ['VP1'], 'All By Vice President': []}\n",
      "3\n",
      "|- Canada\n",
      "{'Uruguay': ['VP1'], 'Chile': ['VP2'], 'Brazil': ['VP1'], 'Argentina': ['VP2'], 'United States': ['VP1'], 'Mexico': ['VP2'], 'Canada': ['VP1'], 'Italy': ['VP2'], 'Greece': ['VP1'], 'Spain': ['VP2'], 'Portugal': ['VP1'], 'Germany': ['VP2'], 'France': ['VP1'], 'Ireland': ['VP2'], 'Great Britain': ['VP1'], 'Netherlands': ['VP2'], 'Luxemburg': ['VP1'], 'Belgium': ['VP2'], 'Sweden': ['VP1'], 'VP2': ['All By Vice President'], 'Norway': ['VP2'], 'VP1': ['All By Vice President'], 'Denmark': ['VP1'], 'All By Vice President': []}\n",
      "3\n",
      "|- United States\n",
      "{'Uruguay': ['VP1'], 'Chile': ['VP2'], 'Brazil': ['VP1'], 'Argentina': ['VP2'], 'United States': ['VP1'], 'Mexico': ['VP2'], 'Canada': ['VP1'], 'Italy': ['VP2'], 'Greece': ['VP1'], 'Spain': ['VP2'], 'Portugal': ['VP1'], 'Germany': ['VP2'], 'France': ['VP1'], 'Ireland': ['VP2'], 'Great Britain': ['VP1'], 'Netherlands': ['VP2'], 'Luxemburg': ['VP1'], 'Belgium': ['VP2'], 'Sweden': ['VP1'], 'VP2': ['All By Vice President'], 'Norway': ['VP2'], 'VP1': ['All By Vice President'], 'Denmark': ['VP1'], 'All By Vice President': []}\n",
      "3\n",
      "|- Brazil\n",
      "{'Uruguay': ['VP1'], 'Chile': ['VP2'], 'Brazil': ['VP1'], 'Argentina': ['VP2'], 'United States': ['VP1'], 'Mexico': ['VP2'], 'Canada': ['VP1'], 'Italy': ['VP2'], 'Greece': ['VP1'], 'Spain': ['VP2'], 'Portugal': ['VP1'], 'Germany': ['VP2'], 'France': ['VP1'], 'Ireland': ['VP2'], 'Great Britain': ['VP1'], 'Netherlands': ['VP2'], 'Luxemburg': ['VP1'], 'Belgium': ['VP2'], 'Sweden': ['VP1'], 'VP2': ['All By Vice President'], 'Norway': ['VP2'], 'VP1': ['All By Vice President'], 'Denmark': ['VP1'], 'All By Vice President': []}\n",
      "3\n",
      "|- Uruguay\n",
      "{'Uruguay': ['VP1'], 'Chile': ['VP2'], 'Brazil': ['VP1'], 'Argentina': ['VP2'], 'United States': ['VP1'], 'Mexico': ['VP2'], 'Canada': ['VP1'], 'Italy': ['VP2'], 'Greece': ['VP1'], 'Spain': ['VP2'], 'Portugal': ['VP1'], 'Germany': ['VP2'], 'France': ['VP1'], 'Ireland': ['VP2'], 'Great Britain': ['VP1'], 'Netherlands': ['VP2'], 'Luxemburg': ['VP1'], 'Belgium': ['VP2'], 'Sweden': ['VP1'], 'VP2': ['All By Vice President'], 'Norway': ['VP2'], 'VP1': ['All By Vice President'], 'Denmark': ['VP1'], 'All By Vice President': []}\n",
      "3\n",
      "|- VP1\n",
      "{'Uruguay': ['VP1'], 'Chile': ['VP2'], 'Brazil': ['VP1'], 'Argentina': ['VP2'], 'United States': ['VP1'], 'Mexico': ['VP2'], 'Canada': ['VP1'], 'Italy': ['VP2'], 'Greece': ['VP1'], 'Spain': ['VP2'], 'Portugal': ['VP1'], 'Germany': ['VP2'], 'France': ['VP1'], 'Ireland': ['VP2'], 'Great Britain': ['VP1'], 'Netherlands': ['VP2'], 'Luxemburg': ['VP1'], 'Belgium': ['VP2'], 'Sweden': ['VP1'], 'VP2': ['All By Vice President'], 'Norway': ['VP2'], 'VP1': ['All By Vice President'], 'Denmark': ['VP1'], 'All By Vice President': []}\n",
      "3\n",
      "|- VP2\n",
      "{'Uruguay': ['VP1'], 'Chile': ['VP2'], 'Brazil': ['VP1'], 'Argentina': ['VP2'], 'United States': ['VP1'], 'Mexico': ['VP2'], 'Canada': ['VP1'], 'Italy': ['VP2'], 'Greece': ['VP1'], 'Spain': ['VP2'], 'Portugal': ['VP1'], 'Germany': ['VP2'], 'France': ['VP1'], 'Ireland': ['VP2'], 'Great Britain': ['VP1'], 'Netherlands': ['VP2'], 'Luxemburg': ['VP1'], 'Belgium': ['VP2'], 'Sweden': ['VP1'], 'VP2': ['All By Vice President'], 'Norway': ['VP2'], 'VP1': ['All By Vice President'], 'Denmark': ['VP1'], 'All By Vice President': []}\n",
      "3\n",
      "Hierarchy\n",
      "H2 Reorg\n",
      "|- Europe\n",
      "{'Uruguay': ['South America'], 'Chile': ['South America'], 'Brazil': ['South America'], 'All H2 Reorg': [], 'Americas': ['All H2 Reorg'], 'South America': ['Americas'], 'Argentina': ['North America'], 'United States': ['North America'], 'Mexico': ['North America'], 'North America': ['Americas'], 'Canada': ['North America'], 'Italy': ['Southern Europe'], 'Southern Europe': ['Europe'], 'Greece': ['Southern Europe'], 'Spain': ['Iberia'], 'Iberia': ['Europe'], 'Portugal': ['Iberia'], 'Germany': ['Central Europe'], 'Central Europe': ['Europe'], 'France': ['Central Europe'], 'Ireland': ['Islands'], 'Islands': ['Europe'], 'Great Britain': ['Islands'], 'Netherlands': ['Benelux'], 'Luxemburg': ['Benelux'], 'Benelux': ['Europe'], 'Belgium': ['Benelux'], 'Sweden': ['Scandinavia'], 'Norway': ['Scandinavia'], 'Scandinavia': ['Europe'], 'Denmark': ['Scandinavia'], 'Europe': ['All H2 Reorg']}\n",
      "4\n",
      "|- Americas\n",
      "{'Uruguay': ['South America'], 'Chile': ['South America'], 'Brazil': ['South America'], 'All H2 Reorg': [], 'Americas': ['All H2 Reorg'], 'South America': ['Americas'], 'Argentina': ['North America'], 'United States': ['North America'], 'Mexico': ['North America'], 'North America': ['Americas'], 'Canada': ['North America'], 'Italy': ['Southern Europe'], 'Southern Europe': ['Europe'], 'Greece': ['Southern Europe'], 'Spain': ['Iberia'], 'Iberia': ['Europe'], 'Portugal': ['Iberia'], 'Germany': ['Central Europe'], 'Central Europe': ['Europe'], 'France': ['Central Europe'], 'Ireland': ['Islands'], 'Islands': ['Europe'], 'Great Britain': ['Islands'], 'Netherlands': ['Benelux'], 'Luxemburg': ['Benelux'], 'Benelux': ['Europe'], 'Belgium': ['Benelux'], 'Sweden': ['Scandinavia'], 'Norway': ['Scandinavia'], 'Scandinavia': ['Europe'], 'Denmark': ['Scandinavia'], 'Europe': ['All H2 Reorg']}\n",
      "4\n",
      "|- North America\n",
      "{'Uruguay': ['South America'], 'Chile': ['South America'], 'Brazil': ['South America'], 'All H2 Reorg': [], 'Americas': ['All H2 Reorg'], 'South America': ['Americas'], 'Argentina': ['North America'], 'United States': ['North America'], 'Mexico': ['North America'], 'North America': ['Americas'], 'Canada': ['North America'], 'Italy': ['Southern Europe'], 'Southern Europe': ['Europe'], 'Greece': ['Southern Europe'], 'Spain': ['Iberia'], 'Iberia': ['Europe'], 'Portugal': ['Iberia'], 'Germany': ['Central Europe'], 'Central Europe': ['Europe'], 'France': ['Central Europe'], 'Ireland': ['Islands'], 'Islands': ['Europe'], 'Great Britain': ['Islands'], 'Netherlands': ['Benelux'], 'Luxemburg': ['Benelux'], 'Benelux': ['Europe'], 'Belgium': ['Benelux'], 'Sweden': ['Scandinavia'], 'Norway': ['Scandinavia'], 'Scandinavia': ['Europe'], 'Denmark': ['Scandinavia'], 'Europe': ['All H2 Reorg']}\n",
      "4\n",
      "|- South America\n",
      "{'Uruguay': ['South America'], 'Chile': ['South America'], 'Brazil': ['South America'], 'All H2 Reorg': [], 'Americas': ['All H2 Reorg'], 'South America': ['Americas'], 'Argentina': ['North America'], 'United States': ['North America'], 'Mexico': ['North America'], 'North America': ['Americas'], 'Canada': ['North America'], 'Italy': ['Southern Europe'], 'Southern Europe': ['Europe'], 'Greece': ['Southern Europe'], 'Spain': ['Iberia'], 'Iberia': ['Europe'], 'Portugal': ['Iberia'], 'Germany': ['Central Europe'], 'Central Europe': ['Europe'], 'France': ['Central Europe'], 'Ireland': ['Islands'], 'Islands': ['Europe'], 'Great Britain': ['Islands'], 'Netherlands': ['Benelux'], 'Luxemburg': ['Benelux'], 'Benelux': ['Europe'], 'Belgium': ['Benelux'], 'Sweden': ['Scandinavia'], 'Norway': ['Scandinavia'], 'Scandinavia': ['Europe'], 'Denmark': ['Scandinavia'], 'Europe': ['All H2 Reorg']}\n",
      "4\n",
      "|- Brazil\n",
      "{'Uruguay': ['South America'], 'Chile': ['South America'], 'Brazil': ['South America'], 'All H2 Reorg': [], 'Americas': ['All H2 Reorg'], 'South America': ['Americas'], 'Argentina': ['North America'], 'United States': ['North America'], 'Mexico': ['North America'], 'North America': ['Americas'], 'Canada': ['North America'], 'Italy': ['Southern Europe'], 'Southern Europe': ['Europe'], 'Greece': ['Southern Europe'], 'Spain': ['Iberia'], 'Iberia': ['Europe'], 'Portugal': ['Iberia'], 'Germany': ['Central Europe'], 'Central Europe': ['Europe'], 'France': ['Central Europe'], 'Ireland': ['Islands'], 'Islands': ['Europe'], 'Great Britain': ['Islands'], 'Netherlands': ['Benelux'], 'Luxemburg': ['Benelux'], 'Benelux': ['Europe'], 'Belgium': ['Benelux'], 'Sweden': ['Scandinavia'], 'Norway': ['Scandinavia'], 'Scandinavia': ['Europe'], 'Denmark': ['Scandinavia'], 'Europe': ['All H2 Reorg']}\n",
      "4\n",
      "|- Chile\n",
      "{'Uruguay': ['South America'], 'Chile': ['South America'], 'Brazil': ['South America'], 'All H2 Reorg': [], 'Americas': ['All H2 Reorg'], 'South America': ['Americas'], 'Argentina': ['North America'], 'United States': ['North America'], 'Mexico': ['North America'], 'North America': ['Americas'], 'Canada': ['North America'], 'Italy': ['Southern Europe'], 'Southern Europe': ['Europe'], 'Greece': ['Southern Europe'], 'Spain': ['Iberia'], 'Iberia': ['Europe'], 'Portugal': ['Iberia'], 'Germany': ['Central Europe'], 'Central Europe': ['Europe'], 'France': ['Central Europe'], 'Ireland': ['Islands'], 'Islands': ['Europe'], 'Great Britain': ['Islands'], 'Netherlands': ['Benelux'], 'Luxemburg': ['Benelux'], 'Benelux': ['Europe'], 'Belgium': ['Benelux'], 'Sweden': ['Scandinavia'], 'Norway': ['Scandinavia'], 'Scandinavia': ['Europe'], 'Denmark': ['Scandinavia'], 'Europe': ['All H2 Reorg']}\n",
      "4\n",
      "|- Uruguay\n",
      "{'Uruguay': ['South America'], 'Chile': ['South America'], 'Brazil': ['South America'], 'All H2 Reorg': [], 'Americas': ['All H2 Reorg'], 'South America': ['Americas'], 'Argentina': ['North America'], 'United States': ['North America'], 'Mexico': ['North America'], 'North America': ['Americas'], 'Canada': ['North America'], 'Italy': ['Southern Europe'], 'Southern Europe': ['Europe'], 'Greece': ['Southern Europe'], 'Spain': ['Iberia'], 'Iberia': ['Europe'], 'Portugal': ['Iberia'], 'Germany': ['Central Europe'], 'Central Europe': ['Europe'], 'France': ['Central Europe'], 'Ireland': ['Islands'], 'Islands': ['Europe'], 'Great Britain': ['Islands'], 'Netherlands': ['Benelux'], 'Luxemburg': ['Benelux'], 'Benelux': ['Europe'], 'Belgium': ['Benelux'], 'Sweden': ['Scandinavia'], 'Norway': ['Scandinavia'], 'Scandinavia': ['Europe'], 'Denmark': ['Scandinavia'], 'Europe': ['All H2 Reorg']}\n",
      "4\n",
      "|- Canada\n",
      "{'Uruguay': ['South America'], 'Chile': ['South America'], 'Brazil': ['South America'], 'All H2 Reorg': [], 'Americas': ['All H2 Reorg'], 'South America': ['Americas'], 'Argentina': ['North America'], 'United States': ['North America'], 'Mexico': ['North America'], 'North America': ['Americas'], 'Canada': ['North America'], 'Italy': ['Southern Europe'], 'Southern Europe': ['Europe'], 'Greece': ['Southern Europe'], 'Spain': ['Iberia'], 'Iberia': ['Europe'], 'Portugal': ['Iberia'], 'Germany': ['Central Europe'], 'Central Europe': ['Europe'], 'France': ['Central Europe'], 'Ireland': ['Islands'], 'Islands': ['Europe'], 'Great Britain': ['Islands'], 'Netherlands': ['Benelux'], 'Luxemburg': ['Benelux'], 'Benelux': ['Europe'], 'Belgium': ['Benelux'], 'Sweden': ['Scandinavia'], 'Norway': ['Scandinavia'], 'Scandinavia': ['Europe'], 'Denmark': ['Scandinavia'], 'Europe': ['All H2 Reorg']}\n",
      "4\n",
      "|- Mexico\n",
      "{'Uruguay': ['South America'], 'Chile': ['South America'], 'Brazil': ['South America'], 'All H2 Reorg': [], 'Americas': ['All H2 Reorg'], 'South America': ['Americas'], 'Argentina': ['North America'], 'United States': ['North America'], 'Mexico': ['North America'], 'North America': ['Americas'], 'Canada': ['North America'], 'Italy': ['Southern Europe'], 'Southern Europe': ['Europe'], 'Greece': ['Southern Europe'], 'Spain': ['Iberia'], 'Iberia': ['Europe'], 'Portugal': ['Iberia'], 'Germany': ['Central Europe'], 'Central Europe': ['Europe'], 'France': ['Central Europe'], 'Ireland': ['Islands'], 'Islands': ['Europe'], 'Great Britain': ['Islands'], 'Netherlands': ['Benelux'], 'Luxemburg': ['Benelux'], 'Benelux': ['Europe'], 'Belgium': ['Benelux'], 'Sweden': ['Scandinavia'], 'Norway': ['Scandinavia'], 'Scandinavia': ['Europe'], 'Denmark': ['Scandinavia'], 'Europe': ['All H2 Reorg']}\n",
      "4\n",
      "|- United States\n",
      "{'Uruguay': ['South America'], 'Chile': ['South America'], 'Brazil': ['South America'], 'All H2 Reorg': [], 'Americas': ['All H2 Reorg'], 'South America': ['Americas'], 'Argentina': ['North America'], 'United States': ['North America'], 'Mexico': ['North America'], 'North America': ['Americas'], 'Canada': ['North America'], 'Italy': ['Southern Europe'], 'Southern Europe': ['Europe'], 'Greece': ['Southern Europe'], 'Spain': ['Iberia'], 'Iberia': ['Europe'], 'Portugal': ['Iberia'], 'Germany': ['Central Europe'], 'Central Europe': ['Europe'], 'France': ['Central Europe'], 'Ireland': ['Islands'], 'Islands': ['Europe'], 'Great Britain': ['Islands'], 'Netherlands': ['Benelux'], 'Luxemburg': ['Benelux'], 'Benelux': ['Europe'], 'Belgium': ['Benelux'], 'Sweden': ['Scandinavia'], 'Norway': ['Scandinavia'], 'Scandinavia': ['Europe'], 'Denmark': ['Scandinavia'], 'Europe': ['All H2 Reorg']}\n",
      "4\n",
      "|- Argentina\n",
      "{'Uruguay': ['South America'], 'Chile': ['South America'], 'Brazil': ['South America'], 'All H2 Reorg': [], 'Americas': ['All H2 Reorg'], 'South America': ['Americas'], 'Argentina': ['North America'], 'United States': ['North America'], 'Mexico': ['North America'], 'North America': ['Americas'], 'Canada': ['North America'], 'Italy': ['Southern Europe'], 'Southern Europe': ['Europe'], 'Greece': ['Southern Europe'], 'Spain': ['Iberia'], 'Iberia': ['Europe'], 'Portugal': ['Iberia'], 'Germany': ['Central Europe'], 'Central Europe': ['Europe'], 'France': ['Central Europe'], 'Ireland': ['Islands'], 'Islands': ['Europe'], 'Great Britain': ['Islands'], 'Netherlands': ['Benelux'], 'Luxemburg': ['Benelux'], 'Benelux': ['Europe'], 'Belgium': ['Benelux'], 'Sweden': ['Scandinavia'], 'Norway': ['Scandinavia'], 'Scandinavia': ['Europe'], 'Denmark': ['Scandinavia'], 'Europe': ['All H2 Reorg']}\n",
      "4\n",
      "|- Greece\n",
      "{'Uruguay': ['South America'], 'Chile': ['South America'], 'Brazil': ['South America'], 'All H2 Reorg': [], 'Americas': ['All H2 Reorg'], 'South America': ['Americas'], 'Argentina': ['North America'], 'United States': ['North America'], 'Mexico': ['North America'], 'North America': ['Americas'], 'Canada': ['North America'], 'Italy': ['Southern Europe'], 'Southern Europe': ['Europe'], 'Greece': ['Southern Europe'], 'Spain': ['Iberia'], 'Iberia': ['Europe'], 'Portugal': ['Iberia'], 'Germany': ['Central Europe'], 'Central Europe': ['Europe'], 'France': ['Central Europe'], 'Ireland': ['Islands'], 'Islands': ['Europe'], 'Great Britain': ['Islands'], 'Netherlands': ['Benelux'], 'Luxemburg': ['Benelux'], 'Benelux': ['Europe'], 'Belgium': ['Benelux'], 'Sweden': ['Scandinavia'], 'Norway': ['Scandinavia'], 'Scandinavia': ['Europe'], 'Denmark': ['Scandinavia'], 'Europe': ['All H2 Reorg']}\n",
      "4\n",
      "|- Italy\n",
      "{'Uruguay': ['South America'], 'Chile': ['South America'], 'Brazil': ['South America'], 'All H2 Reorg': [], 'Americas': ['All H2 Reorg'], 'South America': ['Americas'], 'Argentina': ['North America'], 'United States': ['North America'], 'Mexico': ['North America'], 'North America': ['Americas'], 'Canada': ['North America'], 'Italy': ['Southern Europe'], 'Southern Europe': ['Europe'], 'Greece': ['Southern Europe'], 'Spain': ['Iberia'], 'Iberia': ['Europe'], 'Portugal': ['Iberia'], 'Germany': ['Central Europe'], 'Central Europe': ['Europe'], 'France': ['Central Europe'], 'Ireland': ['Islands'], 'Islands': ['Europe'], 'Great Britain': ['Islands'], 'Netherlands': ['Benelux'], 'Luxemburg': ['Benelux'], 'Benelux': ['Europe'], 'Belgium': ['Benelux'], 'Sweden': ['Scandinavia'], 'Norway': ['Scandinavia'], 'Scandinavia': ['Europe'], 'Denmark': ['Scandinavia'], 'Europe': ['All H2 Reorg']}\n",
      "4\n",
      "|- Portugal\n",
      "{'Uruguay': ['South America'], 'Chile': ['South America'], 'Brazil': ['South America'], 'All H2 Reorg': [], 'Americas': ['All H2 Reorg'], 'South America': ['Americas'], 'Argentina': ['North America'], 'United States': ['North America'], 'Mexico': ['North America'], 'North America': ['Americas'], 'Canada': ['North America'], 'Italy': ['Southern Europe'], 'Southern Europe': ['Europe'], 'Greece': ['Southern Europe'], 'Spain': ['Iberia'], 'Iberia': ['Europe'], 'Portugal': ['Iberia'], 'Germany': ['Central Europe'], 'Central Europe': ['Europe'], 'France': ['Central Europe'], 'Ireland': ['Islands'], 'Islands': ['Europe'], 'Great Britain': ['Islands'], 'Netherlands': ['Benelux'], 'Luxemburg': ['Benelux'], 'Benelux': ['Europe'], 'Belgium': ['Benelux'], 'Sweden': ['Scandinavia'], 'Norway': ['Scandinavia'], 'Scandinavia': ['Europe'], 'Denmark': ['Scandinavia'], 'Europe': ['All H2 Reorg']}\n",
      "4\n",
      "|- Spain\n",
      "{'Uruguay': ['South America'], 'Chile': ['South America'], 'Brazil': ['South America'], 'All H2 Reorg': [], 'Americas': ['All H2 Reorg'], 'South America': ['Americas'], 'Argentina': ['North America'], 'United States': ['North America'], 'Mexico': ['North America'], 'North America': ['Americas'], 'Canada': ['North America'], 'Italy': ['Southern Europe'], 'Southern Europe': ['Europe'], 'Greece': ['Southern Europe'], 'Spain': ['Iberia'], 'Iberia': ['Europe'], 'Portugal': ['Iberia'], 'Germany': ['Central Europe'], 'Central Europe': ['Europe'], 'France': ['Central Europe'], 'Ireland': ['Islands'], 'Islands': ['Europe'], 'Great Britain': ['Islands'], 'Netherlands': ['Benelux'], 'Luxemburg': ['Benelux'], 'Benelux': ['Europe'], 'Belgium': ['Benelux'], 'Sweden': ['Scandinavia'], 'Norway': ['Scandinavia'], 'Scandinavia': ['Europe'], 'Denmark': ['Scandinavia'], 'Europe': ['All H2 Reorg']}\n",
      "4\n",
      "|- France\n",
      "{'Uruguay': ['South America'], 'Chile': ['South America'], 'Brazil': ['South America'], 'All H2 Reorg': [], 'Americas': ['All H2 Reorg'], 'South America': ['Americas'], 'Argentina': ['North America'], 'United States': ['North America'], 'Mexico': ['North America'], 'North America': ['Americas'], 'Canada': ['North America'], 'Italy': ['Southern Europe'], 'Southern Europe': ['Europe'], 'Greece': ['Southern Europe'], 'Spain': ['Iberia'], 'Iberia': ['Europe'], 'Portugal': ['Iberia'], 'Germany': ['Central Europe'], 'Central Europe': ['Europe'], 'France': ['Central Europe'], 'Ireland': ['Islands'], 'Islands': ['Europe'], 'Great Britain': ['Islands'], 'Netherlands': ['Benelux'], 'Luxemburg': ['Benelux'], 'Benelux': ['Europe'], 'Belgium': ['Benelux'], 'Sweden': ['Scandinavia'], 'Norway': ['Scandinavia'], 'Scandinavia': ['Europe'], 'Denmark': ['Scandinavia'], 'Europe': ['All H2 Reorg']}\n",
      "4\n",
      "|- Germany\n",
      "{'Uruguay': ['South America'], 'Chile': ['South America'], 'Brazil': ['South America'], 'All H2 Reorg': [], 'Americas': ['All H2 Reorg'], 'South America': ['Americas'], 'Argentina': ['North America'], 'United States': ['North America'], 'Mexico': ['North America'], 'North America': ['Americas'], 'Canada': ['North America'], 'Italy': ['Southern Europe'], 'Southern Europe': ['Europe'], 'Greece': ['Southern Europe'], 'Spain': ['Iberia'], 'Iberia': ['Europe'], 'Portugal': ['Iberia'], 'Germany': ['Central Europe'], 'Central Europe': ['Europe'], 'France': ['Central Europe'], 'Ireland': ['Islands'], 'Islands': ['Europe'], 'Great Britain': ['Islands'], 'Netherlands': ['Benelux'], 'Luxemburg': ['Benelux'], 'Benelux': ['Europe'], 'Belgium': ['Benelux'], 'Sweden': ['Scandinavia'], 'Norway': ['Scandinavia'], 'Scandinavia': ['Europe'], 'Denmark': ['Scandinavia'], 'Europe': ['All H2 Reorg']}\n",
      "4\n",
      "|- Great Britain\n",
      "{'Uruguay': ['South America'], 'Chile': ['South America'], 'Brazil': ['South America'], 'All H2 Reorg': [], 'Americas': ['All H2 Reorg'], 'South America': ['Americas'], 'Argentina': ['North America'], 'United States': ['North America'], 'Mexico': ['North America'], 'North America': ['Americas'], 'Canada': ['North America'], 'Italy': ['Southern Europe'], 'Southern Europe': ['Europe'], 'Greece': ['Southern Europe'], 'Spain': ['Iberia'], 'Iberia': ['Europe'], 'Portugal': ['Iberia'], 'Germany': ['Central Europe'], 'Central Europe': ['Europe'], 'France': ['Central Europe'], 'Ireland': ['Islands'], 'Islands': ['Europe'], 'Great Britain': ['Islands'], 'Netherlands': ['Benelux'], 'Luxemburg': ['Benelux'], 'Benelux': ['Europe'], 'Belgium': ['Benelux'], 'Sweden': ['Scandinavia'], 'Norway': ['Scandinavia'], 'Scandinavia': ['Europe'], 'Denmark': ['Scandinavia'], 'Europe': ['All H2 Reorg']}\n",
      "4\n",
      "|- Ireland\n",
      "{'Uruguay': ['South America'], 'Chile': ['South America'], 'Brazil': ['South America'], 'All H2 Reorg': [], 'Americas': ['All H2 Reorg'], 'South America': ['Americas'], 'Argentina': ['North America'], 'United States': ['North America'], 'Mexico': ['North America'], 'North America': ['Americas'], 'Canada': ['North America'], 'Italy': ['Southern Europe'], 'Southern Europe': ['Europe'], 'Greece': ['Southern Europe'], 'Spain': ['Iberia'], 'Iberia': ['Europe'], 'Portugal': ['Iberia'], 'Germany': ['Central Europe'], 'Central Europe': ['Europe'], 'France': ['Central Europe'], 'Ireland': ['Islands'], 'Islands': ['Europe'], 'Great Britain': ['Islands'], 'Netherlands': ['Benelux'], 'Luxemburg': ['Benelux'], 'Benelux': ['Europe'], 'Belgium': ['Benelux'], 'Sweden': ['Scandinavia'], 'Norway': ['Scandinavia'], 'Scandinavia': ['Europe'], 'Denmark': ['Scandinavia'], 'Europe': ['All H2 Reorg']}\n",
      "4\n",
      "|- Belgium\n",
      "{'Uruguay': ['South America'], 'Chile': ['South America'], 'Brazil': ['South America'], 'All H2 Reorg': [], 'Americas': ['All H2 Reorg'], 'South America': ['Americas'], 'Argentina': ['North America'], 'United States': ['North America'], 'Mexico': ['North America'], 'North America': ['Americas'], 'Canada': ['North America'], 'Italy': ['Southern Europe'], 'Southern Europe': ['Europe'], 'Greece': ['Southern Europe'], 'Spain': ['Iberia'], 'Iberia': ['Europe'], 'Portugal': ['Iberia'], 'Germany': ['Central Europe'], 'Central Europe': ['Europe'], 'France': ['Central Europe'], 'Ireland': ['Islands'], 'Islands': ['Europe'], 'Great Britain': ['Islands'], 'Netherlands': ['Benelux'], 'Luxemburg': ['Benelux'], 'Benelux': ['Europe'], 'Belgium': ['Benelux'], 'Sweden': ['Scandinavia'], 'Norway': ['Scandinavia'], 'Scandinavia': ['Europe'], 'Denmark': ['Scandinavia'], 'Europe': ['All H2 Reorg']}\n",
      "4\n",
      "|- Luxemburg\n",
      "{'Uruguay': ['South America'], 'Chile': ['South America'], 'Brazil': ['South America'], 'All H2 Reorg': [], 'Americas': ['All H2 Reorg'], 'South America': ['Americas'], 'Argentina': ['North America'], 'United States': ['North America'], 'Mexico': ['North America'], 'North America': ['Americas'], 'Canada': ['North America'], 'Italy': ['Southern Europe'], 'Southern Europe': ['Europe'], 'Greece': ['Southern Europe'], 'Spain': ['Iberia'], 'Iberia': ['Europe'], 'Portugal': ['Iberia'], 'Germany': ['Central Europe'], 'Central Europe': ['Europe'], 'France': ['Central Europe'], 'Ireland': ['Islands'], 'Islands': ['Europe'], 'Great Britain': ['Islands'], 'Netherlands': ['Benelux'], 'Luxemburg': ['Benelux'], 'Benelux': ['Europe'], 'Belgium': ['Benelux'], 'Sweden': ['Scandinavia'], 'Norway': ['Scandinavia'], 'Scandinavia': ['Europe'], 'Denmark': ['Scandinavia'], 'Europe': ['All H2 Reorg']}\n",
      "4\n",
      "|- Netherlands\n",
      "{'Uruguay': ['South America'], 'Chile': ['South America'], 'Brazil': ['South America'], 'All H2 Reorg': [], 'Americas': ['All H2 Reorg'], 'South America': ['Americas'], 'Argentina': ['North America'], 'United States': ['North America'], 'Mexico': ['North America'], 'North America': ['Americas'], 'Canada': ['North America'], 'Italy': ['Southern Europe'], 'Southern Europe': ['Europe'], 'Greece': ['Southern Europe'], 'Spain': ['Iberia'], 'Iberia': ['Europe'], 'Portugal': ['Iberia'], 'Germany': ['Central Europe'], 'Central Europe': ['Europe'], 'France': ['Central Europe'], 'Ireland': ['Islands'], 'Islands': ['Europe'], 'Great Britain': ['Islands'], 'Netherlands': ['Benelux'], 'Luxemburg': ['Benelux'], 'Benelux': ['Europe'], 'Belgium': ['Benelux'], 'Sweden': ['Scandinavia'], 'Norway': ['Scandinavia'], 'Scandinavia': ['Europe'], 'Denmark': ['Scandinavia'], 'Europe': ['All H2 Reorg']}\n",
      "4\n",
      "|- Denmark\n",
      "{'Uruguay': ['South America'], 'Chile': ['South America'], 'Brazil': ['South America'], 'All H2 Reorg': [], 'Americas': ['All H2 Reorg'], 'South America': ['Americas'], 'Argentina': ['North America'], 'United States': ['North America'], 'Mexico': ['North America'], 'North America': ['Americas'], 'Canada': ['North America'], 'Italy': ['Southern Europe'], 'Southern Europe': ['Europe'], 'Greece': ['Southern Europe'], 'Spain': ['Iberia'], 'Iberia': ['Europe'], 'Portugal': ['Iberia'], 'Germany': ['Central Europe'], 'Central Europe': ['Europe'], 'France': ['Central Europe'], 'Ireland': ['Islands'], 'Islands': ['Europe'], 'Great Britain': ['Islands'], 'Netherlands': ['Benelux'], 'Luxemburg': ['Benelux'], 'Benelux': ['Europe'], 'Belgium': ['Benelux'], 'Sweden': ['Scandinavia'], 'Norway': ['Scandinavia'], 'Scandinavia': ['Europe'], 'Denmark': ['Scandinavia'], 'Europe': ['All H2 Reorg']}\n",
      "4\n",
      "|- Norway\n",
      "{'Uruguay': ['South America'], 'Chile': ['South America'], 'Brazil': ['South America'], 'All H2 Reorg': [], 'Americas': ['All H2 Reorg'], 'South America': ['Americas'], 'Argentina': ['North America'], 'United States': ['North America'], 'Mexico': ['North America'], 'North America': ['Americas'], 'Canada': ['North America'], 'Italy': ['Southern Europe'], 'Southern Europe': ['Europe'], 'Greece': ['Southern Europe'], 'Spain': ['Iberia'], 'Iberia': ['Europe'], 'Portugal': ['Iberia'], 'Germany': ['Central Europe'], 'Central Europe': ['Europe'], 'France': ['Central Europe'], 'Ireland': ['Islands'], 'Islands': ['Europe'], 'Great Britain': ['Islands'], 'Netherlands': ['Benelux'], 'Luxemburg': ['Benelux'], 'Benelux': ['Europe'], 'Belgium': ['Benelux'], 'Sweden': ['Scandinavia'], 'Norway': ['Scandinavia'], 'Scandinavia': ['Europe'], 'Denmark': ['Scandinavia'], 'Europe': ['All H2 Reorg']}\n",
      "4\n",
      "|- Sweden\n",
      "{'Uruguay': ['South America'], 'Chile': ['South America'], 'Brazil': ['South America'], 'All H2 Reorg': [], 'Americas': ['All H2 Reorg'], 'South America': ['Americas'], 'Argentina': ['North America'], 'United States': ['North America'], 'Mexico': ['North America'], 'North America': ['Americas'], 'Canada': ['North America'], 'Italy': ['Southern Europe'], 'Southern Europe': ['Europe'], 'Greece': ['Southern Europe'], 'Spain': ['Iberia'], 'Iberia': ['Europe'], 'Portugal': ['Iberia'], 'Germany': ['Central Europe'], 'Central Europe': ['Europe'], 'France': ['Central Europe'], 'Ireland': ['Islands'], 'Islands': ['Europe'], 'Great Britain': ['Islands'], 'Netherlands': ['Benelux'], 'Luxemburg': ['Benelux'], 'Benelux': ['Europe'], 'Belgium': ['Benelux'], 'Sweden': ['Scandinavia'], 'Norway': ['Scandinavia'], 'Scandinavia': ['Europe'], 'Denmark': ['Scandinavia'], 'Europe': ['All H2 Reorg']}\n",
      "4\n",
      "|- Scandinavia\n",
      "{'Uruguay': ['South America'], 'Chile': ['South America'], 'Brazil': ['South America'], 'All H2 Reorg': [], 'Americas': ['All H2 Reorg'], 'South America': ['Americas'], 'Argentina': ['North America'], 'United States': ['North America'], 'Mexico': ['North America'], 'North America': ['Americas'], 'Canada': ['North America'], 'Italy': ['Southern Europe'], 'Southern Europe': ['Europe'], 'Greece': ['Southern Europe'], 'Spain': ['Iberia'], 'Iberia': ['Europe'], 'Portugal': ['Iberia'], 'Germany': ['Central Europe'], 'Central Europe': ['Europe'], 'France': ['Central Europe'], 'Ireland': ['Islands'], 'Islands': ['Europe'], 'Great Britain': ['Islands'], 'Netherlands': ['Benelux'], 'Luxemburg': ['Benelux'], 'Benelux': ['Europe'], 'Belgium': ['Benelux'], 'Sweden': ['Scandinavia'], 'Norway': ['Scandinavia'], 'Scandinavia': ['Europe'], 'Denmark': ['Scandinavia'], 'Europe': ['All H2 Reorg']}\n",
      "4\n",
      "|- Southern Europe\n",
      "{'Uruguay': ['South America'], 'Chile': ['South America'], 'Brazil': ['South America'], 'All H2 Reorg': [], 'Americas': ['All H2 Reorg'], 'South America': ['Americas'], 'Argentina': ['North America'], 'United States': ['North America'], 'Mexico': ['North America'], 'North America': ['Americas'], 'Canada': ['North America'], 'Italy': ['Southern Europe'], 'Southern Europe': ['Europe'], 'Greece': ['Southern Europe'], 'Spain': ['Iberia'], 'Iberia': ['Europe'], 'Portugal': ['Iberia'], 'Germany': ['Central Europe'], 'Central Europe': ['Europe'], 'France': ['Central Europe'], 'Ireland': ['Islands'], 'Islands': ['Europe'], 'Great Britain': ['Islands'], 'Netherlands': ['Benelux'], 'Luxemburg': ['Benelux'], 'Benelux': ['Europe'], 'Belgium': ['Benelux'], 'Sweden': ['Scandinavia'], 'Norway': ['Scandinavia'], 'Scandinavia': ['Europe'], 'Denmark': ['Scandinavia'], 'Europe': ['All H2 Reorg']}\n",
      "4\n",
      "|- Iberia\n",
      "{'Uruguay': ['South America'], 'Chile': ['South America'], 'Brazil': ['South America'], 'All H2 Reorg': [], 'Americas': ['All H2 Reorg'], 'South America': ['Americas'], 'Argentina': ['North America'], 'United States': ['North America'], 'Mexico': ['North America'], 'North America': ['Americas'], 'Canada': ['North America'], 'Italy': ['Southern Europe'], 'Southern Europe': ['Europe'], 'Greece': ['Southern Europe'], 'Spain': ['Iberia'], 'Iberia': ['Europe'], 'Portugal': ['Iberia'], 'Germany': ['Central Europe'], 'Central Europe': ['Europe'], 'France': ['Central Europe'], 'Ireland': ['Islands'], 'Islands': ['Europe'], 'Great Britain': ['Islands'], 'Netherlands': ['Benelux'], 'Luxemburg': ['Benelux'], 'Benelux': ['Europe'], 'Belgium': ['Benelux'], 'Sweden': ['Scandinavia'], 'Norway': ['Scandinavia'], 'Scandinavia': ['Europe'], 'Denmark': ['Scandinavia'], 'Europe': ['All H2 Reorg']}\n",
      "4\n",
      "|- Central Europe\n",
      "{'Uruguay': ['South America'], 'Chile': ['South America'], 'Brazil': ['South America'], 'All H2 Reorg': [], 'Americas': ['All H2 Reorg'], 'South America': ['Americas'], 'Argentina': ['North America'], 'United States': ['North America'], 'Mexico': ['North America'], 'North America': ['Americas'], 'Canada': ['North America'], 'Italy': ['Southern Europe'], 'Southern Europe': ['Europe'], 'Greece': ['Southern Europe'], 'Spain': ['Iberia'], 'Iberia': ['Europe'], 'Portugal': ['Iberia'], 'Germany': ['Central Europe'], 'Central Europe': ['Europe'], 'France': ['Central Europe'], 'Ireland': ['Islands'], 'Islands': ['Europe'], 'Great Britain': ['Islands'], 'Netherlands': ['Benelux'], 'Luxemburg': ['Benelux'], 'Benelux': ['Europe'], 'Belgium': ['Benelux'], 'Sweden': ['Scandinavia'], 'Norway': ['Scandinavia'], 'Scandinavia': ['Europe'], 'Denmark': ['Scandinavia'], 'Europe': ['All H2 Reorg']}\n",
      "4\n",
      "|- Islands\n",
      "{'Uruguay': ['South America'], 'Chile': ['South America'], 'Brazil': ['South America'], 'All H2 Reorg': [], 'Americas': ['All H2 Reorg'], 'South America': ['Americas'], 'Argentina': ['North America'], 'United States': ['North America'], 'Mexico': ['North America'], 'North America': ['Americas'], 'Canada': ['North America'], 'Italy': ['Southern Europe'], 'Southern Europe': ['Europe'], 'Greece': ['Southern Europe'], 'Spain': ['Iberia'], 'Iberia': ['Europe'], 'Portugal': ['Iberia'], 'Germany': ['Central Europe'], 'Central Europe': ['Europe'], 'France': ['Central Europe'], 'Ireland': ['Islands'], 'Islands': ['Europe'], 'Great Britain': ['Islands'], 'Netherlands': ['Benelux'], 'Luxemburg': ['Benelux'], 'Benelux': ['Europe'], 'Belgium': ['Benelux'], 'Sweden': ['Scandinavia'], 'Norway': ['Scandinavia'], 'Scandinavia': ['Europe'], 'Denmark': ['Scandinavia'], 'Europe': ['All H2 Reorg']}\n",
      "4\n",
      "|- Benelux\n",
      "{'Uruguay': ['South America'], 'Chile': ['South America'], 'Brazil': ['South America'], 'All H2 Reorg': [], 'Americas': ['All H2 Reorg'], 'South America': ['Americas'], 'Argentina': ['North America'], 'United States': ['North America'], 'Mexico': ['North America'], 'North America': ['Americas'], 'Canada': ['North America'], 'Italy': ['Southern Europe'], 'Southern Europe': ['Europe'], 'Greece': ['Southern Europe'], 'Spain': ['Iberia'], 'Iberia': ['Europe'], 'Portugal': ['Iberia'], 'Germany': ['Central Europe'], 'Central Europe': ['Europe'], 'France': ['Central Europe'], 'Ireland': ['Islands'], 'Islands': ['Europe'], 'Great Britain': ['Islands'], 'Netherlands': ['Benelux'], 'Luxemburg': ['Benelux'], 'Benelux': ['Europe'], 'Belgium': ['Benelux'], 'Sweden': ['Scandinavia'], 'Norway': ['Scandinavia'], 'Scandinavia': ['Europe'], 'Denmark': ['Scandinavia'], 'Europe': ['All H2 Reorg']}\n",
      "4\n",
      "Hierarchy\n",
      "Hiérarchie_adel_test\n",
      "Hierarchy\n",
      "Leaves\n"
     ]
    }
   ],
   "source": [
    "for hierarchy in tm1.dimensions.get(dimension_name='Region'):\n",
    "    print(\"Hierarchy\")\n",
    "    print(hierarchy.name)\n",
    "    consolidated_names = tm1.elements.get_edges(dimension_name='Region',hierarchy_name=hierarchy.name)\n",
    "    for consolidation in consolidated_names:\n",
    "        print(f'|- {consolidation[1]}')\n",
    "        consolidation_elements = tm1.elements.get_parents_of_all_elements(dimension_name='Region',hierarchy_name= hierarchy.name,consolidation=consolidation[1])\n",
    "        print(consolidation_elements)\n",
    "        element_parents = tm1.elements.get_parents(dimension_name='Region',hierarchy_name= hierarchy.name,consolidation=consolidation[1])\n",
    "        \n",
    "        element_index = 0\n",
    "        while element_parents[element_parents.keys()[element_index]] == current_parent:\n",
    "            print(element_parents.keys()[element_index])\n",
    "        print(tm1.elements.get_levels_count(dimension_name='Region',hierarchy_name= hierarchy.name))\n",
    "        \n",
    "        # for element in consolidation_elements:\n",
    "        #     print(f'  |- {element[1]}')"
   ]
  },
  {
   "cell_type": "code",
   "execution_count": 35,
   "metadata": {},
   "outputs": [
    {
     "ename": "AttributeError",
     "evalue": "'str' object has no attribute 'name'",
     "output_type": "error",
     "traceback": [
      "\u001b[1;31m---------------------------------------------------------------------------\u001b[0m",
      "\u001b[1;31mAttributeError\u001b[0m                            Traceback (most recent call last)",
      "Cell \u001b[1;32mIn[35], line 2\u001b[0m\n\u001b[0;32m      1\u001b[0m \u001b[38;5;28;01mfor\u001b[39;00m hierarchy \u001b[38;5;129;01min\u001b[39;00m dimension:\n\u001b[1;32m----> 2\u001b[0m             \u001b[38;5;28mprint\u001b[39m(\u001b[38;5;124m'\u001b[39m\u001b[38;5;124mHierarchy Name: \u001b[39m\u001b[38;5;132;01m{}\u001b[39;00m\u001b[38;5;124m'\u001b[39m\u001b[38;5;241m.\u001b[39mformat(\u001b[43mhierarchy\u001b[49m\u001b[38;5;241;43m.\u001b[39;49m\u001b[43mname\u001b[49m))\n\u001b[0;32m      3\u001b[0m             \u001b[38;5;66;03m# iterate through Elements in hierarchy\u001b[39;00m\n\u001b[0;32m      4\u001b[0m             \u001b[38;5;28;01mfor\u001b[39;00m element \u001b[38;5;129;01min\u001b[39;00m hierarchy:\n",
      "\u001b[1;31mAttributeError\u001b[0m: 'str' object has no attribute 'name'"
     ]
    }
   ],
   "source": [
    "for hierarchy in dimension:\n",
    "            print('Hierarchy Name: {}'.format(hierarchy.name))\n",
    "            # iterate through Elements in hierarchy\n",
    "            for element in hierarchy:\n",
    "                print(['Element Name: {} Index: {} Type: {}'.format(element.name, str(element.index), element.element_type)])\n"
   ]
  },
  {
   "cell_type": "code",
   "execution_count": 66,
   "metadata": {},
   "outputs": [],
   "source": [
    "mdx = \"SELECT \" \\\n",
    "          \"NON EMPTY {TM1SUBSETALL( [}Clients] )} on ROWS, \" \\\n",
    "          \"NON EMPTY {TM1SUBSETALL( [}Groups] )} ON COLUMNS \" \\\n",
    "          \"FROM [}ClientGroups]\"\n",
    "cube_content = tm1.cubes.cells.execute_mdx(mdx, ['Value'])"
   ]
  },
  {
   "cell_type": "code",
   "execution_count": 29,
   "metadata": {},
   "outputs": [
    {
     "name": "stdout",
     "output_type": "stream",
     "text": [
      "Sales\n",
      "Sales_Test\n",
      "TEST\n",
      "}ElementAttributes_Region\n",
      "}ElementSecurity_Region\n",
      "}PickList_TEST\n"
     ]
    }
   ],
   "source": [
    "all_cubes = tm1.cubes.get_all()\n",
    "dimension = 'Region'\n",
    "for cube in all_cubes:\n",
    "    if dimension in cube.dimensions:\n",
    "          print(cube.name)"
   ]
  },
  {
   "cell_type": "code",
   "execution_count": 69,
   "metadata": {},
   "outputs": [
    {
     "data": {
      "text/plain": [
       "0         adel.hamache\n",
       "1                Admin\n",
       "2         amavi.atigla\n",
       "3       aurele.nassara\n",
       "4         badr.bouhlal\n",
       "5      bruno.taboument\n",
       "6           elhadj.sow\n",
       "7           erwan.tang\n",
       "8       franck.luciani\n",
       "9             Hugo.lim\n",
       "10        jamil.fadile\n",
       "11      Jennifer.ardon\n",
       "12        karima.barki\n",
       "13    laurent.mariotte\n",
       "14        ludovic.sant\n",
       "15      mariama.diallo\n",
       "16     marianne.plesse\n",
       "17     mathieu.botquin\n",
       "18      mehdi.taheraly\n",
       "19           test.user\n",
       "20      Virginie.jumel\n",
       "21      Yasmine.ghanem\n",
       "22       zied.benhmida\n",
       "Name: }Clients, dtype: object"
      ]
     },
     "execution_count": 69,
     "metadata": {},
     "output_type": "execute_result"
    }
   ],
   "source": [
    "tm1.cubes.cells.execute_mdx_dataframe(mdx=mdx)['}Clients']"
   ]
  },
  {
   "cell_type": "code",
   "execution_count": 51,
   "metadata": {},
   "outputs": [
    {
     "ename": "TM1pyRestException",
     "evalue": "Text: '{\"error\":{\"code\":\"278\",\"message\":\"'All' can not be found in collection of type 'View'.\"}}' - Status Code: 404 - Reason: 'Not Found' - Headers: {'Content-Length': '103', 'Connection': 'keep-alive', 'Content-Encoding': 'gzip', 'Cache-Control': 'no-cache', 'Content-Type': 'application/json; charset=utf-8', 'OData-Version': '4.0'}",
     "output_type": "error",
     "traceback": [
      "\u001b[1;31m---------------------------------------------------------------------------\u001b[0m",
      "\u001b[1;31mTM1pyRestException\u001b[0m                        Traceback (most recent call last)",
      "Cell \u001b[1;32mIn[51], line 1\u001b[0m\n\u001b[1;32m----> 1\u001b[0m client_groups_content \u001b[38;5;241m=\u001b[39m \u001b[43mtm1\u001b[49m\u001b[38;5;241;43m.\u001b[39;49m\u001b[43mcubes\u001b[49m\u001b[38;5;241;43m.\u001b[39;49m\u001b[43mcells\u001b[49m\u001b[38;5;241;43m.\u001b[39;49m\u001b[43mexecute_view_dataframe\u001b[49m\u001b[43m(\u001b[49m\u001b[43mcube_name\u001b[49m\u001b[38;5;241;43m=\u001b[39;49m\u001b[38;5;124;43m'\u001b[39;49m\u001b[38;5;124;43m}ClientGroups\u001b[39;49m\u001b[38;5;124;43m'\u001b[39;49m\u001b[43m,\u001b[49m\u001b[43mview_name\u001b[49m\u001b[38;5;241;43m=\u001b[39;49m\u001b[38;5;124;43m'\u001b[39;49m\u001b[38;5;124;43mAll\u001b[39;49m\u001b[38;5;124;43m'\u001b[39;49m\u001b[43m)\u001b[49m\n",
      "File \u001b[1;32mc:\\Users\\ErwanTang\\AppData\\Local\\Programs\\Python\\Python312\\Lib\\site-packages\\TM1py\\Utils\\Utils.py:146\u001b[0m, in \u001b[0;36mrequire_pandas.<locals>.wrapper\u001b[1;34m(self, *args, **kwargs)\u001b[0m\n\u001b[0;32m    144\u001b[0m \u001b[38;5;28;01mtry\u001b[39;00m:\n\u001b[0;32m    145\u001b[0m     \u001b[38;5;28;01mimport\u001b[39;00m \u001b[38;5;21;01mpandas\u001b[39;00m\n\u001b[1;32m--> 146\u001b[0m     \u001b[38;5;28;01mreturn\u001b[39;00m \u001b[43mfunc\u001b[49m\u001b[43m(\u001b[49m\u001b[38;5;28;43mself\u001b[39;49m\u001b[43m,\u001b[49m\u001b[43m \u001b[49m\u001b[38;5;241;43m*\u001b[39;49m\u001b[43margs\u001b[49m\u001b[43m,\u001b[49m\u001b[43m \u001b[49m\u001b[38;5;241;43m*\u001b[39;49m\u001b[38;5;241;43m*\u001b[39;49m\u001b[43mkwargs\u001b[49m\u001b[43m)\u001b[49m\n\u001b[0;32m    147\u001b[0m \u001b[38;5;28;01mexcept\u001b[39;00m \u001b[38;5;167;01mImportError\u001b[39;00m:\n\u001b[0;32m    148\u001b[0m     \u001b[38;5;28;01mraise\u001b[39;00m \u001b[38;5;167;01mImportError\u001b[39;00m(\u001b[38;5;124mf\u001b[39m\u001b[38;5;124m\"\u001b[39m\u001b[38;5;124mFunction \u001b[39m\u001b[38;5;124m'\u001b[39m\u001b[38;5;132;01m{\u001b[39;00mfunc\u001b[38;5;241m.\u001b[39m\u001b[38;5;18m__name__\u001b[39m\u001b[38;5;132;01m}\u001b[39;00m\u001b[38;5;124m'\u001b[39m\u001b[38;5;124m requires pandas\u001b[39m\u001b[38;5;124m\"\u001b[39m)\n",
      "File \u001b[1;32mc:\\Users\\ErwanTang\\AppData\\Local\\Programs\\Python\\Python312\\Lib\\site-packages\\TM1py\\Services\\CellService.py:2734\u001b[0m, in \u001b[0;36mCellService.execute_view_dataframe\u001b[1;34m(self, cube_name, view_name, private, top, skip, skip_zeros, skip_consolidated_cells, skip_rule_derived_cells, sandbox_name, use_iterative_json, use_blob, shaped, arranged_axes, mdx_headers, **kwargs)\u001b[0m\n\u001b[0;32m   2716\u001b[0m     raw_csv \u001b[38;5;241m=\u001b[39m \u001b[38;5;28mself\u001b[39m\u001b[38;5;241m.\u001b[39mexecute_view_csv(\n\u001b[0;32m   2717\u001b[0m         cube_name\u001b[38;5;241m=\u001b[39mcube_name,\n\u001b[0;32m   2718\u001b[0m         view_name\u001b[38;5;241m=\u001b[39mview_name,\n\u001b[1;32m   (...)\u001b[0m\n\u001b[0;32m   2730\u001b[0m         mdx_headers\u001b[38;5;241m=\u001b[39mmdx_headers,\n\u001b[0;32m   2731\u001b[0m         \u001b[38;5;241m*\u001b[39m\u001b[38;5;241m*\u001b[39mkwargs)\n\u001b[0;32m   2732\u001b[0m     \u001b[38;5;28;01mreturn\u001b[39;00m build_dataframe_from_csv(raw_csv, sep\u001b[38;5;241m=\u001b[39m\u001b[38;5;124m'\u001b[39m\u001b[38;5;124m~\u001b[39m\u001b[38;5;124m'\u001b[39m, shaped\u001b[38;5;241m=\u001b[39mshaped, \u001b[38;5;241m*\u001b[39m\u001b[38;5;241m*\u001b[39mkwargs)\n\u001b[1;32m-> 2734\u001b[0m cellset_id \u001b[38;5;241m=\u001b[39m \u001b[38;5;28;43mself\u001b[39;49m\u001b[38;5;241;43m.\u001b[39;49m\u001b[43mcreate_cellset_from_view\u001b[49m\u001b[43m(\u001b[49m\u001b[43mcube_name\u001b[49m\u001b[38;5;241;43m=\u001b[39;49m\u001b[43mcube_name\u001b[49m\u001b[43m,\u001b[49m\u001b[43m \u001b[49m\u001b[43mview_name\u001b[49m\u001b[38;5;241;43m=\u001b[39;49m\u001b[43mview_name\u001b[49m\u001b[43m,\u001b[49m\u001b[43m \u001b[49m\u001b[43mprivate\u001b[49m\u001b[38;5;241;43m=\u001b[39;49m\u001b[43mprivate\u001b[49m\u001b[43m,\u001b[49m\n\u001b[0;32m   2735\u001b[0m \u001b[43m                                           \u001b[49m\u001b[43msandbox_name\u001b[49m\u001b[38;5;241;43m=\u001b[39;49m\u001b[43msandbox_name\u001b[49m\u001b[43m,\u001b[49m\u001b[43m \u001b[49m\u001b[38;5;241;43m*\u001b[39;49m\u001b[38;5;241;43m*\u001b[39;49m\u001b[43mkwargs\u001b[49m\u001b[43m)\u001b[49m\n\u001b[0;32m   2736\u001b[0m \u001b[38;5;28;01mreturn\u001b[39;00m \u001b[38;5;28mself\u001b[39m\u001b[38;5;241m.\u001b[39mextract_cellset_dataframe(cellset_id, top\u001b[38;5;241m=\u001b[39mtop, skip\u001b[38;5;241m=\u001b[39mskip, skip_zeros\u001b[38;5;241m=\u001b[39mskip_zeros,\n\u001b[0;32m   2737\u001b[0m                                       skip_consolidated_cells\u001b[38;5;241m=\u001b[39mskip_consolidated_cells,\n\u001b[0;32m   2738\u001b[0m                                       skip_rule_derived_cells\u001b[38;5;241m=\u001b[39mskip_rule_derived_cells,\n\u001b[0;32m   2739\u001b[0m                                       sandbox_name\u001b[38;5;241m=\u001b[39msandbox_name, use_iterative_json\u001b[38;5;241m=\u001b[39muse_iterative_json,\n\u001b[0;32m   2740\u001b[0m                                       shaped\u001b[38;5;241m=\u001b[39mshaped, mdx_headers\u001b[38;5;241m=\u001b[39mmdx_headers, \u001b[38;5;241m*\u001b[39m\u001b[38;5;241m*\u001b[39mkwargs)\n",
      "File \u001b[1;32mc:\\Users\\ErwanTang\\AppData\\Local\\Programs\\Python\\Python312\\Lib\\site-packages\\TM1py\\Services\\CellService.py:4318\u001b[0m, in \u001b[0;36mCellService.create_cellset_from_view\u001b[1;34m(self, cube_name, view_name, private, sandbox_name, **kwargs)\u001b[0m\n\u001b[0;32m   4313\u001b[0m url \u001b[38;5;241m=\u001b[39m format_url(\u001b[38;5;124m\"\u001b[39m\u001b[38;5;124m/Cubes(\u001b[39m\u001b[38;5;124m'\u001b[39m\u001b[38;5;132;01m{cube_name}\u001b[39;00m\u001b[38;5;124m'\u001b[39m\u001b[38;5;124m)/\u001b[39m\u001b[38;5;132;01m{views}\u001b[39;00m\u001b[38;5;124m(\u001b[39m\u001b[38;5;124m'\u001b[39m\u001b[38;5;132;01m{view_name}\u001b[39;00m\u001b[38;5;124m'\u001b[39m\u001b[38;5;124m)/tm1.Execute\u001b[39m\u001b[38;5;124m\"\u001b[39m,\n\u001b[0;32m   4314\u001b[0m                  cube_name\u001b[38;5;241m=\u001b[39mcube_name,\n\u001b[0;32m   4315\u001b[0m                  views\u001b[38;5;241m=\u001b[39m\u001b[38;5;124m'\u001b[39m\u001b[38;5;124mPrivateViews\u001b[39m\u001b[38;5;124m'\u001b[39m \u001b[38;5;28;01mif\u001b[39;00m private \u001b[38;5;28;01melse\u001b[39;00m \u001b[38;5;124m'\u001b[39m\u001b[38;5;124mViews\u001b[39m\u001b[38;5;124m'\u001b[39m,\n\u001b[0;32m   4316\u001b[0m                  view_name\u001b[38;5;241m=\u001b[39mview_name)\n\u001b[0;32m   4317\u001b[0m url \u001b[38;5;241m=\u001b[39m add_url_parameters(url, \u001b[38;5;241m*\u001b[39m\u001b[38;5;241m*\u001b[39m{\u001b[38;5;124m\"\u001b[39m\u001b[38;5;124m!sandbox\u001b[39m\u001b[38;5;124m\"\u001b[39m: sandbox_name})\n\u001b[1;32m-> 4318\u001b[0m \u001b[38;5;28;01mreturn\u001b[39;00m \u001b[38;5;28;43mself\u001b[39;49m\u001b[38;5;241;43m.\u001b[39;49m\u001b[43m_rest\u001b[49m\u001b[38;5;241;43m.\u001b[39;49m\u001b[43mPOST\u001b[49m\u001b[43m(\u001b[49m\u001b[43murl\u001b[49m\u001b[38;5;241;43m=\u001b[39;49m\u001b[43murl\u001b[49m\u001b[43m,\u001b[49m\u001b[43m \u001b[49m\u001b[38;5;241;43m*\u001b[39;49m\u001b[38;5;241;43m*\u001b[39;49m\u001b[43mkwargs\u001b[49m\u001b[43m)\u001b[49m\u001b[38;5;241m.\u001b[39mjson()[\u001b[38;5;124m'\u001b[39m\u001b[38;5;124mID\u001b[39m\u001b[38;5;124m'\u001b[39m]\n",
      "File \u001b[1;32mc:\\Users\\ErwanTang\\AppData\\Local\\Programs\\Python\\Python312\\Lib\\site-packages\\TM1py\\Services\\RestService.py:535\u001b[0m, in \u001b[0;36mRestService.POST\u001b[1;34m(self, url, data, headers, async_requests_mode, return_async_id, timeout, cancel_at_timeout, encoding, **kwargs)\u001b[0m\n\u001b[0;32m    512\u001b[0m \u001b[38;5;28;01mdef\u001b[39;00m \u001b[38;5;21mPOST\u001b[39m(\n\u001b[0;32m    513\u001b[0m         \u001b[38;5;28mself\u001b[39m,\n\u001b[0;32m    514\u001b[0m         url: \u001b[38;5;28mstr\u001b[39m,\n\u001b[1;32m   (...)\u001b[0m\n\u001b[0;32m    521\u001b[0m         encoding: \u001b[38;5;28mstr\u001b[39m \u001b[38;5;241m=\u001b[39m \u001b[38;5;124m'\u001b[39m\u001b[38;5;124mutf-8\u001b[39m\u001b[38;5;124m'\u001b[39m,\n\u001b[0;32m    522\u001b[0m         \u001b[38;5;241m*\u001b[39m\u001b[38;5;241m*\u001b[39mkwargs):\n\u001b[0;32m    523\u001b[0m \u001b[38;5;250m    \u001b[39m\u001b[38;5;124;03m\"\"\" Perform a GET request against TM1 instance\u001b[39;00m\n\u001b[0;32m    524\u001b[0m \u001b[38;5;124;03m    :param url:\u001b[39;00m\n\u001b[0;32m    525\u001b[0m \u001b[38;5;124;03m    :param data: the payload\u001b[39;00m\n\u001b[1;32m   (...)\u001b[0m\n\u001b[0;32m    532\u001b[0m \u001b[38;5;124;03m    :return: response object or async_id\u001b[39;00m\n\u001b[0;32m    533\u001b[0m \u001b[38;5;124;03m    \"\"\"\u001b[39;00m\n\u001b[1;32m--> 535\u001b[0m     response \u001b[38;5;241m=\u001b[39m \u001b[38;5;28;43mself\u001b[39;49m\u001b[38;5;241;43m.\u001b[39;49m\u001b[43mrequest\u001b[49m\u001b[43m(\u001b[49m\n\u001b[0;32m    536\u001b[0m \u001b[43m        \u001b[49m\u001b[43mmethod\u001b[49m\u001b[38;5;241;43m=\u001b[39;49m\u001b[38;5;124;43m'\u001b[39;49m\u001b[38;5;124;43mpost\u001b[39;49m\u001b[38;5;124;43m'\u001b[39;49m\u001b[43m,\u001b[49m\n\u001b[0;32m    537\u001b[0m \u001b[43m        \u001b[49m\u001b[43mheaders\u001b[49m\u001b[38;5;241;43m=\u001b[39;49m\u001b[43m{\u001b[49m\u001b[38;5;241;43m*\u001b[39;49m\u001b[38;5;241;43m*\u001b[39;49m\u001b[38;5;28;43mself\u001b[39;49m\u001b[38;5;241;43m.\u001b[39;49m\u001b[43m_headers\u001b[49m\u001b[43m,\u001b[49m\u001b[43m \u001b[49m\u001b[38;5;241;43m*\u001b[39;49m\u001b[38;5;241;43m*\u001b[39;49m\u001b[43mheaders\u001b[49m\u001b[43m}\u001b[49m\u001b[43m \u001b[49m\u001b[38;5;28;43;01mif\u001b[39;49;00m\u001b[43m \u001b[49m\u001b[43mheaders\u001b[49m\u001b[43m \u001b[49m\u001b[38;5;28;43;01melse\u001b[39;49;00m\u001b[43m \u001b[49m\u001b[38;5;28;43mself\u001b[39;49m\u001b[38;5;241;43m.\u001b[39;49m\u001b[43m_headers\u001b[49m\u001b[43m,\u001b[49m\n\u001b[0;32m    538\u001b[0m \u001b[43m        \u001b[49m\u001b[43murl\u001b[49m\u001b[38;5;241;43m=\u001b[39;49m\u001b[43murl\u001b[49m\u001b[43m,\u001b[49m\n\u001b[0;32m    539\u001b[0m \u001b[43m        \u001b[49m\u001b[43mdata\u001b[49m\u001b[38;5;241;43m=\u001b[39;49m\u001b[43mdata\u001b[49m\u001b[43m,\u001b[49m\n\u001b[0;32m    540\u001b[0m \u001b[43m        \u001b[49m\u001b[43masync_requests_mode\u001b[49m\u001b[38;5;241;43m=\u001b[39;49m\u001b[43masync_requests_mode\u001b[49m\u001b[43m,\u001b[49m\n\u001b[0;32m    541\u001b[0m \u001b[43m        \u001b[49m\u001b[43mreturn_async_id\u001b[49m\u001b[38;5;241;43m=\u001b[39;49m\u001b[43mreturn_async_id\u001b[49m\u001b[43m,\u001b[49m\n\u001b[0;32m    542\u001b[0m \u001b[43m        \u001b[49m\u001b[43mtimeout\u001b[49m\u001b[38;5;241;43m=\u001b[39;49m\u001b[43mtimeout\u001b[49m\u001b[43m \u001b[49m\u001b[38;5;28;43;01mif\u001b[39;49;00m\u001b[43m \u001b[49m\u001b[43mtimeout\u001b[49m\u001b[43m \u001b[49m\u001b[38;5;28;43;01melse\u001b[39;49;00m\u001b[43m \u001b[49m\u001b[38;5;28;43mself\u001b[39;49m\u001b[38;5;241;43m.\u001b[39;49m\u001b[43m_timeout\u001b[49m\u001b[43m,\u001b[49m\n\u001b[0;32m    543\u001b[0m \u001b[43m        \u001b[49m\u001b[43mcancel_at_timeout\u001b[49m\u001b[38;5;241;43m=\u001b[39;49m\u001b[43mcancel_at_timeout\u001b[49m\u001b[43m,\u001b[49m\n\u001b[0;32m    544\u001b[0m \u001b[43m        \u001b[49m\u001b[43mencoding\u001b[49m\u001b[38;5;241;43m=\u001b[39;49m\u001b[43mencoding\u001b[49m\n\u001b[0;32m    545\u001b[0m \u001b[43m    \u001b[49m\u001b[43m)\u001b[49m\n\u001b[0;32m    547\u001b[0m     \u001b[38;5;28;01mreturn\u001b[39;00m response\n",
      "File \u001b[1;32mc:\\Users\\ErwanTang\\AppData\\Local\\Programs\\Python\\Python312\\Lib\\site-packages\\TM1py\\Services\\RestService.py:324\u001b[0m, in \u001b[0;36mRestService.request\u001b[1;34m(self, method, url, data, encoding, async_requests_mode, return_async_id, timeout, cancel_at_timeout, **kwargs)\u001b[0m\n\u001b[0;32m    321\u001b[0m         response\u001b[38;5;241m.\u001b[39mstatus_code \u001b[38;5;241m=\u001b[39m \u001b[38;5;28mint\u001b[39m(response\u001b[38;5;241m.\u001b[39mheaders[\u001b[38;5;124m'\u001b[39m\u001b[38;5;124masyncresult\u001b[39m\u001b[38;5;124m'\u001b[39m])\n\u001b[0;32m    323\u001b[0m \u001b[38;5;66;03m# verify\u001b[39;00m\n\u001b[1;32m--> 324\u001b[0m \u001b[38;5;28;43mself\u001b[39;49m\u001b[38;5;241;43m.\u001b[39;49m\u001b[43mverify_response\u001b[49m\u001b[43m(\u001b[49m\u001b[43mresponse\u001b[49m\u001b[38;5;241;43m=\u001b[39;49m\u001b[43mresponse\u001b[49m\u001b[43m)\u001b[49m\n\u001b[0;32m    326\u001b[0m \u001b[38;5;66;03m# response encoding\u001b[39;00m\n\u001b[0;32m    327\u001b[0m response\u001b[38;5;241m.\u001b[39mencoding \u001b[38;5;241m=\u001b[39m encoding\n",
      "File \u001b[1;32mc:\\Users\\ErwanTang\\AppData\\Local\\Programs\\Python\\Python312\\Lib\\site-packages\\TM1py\\Services\\RestService.py:889\u001b[0m, in \u001b[0;36mRestService.verify_response\u001b[1;34m(response)\u001b[0m\n\u001b[0;32m    881\u001b[0m \u001b[38;5;250m\u001b[39m\u001b[38;5;124;03m\"\"\" check if Status Code is OK\u001b[39;00m\n\u001b[0;32m    882\u001b[0m \u001b[38;5;124;03m:Parameters:\u001b[39;00m\n\u001b[0;32m    883\u001b[0m \u001b[38;5;124;03m    `response`: String\u001b[39;00m\n\u001b[1;32m   (...)\u001b[0m\n\u001b[0;32m    886\u001b[0m \u001b[38;5;124;03m    TM1pyException, raises TM1pyException when Code is not 200, 204 etc.\u001b[39;00m\n\u001b[0;32m    887\u001b[0m \u001b[38;5;124;03m\"\"\"\u001b[39;00m\n\u001b[0;32m    888\u001b[0m \u001b[38;5;28;01mif\u001b[39;00m \u001b[38;5;129;01mnot\u001b[39;00m response\u001b[38;5;241m.\u001b[39mok:\n\u001b[1;32m--> 889\u001b[0m     \u001b[38;5;28;01mraise\u001b[39;00m TM1pyRestException(response\u001b[38;5;241m.\u001b[39mtext,\n\u001b[0;32m    890\u001b[0m                              status_code\u001b[38;5;241m=\u001b[39mresponse\u001b[38;5;241m.\u001b[39mstatus_code,\n\u001b[0;32m    891\u001b[0m                              reason\u001b[38;5;241m=\u001b[39mresponse\u001b[38;5;241m.\u001b[39mreason,\n\u001b[0;32m    892\u001b[0m                              headers\u001b[38;5;241m=\u001b[39mresponse\u001b[38;5;241m.\u001b[39mheaders)\n",
      "\u001b[1;31mTM1pyRestException\u001b[0m: Text: '{\"error\":{\"code\":\"278\",\"message\":\"'All' can not be found in collection of type 'View'.\"}}' - Status Code: 404 - Reason: 'Not Found' - Headers: {'Content-Length': '103', 'Connection': 'keep-alive', 'Content-Encoding': 'gzip', 'Cache-Control': 'no-cache', 'Content-Type': 'application/json; charset=utf-8', 'OData-Version': '4.0'}"
     ]
    }
   ],
   "source": [
    "client_groups_content = tm1.cubes.cells.execute_view_dataframe(cube_name='}ClientGroups',view_name='All')"
   ]
  },
  {
   "cell_type": "code",
   "execution_count": 21,
   "metadata": {},
   "outputs": [
    {
     "ename": "NameError",
     "evalue": "name 'client_groups_content' is not defined",
     "output_type": "error",
     "traceback": [
      "\u001b[1;31m---------------------------------------------------------------------------\u001b[0m",
      "\u001b[1;31mNameError\u001b[0m                                 Traceback (most recent call last)",
      "Cell \u001b[1;32mIn[21], line 1\u001b[0m\n\u001b[1;32m----> 1\u001b[0m \u001b[43mclient_groups_content\u001b[49m\n",
      "\u001b[1;31mNameError\u001b[0m: name 'client_groups_content' is not defined"
     ]
    }
   ],
   "source": [
    "client_groups_content"
   ]
  },
  {
   "cell_type": "code",
   "execution_count": 57,
   "metadata": {},
   "outputs": [
    {
     "data": {
      "text/plain": [
       "{'ADMIN',\n",
       " 'CFO',\n",
       " 'Contribute_Americas',\n",
       " 'Contribute_Central_Europe',\n",
       " 'DataAdmin',\n",
       " 'Education',\n",
       " 'Executive',\n",
       " 'Manager',\n",
       " 'Review_Americas',\n",
       " 'Review_Europe',\n",
       " 'View_Company',\n",
       " '}tp_Everyone'}"
      ]
     },
     "execution_count": 57,
     "metadata": {},
     "output_type": "execute_result"
    }
   ],
   "source": [
    "used_groups"
   ]
  },
  {
   "cell_type": "code",
   "execution_count": 2,
   "metadata": {},
   "outputs": [],
   "source": [
    "from TM1py.Utils import get_all_servers_from_adminhost\n",
    "\n",
    "tm1_instances_on_server = get_all_servers_from_adminhost('91.236.254.119',None,True)"
   ]
  },
  {
   "cell_type": "code",
   "execution_count": 4,
   "metadata": {},
   "outputs": [
    {
     "name": "stdout",
     "output_type": "stream",
     "text": [
      "CarSales_Test\n",
      "Datatilt - Interne\n",
      "Datatilt - Planning Equipe\n",
      "ESSP_Cost_Sheet_dev\n",
      "IBM - Demo2023\n",
      "Sample - SData\n",
      "SampleOutdoors ETA\n",
      "Socfin\n",
      "TK\n",
      "TM1 Login Server\n"
     ]
    }
   ],
   "source": [
    "for tm1_instance in tm1_instances_on_server:\n",
    "    print(tm1_instance.name)"
   ]
  },
  {
   "cell_type": "code",
   "execution_count": 7,
   "metadata": {},
   "outputs": [],
   "source": [
    "my_new_process = TM1py.Objects.Process(name='newprocess')"
   ]
  },
  {
   "cell_type": "code",
   "execution_count": 34,
   "metadata": {},
   "outputs": [
    {
     "data": {
      "text/plain": [
       "'#****Begin: Generated Statements***\\r\\n#****End: Generated Statements****\\r\\nB'"
      ]
     },
     "execution_count": 34,
     "metadata": {},
     "output_type": "execute_result"
    }
   ],
   "source": [
    "my_new_process.data_procedure"
   ]
  },
  {
   "cell_type": "code",
   "execution_count": 37,
   "metadata": {},
   "outputs": [],
   "source": [
    "def edit_process_code(process,section):\n",
    "    new_code = input('new code:')\n",
    "    if section.lower() == 'prolog':\n",
    "        my_new_process.prolog_procedure = my_new_process.prolog_procedure[:73]+new_code\n",
    "    elif section.lower() == 'metadata':\n",
    "        my_new_process.metadata_procedure = my_new_process.metadata_procedure[:73]+new_code\n",
    "    elif section.lower() == 'data':\n",
    "        my_new_process.data_procedure = my_new_process.data_procedure[:73]+new_code\n",
    "    elif section.lower() == 'epilog':\n",
    "        my_new_process.epilog_procedure = my_new_process.epilog_procedure[:73]+new_code"
   ]
  },
  {
   "cell_type": "code",
   "execution_count": 39,
   "metadata": {},
   "outputs": [
    {
     "data": {
      "text/plain": [
       "Process:{\"Name\": \"newprocess\", \"PrologProcedure\": \"#****Begin: Generated Statements***\\r\\n#****End: Generated Statements****\\r\\n\", \"MetadataProcedure\": \"#****Begin: Generated Statements***\\r\\n#****End: Generated Statements****\\r\\nazerty\", \"DataProcedure\": \"#****Begin: Generated Statements***\\r\\n#****End: Generated Statements****\\r\\nB\", \"EpilogProcedure\": \"#****Begin: Generated Statements***\\r\\n#****End: Generated Statements****\\r\\n\", \"HasSecurityAccess\": false, \"UIData\": \"CubeAction=1511\\fDataAction=1503\\fCubeLogChanges=0\\f\", \"DataSource\": {\"Type\": \"None\"}, \"Parameters\": [], \"Variables\": [], \"VariablesUIData\": []}"
      ]
     },
     "execution_count": 39,
     "metadata": {},
     "output_type": "execute_result"
    }
   ],
   "source": [
    "edit_process_code(my_new_process,'metadata')\n",
    "my_new_process"
   ]
  },
  {
   "cell_type": "code",
   "execution_count": 19,
   "metadata": {},
   "outputs": [
    {
     "data": {
      "text/plain": [
       "73"
      ]
     },
     "execution_count": 19,
     "metadata": {},
     "output_type": "execute_result"
    }
   ],
   "source": [
    "len('#****Begin: Generated Statements***\\r\\n#****End: Generated Statements****\\r\\n')"
   ]
  },
  {
   "cell_type": "code",
   "execution_count": 42,
   "metadata": {},
   "outputs": [
    {
     "data": {
      "text/plain": [
       "4"
      ]
     },
     "execution_count": 42,
     "metadata": {},
     "output_type": "execute_result"
    }
   ],
   "source": [
    "tm1.elements.get_levels_count(dimension_name='Region',hierarchy_name='Region')"
   ]
  },
  {
   "cell_type": "code",
   "execution_count": 43,
   "metadata": {},
   "outputs": [
    {
     "data": {
      "text/plain": [
       "['Scandinavia',\n",
       " 'Benelux',\n",
       " 'Islands',\n",
       " 'Central Europe',\n",
       " 'Iberia',\n",
       " 'Southern Europe',\n",
       " 'North America',\n",
       " 'South America']"
      ]
     },
     "execution_count": 43,
     "metadata": {},
     "output_type": "execute_result"
    }
   ],
   "source": [
    "tm1.elements.get_elements_by_level(dimension_name='Region',hierarchy_name='Region', level= 1)\n"
   ]
  },
  {
   "cell_type": "code",
   "execution_count": 48,
   "metadata": {},
   "outputs": [],
   "source": [
    "dimension_name = 'Region'"
   ]
  },
  {
   "cell_type": "code",
   "execution_count": 44,
   "metadata": {},
   "outputs": [
    {
     "data": {
      "text/plain": [
       "['level003', 'level002', 'level001', 'level000']"
      ]
     },
     "execution_count": 44,
     "metadata": {},
     "output_type": "execute_result"
    }
   ],
   "source": [
    "tm1.elements.get_level_names(dimension_name='Region',hierarchy_name='Region')"
   ]
  },
  {
   "cell_type": "code",
   "execution_count": 46,
   "metadata": {},
   "outputs": [
    {
     "data": {
      "text/plain": [
       "['Europe', 'Americas']"
      ]
     },
     "execution_count": 46,
     "metadata": {},
     "output_type": "execute_result"
    }
   ],
   "source": [
    "tm1.elements.get_members_under_consolidation(dimension_name='Region',hierarchy_name='Region',consolidation='World',max_depth=1)"
   ]
  },
  {
   "cell_type": "code",
   "execution_count": 54,
   "metadata": {},
   "outputs": [],
   "source": [
    "hierarchy = tm1.hierarchies.get(dimension_name=dimension_name, hierarchy_name=dimension_name)"
   ]
  },
  {
   "cell_type": "code",
   "execution_count": 72,
   "metadata": {},
   "outputs": [
    {
     "name": "stdout",
     "output_type": "stream",
     "text": [
      "4\n",
      "Hierarchy Name: Region\n",
      "['Europe', 'Americas']\n"
     ]
    }
   ],
   "source": [
    "levels_count = tm1.elements.get_levels_count(dimension_name=dimension_name,hierarchy_name=hierarchy.name)\n",
    "print(levels_count)\n",
    "elements_level = {}\n",
    "print('Hierarchy Name: {}'.format(hierarchy.name))\n",
    "for level in range(levels_count):\n",
    "    elements_by_level = tm1.elements.get_elements_by_level(dimension_name=dimension_name,hierarchy_name=hierarchy.name, level=level)\n",
    "    elements_level[level] = elements_by_level\n",
    "for max_conso in tm1.elements.get_elements_by_level(dimension_name=dimension_name,hierarchy_name=hierarchy.name, level=levels_count-1):\n",
    "    print([\n",
    "        level1 for level1 in [level0 for level0 in tm1.elements.get_members_under_consolidation(dimension_name='Region',hierarchy_name='Region',consolidation=max_conso,max_depth=1)\n",
    "        ]])"
   ]
  },
  {
   "cell_type": "code",
   "execution_count": 70,
   "metadata": {},
   "outputs": [
    {
     "name": "stdout",
     "output_type": "stream",
     "text": [
      "World\n",
      "['Europe', 'Americas']\n"
     ]
    }
   ],
   "source": [
    "for max_conso in tm1.elements.get_elements_by_level(dimension_name=dimension_name,hierarchy_name=hierarchy.name, level=levels_count-1):\n",
    "    print(max_conso)\n",
    "    print([level0 for level0 in tm1.elements.get_members_under_consolidation(dimension_name='Region',hierarchy_name='Region',consolidation='World',max_depth=1)])"
   ]
  },
  {
   "cell_type": "code",
   "execution_count": 77,
   "metadata": {},
   "outputs": [
    {
     "data": {
      "text/plain": [
       "[{'World': ['Europe', 'Americas']},\n",
       " {'Europe': ['Scandinavia',\n",
       "   'Benelux',\n",
       "   'Islands',\n",
       "   'Central Europe',\n",
       "   'Iberia',\n",
       "   'Southern Europe']},\n",
       " {'Scandinavia': ['Denmark', 'Norway', 'Sweden']},\n",
       " {'Benelux': ['Luxemburg', 'Netherlands', 'Belgium']},\n",
       " {'Islands': ['Great Britain', 'Ireland']},\n",
       " {'Central Europe': ['France', 'Germany']},\n",
       " {'Iberia': ['Portugal', 'Spain']},\n",
       " {'Southern Europe': ['Greece', 'Italy']},\n",
       " {'Americas': ['North America', 'South America']},\n",
       " {'North America': ['Canada', 'Mexico', 'United States']},\n",
       " {'South America': ['Argentina', 'Brazil', 'Chile', 'Uruguay']}]"
      ]
     },
     "execution_count": 77,
     "metadata": {},
     "output_type": "execute_result"
    }
   ],
   "source": [
    "all_levels = []\n",
    "for max_conso in tm1.elements.get_elements_by_level(dimension_name=dimension_name,hierarchy_name=hierarchy.name, level=levels_count-1):\n",
    "        all_levels += [{max_conso:tm1.elements.get_members_under_consolidation(dimension_name='Region',hierarchy_name='Region',consolidation=max_conso,max_depth=1)}]\n",
    "        for level0 in tm1.elements.get_members_under_consolidation(dimension_name='Region',hierarchy_name='Region',consolidation=max_conso,max_depth=1):\n",
    "            all_levels += [{level0:tm1.elements.get_members_under_consolidation(dimension_name='Region',hierarchy_name='Region',consolidation=level0,max_depth=1)}]\n",
    "            for level1 in tm1.elements.get_members_under_consolidation(dimension_name='Region',hierarchy_name='Region',consolidation=level0,max_depth=1):\n",
    "                all_levels += [{level1:tm1.elements.get_members_under_consolidation(dimension_name='Region',hierarchy_name='Region',consolidation=level1,max_depth=1)}]\n",
    "all_levels"
   ]
  },
  {
   "cell_type": "code",
   "execution_count": 81,
   "metadata": {},
   "outputs": [],
   "source": [
    "def replace_par_with_child(children_list):\n",
    "    for i in range(len(children_list)):\n",
    "        children_list[i] = {children_list[i]:tm1.elements.get_members_under_consolidation(dimension_name='Region',hierarchy_name='Region',consolidation=children_list[i],max_depth=1)}\n",
    "    "
   ]
  },
  {
   "cell_type": "code",
   "execution_count": 82,
   "metadata": {},
   "outputs": [
    {
     "data": {
      "text/plain": [
       "[{'Europe': ['Scandinavia',\n",
       "   'Benelux',\n",
       "   'Islands',\n",
       "   'Central Europe',\n",
       "   'Iberia',\n",
       "   'Southern Europe']},\n",
       " {'Americas': ['North America', 'South America']}]"
      ]
     },
     "execution_count": 82,
     "metadata": {},
     "output_type": "execute_result"
    }
   ],
   "source": [
    "L = ['Europe', 'Americas']\n",
    "replace_par_with_child(L)\n",
    "L\n"
   ]
  },
  {
   "cell_type": "code",
   "execution_count": 89,
   "metadata": {},
   "outputs": [
    {
     "name": "stderr",
     "output_type": "stream",
     "text": [
      "c:\\Users\\ErwanTang\\AppData\\Local\\Programs\\Python\\Python312\\Lib\\site-packages\\TM1py\\Services\\ElementService.py:381: FutureWarning: DataFrame.applymap has been deprecated. Use DataFrame.map instead.\n",
      "  df_data[cols_to_format] = df_data[cols_to_format].applymap(lambda x: '{:.6f}'.format(x))\n"
     ]
    }
   ],
   "source": [
    "par_dic = tm1.elements.get_parents_of_all_elements(dimension_name=dimension_name,hierarchy_name=dimension_name)\n",
    "par_dic\n",
    "dataframe = tm1.elements.get_elements_dataframe(dimension_name=dimension_name,hierarchy_name=dimension_name)"
   ]
  },
  {
   "cell_type": "code",
   "execution_count": 102,
   "metadata": {},
   "outputs": [],
   "source": [
    "level_names = tm1.elements.get_level_names(dimension_name=dimension_name,hierarchy_name=dimension_name)\n",
    "attribute_names = tm1.elements.get_element_attribute_names(dimension_name=dimension_name,hierarchy_name=dimension_name)\n",
    "attribute_names.reverse()"
   ]
  },
  {
   "cell_type": "code",
   "execution_count": 103,
   "metadata": {},
   "outputs": [
    {
     "data": {
      "text/plain": [
       "['By Vice President', 'H2 Reorg', 'Region', 'level002', 'level001', 'level000']"
      ]
     },
     "execution_count": 103,
     "metadata": {},
     "output_type": "execute_result"
    }
   ],
   "source": [
    "\n",
    "reordered_col = attribute_names + [hierarchy.name] + level_names[1:]\n",
    "reordered_col"
   ]
  },
  {
   "cell_type": "code",
   "execution_count": 105,
   "metadata": {},
   "outputs": [
    {
     "data": {
      "text/html": [
       "<div>\n",
       "<style scoped>\n",
       "    .dataframe tbody tr th:only-of-type {\n",
       "        vertical-align: middle;\n",
       "    }\n",
       "\n",
       "    .dataframe tbody tr th {\n",
       "        vertical-align: top;\n",
       "    }\n",
       "\n",
       "    .dataframe thead th {\n",
       "        text-align: right;\n",
       "    }\n",
       "</style>\n",
       "<table border=\"1\" class=\"dataframe\">\n",
       "  <thead>\n",
       "    <tr style=\"text-align: right;\">\n",
       "      <th></th>\n",
       "      <th>By Vice President</th>\n",
       "      <th>H2 Reorg</th>\n",
       "      <th>Region</th>\n",
       "      <th>level002</th>\n",
       "      <th>level001</th>\n",
       "      <th>level000</th>\n",
       "    </tr>\n",
       "  </thead>\n",
       "  <tbody>\n",
       "    <tr>\n",
       "      <th>0</th>\n",
       "      <td>VP1</td>\n",
       "      <td>Scandinavia</td>\n",
       "      <td>Denmark</td>\n",
       "      <td>Scandinavia</td>\n",
       "      <td>Europe</td>\n",
       "      <td>World</td>\n",
       "    </tr>\n",
       "    <tr>\n",
       "      <th>1</th>\n",
       "      <td>VP2</td>\n",
       "      <td>Scandinavia</td>\n",
       "      <td>Norway</td>\n",
       "      <td>Scandinavia</td>\n",
       "      <td>Europe</td>\n",
       "      <td>World</td>\n",
       "    </tr>\n",
       "    <tr>\n",
       "      <th>2</th>\n",
       "      <td>VP1</td>\n",
       "      <td>Scandinavia</td>\n",
       "      <td>Sweden</td>\n",
       "      <td>Scandinavia</td>\n",
       "      <td>Europe</td>\n",
       "      <td>World</td>\n",
       "    </tr>\n",
       "    <tr>\n",
       "      <th>3</th>\n",
       "      <td>VP1</td>\n",
       "      <td>Benelux</td>\n",
       "      <td>Luxemburg</td>\n",
       "      <td>Benelux</td>\n",
       "      <td>Europe</td>\n",
       "      <td>World</td>\n",
       "    </tr>\n",
       "    <tr>\n",
       "      <th>4</th>\n",
       "      <td>VP2</td>\n",
       "      <td>Benelux</td>\n",
       "      <td>Netherlands</td>\n",
       "      <td>Benelux</td>\n",
       "      <td>Europe</td>\n",
       "      <td>World</td>\n",
       "    </tr>\n",
       "    <tr>\n",
       "      <th>5</th>\n",
       "      <td>VP2</td>\n",
       "      <td>Benelux</td>\n",
       "      <td>Belgium</td>\n",
       "      <td>Benelux</td>\n",
       "      <td>Europe</td>\n",
       "      <td>World</td>\n",
       "    </tr>\n",
       "    <tr>\n",
       "      <th>6</th>\n",
       "      <td>VP1</td>\n",
       "      <td>Islands</td>\n",
       "      <td>Great Britain</td>\n",
       "      <td>Islands</td>\n",
       "      <td>Europe</td>\n",
       "      <td>World</td>\n",
       "    </tr>\n",
       "    <tr>\n",
       "      <th>7</th>\n",
       "      <td>VP2</td>\n",
       "      <td>Islands</td>\n",
       "      <td>Ireland</td>\n",
       "      <td>Islands</td>\n",
       "      <td>Europe</td>\n",
       "      <td>World</td>\n",
       "    </tr>\n",
       "    <tr>\n",
       "      <th>8</th>\n",
       "      <td>VP1</td>\n",
       "      <td>Central Europe</td>\n",
       "      <td>France</td>\n",
       "      <td>Central Europe</td>\n",
       "      <td>Europe</td>\n",
       "      <td>World</td>\n",
       "    </tr>\n",
       "    <tr>\n",
       "      <th>9</th>\n",
       "      <td>VP2</td>\n",
       "      <td>Central Europe</td>\n",
       "      <td>Germany</td>\n",
       "      <td>Central Europe</td>\n",
       "      <td>Europe</td>\n",
       "      <td>World</td>\n",
       "    </tr>\n",
       "    <tr>\n",
       "      <th>10</th>\n",
       "      <td>VP1</td>\n",
       "      <td>Iberia</td>\n",
       "      <td>Portugal</td>\n",
       "      <td>Iberia</td>\n",
       "      <td>Europe</td>\n",
       "      <td>World</td>\n",
       "    </tr>\n",
       "    <tr>\n",
       "      <th>11</th>\n",
       "      <td>VP2</td>\n",
       "      <td>Iberia</td>\n",
       "      <td>Spain</td>\n",
       "      <td>Iberia</td>\n",
       "      <td>Europe</td>\n",
       "      <td>World</td>\n",
       "    </tr>\n",
       "    <tr>\n",
       "      <th>12</th>\n",
       "      <td>VP1</td>\n",
       "      <td>Southern Europe</td>\n",
       "      <td>Greece</td>\n",
       "      <td>Southern Europe</td>\n",
       "      <td>Europe</td>\n",
       "      <td>World</td>\n",
       "    </tr>\n",
       "    <tr>\n",
       "      <th>13</th>\n",
       "      <td>VP2</td>\n",
       "      <td>Southern Europe</td>\n",
       "      <td>Italy</td>\n",
       "      <td>Southern Europe</td>\n",
       "      <td>Europe</td>\n",
       "      <td>World</td>\n",
       "    </tr>\n",
       "    <tr>\n",
       "      <th>14</th>\n",
       "      <td>VP1</td>\n",
       "      <td>North America</td>\n",
       "      <td>Canada</td>\n",
       "      <td>North America</td>\n",
       "      <td>Americas</td>\n",
       "      <td>World</td>\n",
       "    </tr>\n",
       "    <tr>\n",
       "      <th>15</th>\n",
       "      <td>VP2</td>\n",
       "      <td>North America</td>\n",
       "      <td>Mexico</td>\n",
       "      <td>North America</td>\n",
       "      <td>Americas</td>\n",
       "      <td>World</td>\n",
       "    </tr>\n",
       "    <tr>\n",
       "      <th>16</th>\n",
       "      <td>VP1</td>\n",
       "      <td>North America</td>\n",
       "      <td>United States</td>\n",
       "      <td>North America</td>\n",
       "      <td>Americas</td>\n",
       "      <td>World</td>\n",
       "    </tr>\n",
       "    <tr>\n",
       "      <th>17</th>\n",
       "      <td>VP2</td>\n",
       "      <td>South America</td>\n",
       "      <td>Argentina</td>\n",
       "      <td>South America</td>\n",
       "      <td>Americas</td>\n",
       "      <td>World</td>\n",
       "    </tr>\n",
       "    <tr>\n",
       "      <th>18</th>\n",
       "      <td>VP1</td>\n",
       "      <td>South America</td>\n",
       "      <td>Brazil</td>\n",
       "      <td>South America</td>\n",
       "      <td>Americas</td>\n",
       "      <td>World</td>\n",
       "    </tr>\n",
       "    <tr>\n",
       "      <th>19</th>\n",
       "      <td>VP2</td>\n",
       "      <td>South America</td>\n",
       "      <td>Chile</td>\n",
       "      <td>South America</td>\n",
       "      <td>Americas</td>\n",
       "      <td>World</td>\n",
       "    </tr>\n",
       "    <tr>\n",
       "      <th>20</th>\n",
       "      <td>VP1</td>\n",
       "      <td>South America</td>\n",
       "      <td>Uruguay</td>\n",
       "      <td>South America</td>\n",
       "      <td>Americas</td>\n",
       "      <td>World</td>\n",
       "    </tr>\n",
       "  </tbody>\n",
       "</table>\n",
       "</div>"
      ],
      "text/plain": [
       "   By Vice President         H2 Reorg         Region         level002  \\\n",
       "0                VP1      Scandinavia        Denmark      Scandinavia   \n",
       "1                VP2      Scandinavia         Norway      Scandinavia   \n",
       "2                VP1      Scandinavia         Sweden      Scandinavia   \n",
       "3                VP1          Benelux      Luxemburg          Benelux   \n",
       "4                VP2          Benelux    Netherlands          Benelux   \n",
       "5                VP2          Benelux        Belgium          Benelux   \n",
       "6                VP1          Islands  Great Britain          Islands   \n",
       "7                VP2          Islands        Ireland          Islands   \n",
       "8                VP1   Central Europe         France   Central Europe   \n",
       "9                VP2   Central Europe        Germany   Central Europe   \n",
       "10               VP1           Iberia       Portugal           Iberia   \n",
       "11               VP2           Iberia          Spain           Iberia   \n",
       "12               VP1  Southern Europe         Greece  Southern Europe   \n",
       "13               VP2  Southern Europe          Italy  Southern Europe   \n",
       "14               VP1    North America         Canada    North America   \n",
       "15               VP2    North America         Mexico    North America   \n",
       "16               VP1    North America  United States    North America   \n",
       "17               VP2    South America      Argentina    South America   \n",
       "18               VP1    South America         Brazil    South America   \n",
       "19               VP2    South America          Chile    South America   \n",
       "20               VP1    South America        Uruguay    South America   \n",
       "\n",
       "    level001 level000  \n",
       "0     Europe    World  \n",
       "1     Europe    World  \n",
       "2     Europe    World  \n",
       "3     Europe    World  \n",
       "4     Europe    World  \n",
       "5     Europe    World  \n",
       "6     Europe    World  \n",
       "7     Europe    World  \n",
       "8     Europe    World  \n",
       "9     Europe    World  \n",
       "10    Europe    World  \n",
       "11    Europe    World  \n",
       "12    Europe    World  \n",
       "13    Europe    World  \n",
       "14  Americas    World  \n",
       "15  Americas    World  \n",
       "16  Americas    World  \n",
       "17  Americas    World  \n",
       "18  Americas    World  \n",
       "19  Americas    World  \n",
       "20  Americas    World  "
      ]
     },
     "execution_count": 105,
     "metadata": {},
     "output_type": "execute_result"
    }
   ],
   "source": [
    "dataframe.loc[:,reordered_col]"
   ]
  },
  {
   "cell_type": "code",
   "execution_count": 110,
   "metadata": {},
   "outputs": [],
   "source": [
    "c = tm1.chores.get('CreateProducts_ProductTypeSubsets')\n"
   ]
  },
  {
   "cell_type": "code",
   "execution_count": 133,
   "metadata": {},
   "outputs": [
    {
     "data": {
      "text/plain": [
       "False"
      ]
     },
     "execution_count": 133,
     "metadata": {},
     "output_type": "execute_result"
    }
   ],
   "source": [
    "c.dst_sensitivity"
   ]
  },
  {
   "cell_type": "code",
   "execution_count": 124,
   "metadata": {},
   "outputs": [],
   "source": [
    "s = set([1,3])\n",
    "s.update([1,2,3])"
   ]
  },
  {
   "cell_type": "code",
   "execution_count": 126,
   "metadata": {},
   "outputs": [
    {
     "data": {
      "text/plain": [
       "['AA_Care_Sales_Taille',\n",
       " 'BTA',\n",
       " 'Care_Sales_Taille',\n",
       " 'DL_Import_Sales_Test',\n",
       " 'DL_Import_Sales_Test_ETA',\n",
       " 'DL_Sales_Sales_Test',\n",
       " 'Import_Sales_Tes_Adel',\n",
       " 'LSA',\n",
       " 'LSA_Mois',\n",
       " 'Mensualisation_LSA',\n",
       " 'Mensualisation_YGH',\n",
       " 'SalesPlanDeleteData',\n",
       " 'Transfer_Versions_Month',\n",
       " 'YGH',\n",
       " '}izi.cube.data.copy',\n",
       " '}tp_add_user_security_from_file',\n",
       " '}tp_application_deploy',\n",
       " '}tp_custom_TI_update_TI_cube',\n",
       " '}tp_deploy_app_cubes_cleanup',\n",
       " '}tp_reset_state']"
      ]
     },
     "execution_count": 126,
     "metadata": {},
     "output_type": "execute_result"
    }
   ],
   "source": [
    "tm1.processes.search_string_in_code('ViewZeroOut')"
   ]
  },
  {
   "cell_type": "code",
   "execution_count": 130,
   "metadata": {},
   "outputs": [
    {
     "name": "stdout",
     "output_type": "stream",
     "text": [
      "\n",
      "#****Begin: Generated Statements***\n",
      "#****End: Generated Statements****\n",
      "\n",
      "#######################################\n",
      "# -- Import de données .csv vers cube Sales_Test\n",
      "# -- ETA - Date: 28/03/2024\n",
      "#######################################\n",
      "\n",
      "# -- Déclaration des variables\n",
      "\n",
      "vViewNamePurge= GetProcessName() | 'Purge';\n",
      "vSubsetNamePurge = GetProcessName() | 'Purge';\n",
      "vCubeCible ='Sales_Test';\n",
      "zFile = 'Import_Sales_Test.csv';\n",
      "\n",
      "# -- Définition du nom et de l'emplacement du fichier source\n",
      "File = 'D:\\Applications\\Tm1\\CarSales_Test\\Fichier\\' | zFile;\n",
      "\n",
      "\n",
      "# -- Définition de la source de données\n",
      "DataSourceNameForServer = File;\n",
      "\n",
      "\n",
      "# -- Création de la vue de purge \n",
      "ViewDestroy(vCubeCible, vViewNamePurge);\n",
      "ViewCreate (vCubeCible, vViewNamePurge,0);\n",
      "\n",
      "vDim = 'Time';\n",
      "SubsetDestroy(vDim,vSubsetNamePurge);\n",
      "SubsetCreate(vDim,vSubsetNamePurge,0);\n",
      "i=1;\n",
      "iMax= DimSiz(vDim);\n",
      "while (i<=iMax);\n",
      "vElem= DimNm(vDim,i);\n",
      "\tIF (Ellev(vDim,vElem)=0 & Elisanc(vDim, pAnnee, vElem)=1);\n",
      "\t\tSubsetElementInsert (vDim,vSubsetNamePurge, vElem,1);\n",
      "\tEndif;\n",
      "\ti=i+1;\n",
      "End;\n",
      "\n",
      "ViewZeroOut(vCubeCible, vViewNamePurge);\n",
      "\n",
      "\n",
      "#****Begin: Generated Statements***\n",
      "#****End: Generated Statements****\n",
      "\n",
      "\n",
      "#****Begin: Generated Statements***\n",
      "#****End: Generated Statements****\n",
      "\n",
      "\n",
      "vDim =  'Time';\n",
      "i=1;\n",
      "iMax=DimSiz(vDim);\n",
      "while (i<=iMax);\n",
      "     vElem = DimNM(vDim,i);\n",
      "          if (Ellev(vDim,vElem)=0 & Elisanc(vDim,pAnnee, vElem)=1 & Attrs(vDim, vElem, 'Month') @=v5);\n",
      "\n",
      "                CellPutN( Value, vCubeCible, Version, region, product_test, account, velem);\n",
      "         endif;\n",
      "         i=i+1;\n",
      "end;\n",
      "\n",
      "\n",
      "#****Begin: Generated Statements***\n",
      "#****End: Generated Statements****\n",
      "\n",
      "ViewDestroy( vCubeCible, vViewNamePurge);\n",
      "m=1;\n",
      "while (TABDIM (vCubeCible, m) @<>'');\n",
      "     SubsetDestroy( TABDIM( vCubeCible, m) ,vViewNamePurge);\n",
      "m=m+1;\n",
      "end;\n",
      "\n"
     ]
    }
   ],
   "source": [
    "print(tm1.processes.get('DL_Import_Sales_Test_ETA').prolog_procedure)\n",
    "print(tm1.processes.get('DL_Import_Sales_Test_ETA').metadata_procedure)\n",
    "print(tm1.processes.get('DL_Import_Sales_Test_ETA').data_procedure)\n",
    "print(tm1.processes.get('DL_Import_Sales_Test_ETA').epilog_procedure)\n"
   ]
  },
  {
   "cell_type": "code",
   "execution_count": 55,
   "metadata": {},
   "outputs": [
    {
     "data": {
      "text/plain": [
       "<Response [204]>"
      ]
     },
     "execution_count": 55,
     "metadata": {},
     "output_type": "execute_result"
    }
   ],
   "source": [
    "tm1.cubes.delete('}PickList_}DimensionProperties')"
   ]
  },
  {
   "cell_type": "code",
   "execution_count": 4,
   "metadata": {},
   "outputs": [
    {
     "data": {
      "text/plain": [
       "True"
      ]
     },
     "execution_count": 4,
     "metadata": {},
     "output_type": "execute_result"
    }
   ],
   "source": [
    "if not(tm1.dimensions.exists('}Picklist')):\n",
    "    picklist_dim = TM1py.Dimension('}Picklist')\n",
    "    tm1.dimensions.create(picklist_dim)\n"
   ]
  },
  {
   "cell_type": "code",
   "execution_count": null,
   "metadata": {},
   "outputs": [],
   "source": [
    "newcube = TM1py.Cube('}}PickList_DimensionProperties',[''])"
   ]
  },
  {
   "cell_type": "code",
   "execution_count": 18,
   "metadata": {},
   "outputs": [
    {
     "data": {
      "text/plain": [
       "Cube:{\"Name\": \"}PickList_TEST\", \"Dimensions@odata.bind\": [\"Dimensions('Region')\", \"Dimensions('Indicateur')\", \"Dimensions('}PickList')\"], \"Rules\": \"SKIPCHECK;\\n\\n['FPM'] = S: IF( DB('TEST', !Region, 'CPM' ) @= '' & DB('TEST', !Region, 'AMP' ) @= ''  , 'Static::x' , 'Static::'); \\n\\n['CPM'] = S: IF( DB('TEST', !Region, 'FPM' ) @= '' & DB('TEST', !Region, 'AMP' ) @= '' , 'Static::x' , 'Static::'); \\n\\n['AMP'] = S: IF( DB('TEST', !Region, 'CPM' ) @= '' & DB('TEST', !Region, 'FPM' ) @= '' , 'Static::x' , 'Static::'); \\n\\nFEEDERS;\"}"
      ]
     },
     "execution_count": 18,
     "metadata": {},
     "output_type": "execute_result"
    }
   ],
   "source": [
    "tm1.cubes.get('}PickList_TEST')"
   ]
  },
  {
   "cell_type": "code",
   "execution_count": 32,
   "metadata": {},
   "outputs": [],
   "source": [
    "dimension_name = 'dimension_test'"
   ]
  },
  {
   "cell_type": "code",
   "execution_count": 48,
   "metadata": {},
   "outputs": [
    {
     "data": {
      "text/plain": [
       "True"
      ]
     },
     "execution_count": 48,
     "metadata": {},
     "output_type": "execute_result"
    }
   ],
   "source": [
    "selected_sync_option = tm1.cells.get_value(cube_name='}DimensionProperties',elements=f\"{dimension_name},TOUPDATE\",dimensions=['}Dimensions','}DimensionProperties'])\n",
    "selected_sync_option\n",
    "'elements' in selected_sync_option.lower()"
   ]
  },
  {
   "cell_type": "code",
   "execution_count": 45,
   "metadata": {},
   "outputs": [
    {
     "data": {
      "text/plain": [
       "<TM1py.Services.AnnotationService.AnnotationService at 0x1fd3c738830>"
      ]
     },
     "execution_count": 45,
     "metadata": {},
     "output_type": "execute_result"
    }
   ],
   "source": [
    "from TM1py.Utils import Utils\n",
    "\n",
    "Utils.get_all_servers_from_adminhost()"
   ]
  },
  {
   "cell_type": "code",
   "execution_count": 50,
   "metadata": {},
   "outputs": [
    {
     "data": {
      "text/plain": [
       "<Response [204]>"
      ]
     },
     "execution_count": 50,
     "metadata": {},
     "output_type": "execute_result"
    }
   ],
   "source": [
    "tm1.cells.write_value(value='Updated',cube_name='}DimensionProperties',element_tuple=(dimension_name,'TOUPDATE'),dimensions=['}Dimensions','}DimensionProperties'])"
   ]
  },
  {
   "cell_type": "code",
   "execution_count": 56,
   "metadata": {},
   "outputs": [],
   "source": [
    "tm1_master = TM1Service(**config['tm1srv01'])\n",
    "tm1_other = TM1Service(**config['tm1srv02'])"
   ]
  },
  {
   "cell_type": "code",
   "execution_count": 58,
   "metadata": {},
   "outputs": [],
   "source": [
    "dimension_master = tm1_master.dimensions.get(dimension_name=dimension_name)                 # main dimension\n",
    "tm1_other.dimensions.update(dimension_master)"
   ]
  }
 ],
 "metadata": {
  "kernelspec": {
   "display_name": "Python 3",
   "language": "python",
   "name": "python3"
  },
  "language_info": {
   "codemirror_mode": {
    "name": "ipython",
    "version": 3
   },
   "file_extension": ".py",
   "mimetype": "text/x-python",
   "name": "python",
   "nbconvert_exporter": "python",
   "pygments_lexer": "ipython3",
   "version": "3.12.2"
  }
 },
 "nbformat": 4,
 "nbformat_minor": 2
}
