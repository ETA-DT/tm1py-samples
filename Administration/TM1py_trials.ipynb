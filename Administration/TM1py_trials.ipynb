{
 "cells": [
  {
   "cell_type": "markdown",
   "metadata": {},
   "source": [
    "## Read rules from all cubes and sort cubes by some metrics (Number rows, Number feeders,... )"
   ]
  },
  {
   "cell_type": "code",
   "execution_count": 1,
   "metadata": {},
   "outputs": [],
   "source": [
    "import configparser\n",
    "from TM1py.Services import TM1Service"
   ]
  },
  {
   "cell_type": "code",
   "execution_count": 19,
   "metadata": {},
   "outputs": [
    {
     "data": {
      "text/plain": [
       "['../config.ini']"
      ]
     },
     "execution_count": 19,
     "metadata": {},
     "output_type": "execute_result"
    }
   ],
   "source": [
    "config = configparser.ConfigParser()\n",
    "config.read(r'../config.ini')"
   ]
  },
  {
   "cell_type": "code",
   "execution_count": 154,
   "metadata": {},
   "outputs": [],
   "source": [
    "with TM1Service(**config['tm1srv01']) as tm1:\n",
    "    all_cubes = tm1.cubes.get_all()\n",
    "    control_cubes = tm1.cubes.get_control_cubes()\n",
    "    no_control_cubes = list(set(all_cubes)-set(control_cubes))\n"
   ]
  },
  {
   "cell_type": "code",
   "execution_count": 155,
   "metadata": {},
   "outputs": [
    {
     "data": {
      "text/plain": [
       "False"
      ]
     },
     "execution_count": 155,
     "metadata": {},
     "output_type": "execute_result"
    }
   ],
   "source": [
    "# cubes with SKIPCHECK\n",
    "cubes_with_skipcheck = [cube.name for cube in cubes if cube.skipcheck]\n",
    "cubes[0].skipcheck\n",
    "# print(\"Cubes with SKIPCHECK:\")\n",
    "# print(cubes_with_skipcheck)"
   ]
  },
  {
   "cell_type": "code",
   "execution_count": 91,
   "metadata": {},
   "outputs": [
    {
     "data": {
      "text/plain": [
       "['Commissions',\n",
       " 'Customer_Churn',\n",
       " 'Expenses',\n",
       " 'Price_and_Cost',\n",
       " 'Rules',\n",
       " 'RulesEXOzied',\n",
       " 'Sales',\n",
       " 'Sales_Plan',\n",
       " 'Spread_Profile_SubsByMonth',\n",
       " 'System Parameter',\n",
       " 'TEST',\n",
       " '}ClientProperties',\n",
       " '}ClientSettings',\n",
       " '}ElementAttributes_}Clients',\n",
       " '}ElementSecurity_}tp_applications',\n",
       " '}PickList_TEST',\n",
       " '}StatsByClient',\n",
       " '}tp_application_root_permissions']"
      ]
     },
     "execution_count": 91,
     "metadata": {},
     "output_type": "execute_result"
    }
   ],
   "source": [
    "tm1.cubes.get_all_names_with_rules()"
   ]
  },
  {
   "cell_type": "code",
   "execution_count": 156,
   "metadata": {},
   "outputs": [
    {
     "data": {
      "text/plain": [
       "True"
      ]
     },
     "execution_count": 156,
     "metadata": {},
     "output_type": "execute_result"
    }
   ],
   "source": [
    "tm1.cubes.get('Commissions').rules.skipcheck"
   ]
  },
  {
   "cell_type": "code",
   "execution_count": 158,
   "metadata": {},
   "outputs": [
    {
     "name": "stdout",
     "output_type": "stream",
     "text": [
      "Cubes sorted by number of Rule Statements:\n",
      "['System Parameter', 'Customer_Churn', 'Commissions', 'RulesEXOzied', 'Expenses', 'Rules', 'Sales', 'Price_and_Cost', 'TEST', 'Sales_Plan', 'Spread_Profile_SubsByMonth', 'Cible_LSA_Taille_Mois', 'Franchise_Revenue', '_ElementAttributes_Price_and_Cost_Measures', 'Cible_LSA_Taille', 'Spread_Profile_Subsidiary', 'Cible_LSA_Mois', 'Source_A', '_ElementAttributes__Clients', 'Cible_B', 'RATIO', 'Mensualisation', '_ElementAttributes_Sales_Plan_Measures', 'Cible_YGH_2', 'Cible_LSA', '_ElementAttributes__Groups', '_ElementAttributes_Months', 'Sales_Test', 'Source_LSA', 'Spread_Profiles', 'Source_YGH']\n"
     ]
    }
   ],
   "source": [
    "no_control_cubes.sort(key=lambda cube: len(cube.rules.rule_statements) if cube.has_rules else 0, reverse=True)\n",
    "\n",
    "print(\"Cubes sorted by number of Rule Statements:\")\n",
    "print([cube.name for cube in no_control_cubes])"
   ]
  }
 ],
 "metadata": {
  "kernelspec": {
   "display_name": "Python 3",
   "language": "python",
   "name": "python3"
  },
  "language_info": {
   "codemirror_mode": {
    "name": "ipython",
    "version": 3
   },
   "file_extension": ".py",
   "mimetype": "text/x-python",
   "name": "python",
   "nbconvert_exporter": "python",
   "pygments_lexer": "ipython3",
   "version": "3.12.2"
  }
 },
 "nbformat": 4,
 "nbformat_minor": 2
}
