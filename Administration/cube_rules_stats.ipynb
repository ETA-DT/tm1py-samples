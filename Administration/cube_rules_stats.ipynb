{
 "cells": [
  {
   "cell_type": "markdown",
   "metadata": {},
   "source": [
    "## Read rules from all cubes and sort cubes by some metrics (Number rows, Number feeders,... )"
   ]
  },
  {
   "cell_type": "code",
   "execution_count": 1,
   "metadata": {},
   "outputs": [],
   "source": [
    "import configparser\n",
    "from TM1py.Services import TM1Service"
   ]
  },
  {
   "cell_type": "code",
   "execution_count": 19,
   "metadata": {},
   "outputs": [
    {
     "data": {
      "text/plain": [
       "['../config.ini']"
      ]
     },
     "execution_count": 19,
     "metadata": {},
     "output_type": "execute_result"
    }
   ],
   "source": [
    "config = configparser.ConfigParser()\n",
    "config.read(r'../config.ini')"
   ]
  },
  {
   "cell_type": "code",
   "execution_count": 136,
   "metadata": {},
   "outputs": [],
   "source": [
    "with TM1Service(**config['tm1srv01']) as tm1:\n",
    "    cubes_no_control = tm1.cubes.get_all(skip_control_cubes=True)\n",
    "    control_cubes = tm1.cubes.get_control_cubes()\n"
   ]
  },
  {
   "cell_type": "code",
   "execution_count": 138,
   "metadata": {},
   "outputs": [
    {
     "data": {
      "text/plain": [
       "[Cube:{\"Name\": \"_ElementAttributes__Clients\", \"Dimensions@odata.bind\": [\"Dimensions('Sandboxes')\", \"Dimensions('}Clients')\", \"Dimensions('}ElementAttributes_}Clients')\"]},\n",
       " Cube:{\"Name\": \"_ElementAttributes__Groups\", \"Dimensions@odata.bind\": [\"Dimensions('Sandboxes')\", \"Dimensions('}Groups')\", \"Dimensions('}ElementAttributes_}Groups')\"]},\n",
       " Cube:{\"Name\": \"_ElementAttributes_Months\", \"Dimensions@odata.bind\": [\"Dimensions('Sandboxes')\", \"Dimensions('Months')\", \"Dimensions('}ElementAttributes_Months')\"]},\n",
       " Cube:{\"Name\": \"_ElementAttributes_Price_and_Cost_Measures\", \"Dimensions@odata.bind\": [\"Dimensions('Sandboxes')\", \"Dimensions('Price_and_Cost_Measures')\", \"Dimensions('}ElementAttributes_Price_and_Cost_Measures')\"]},\n",
       " Cube:{\"Name\": \"_ElementAttributes_Sales_Plan_Measures\", \"Dimensions@odata.bind\": [\"Dimensions('Sandboxes')\", \"Dimensions('Sales_Plan_Measures')\", \"Dimensions('}ElementAttributes_Sales_Plan_Measures')\"]},\n",
       " Cube:{\"Name\": \"Cible_B\", \"Dimensions@odata.bind\": [\"Dimensions('Sandboxes')\", \"Dimensions('Product')\", \"Dimensions('Sales_Plan_Measures')\"]},\n",
       " Cube:{\"Name\": \"Cible_LSA\", \"Dimensions@odata.bind\": [\"Dimensions('Sandboxes')\", \"Dimensions('Product')\", \"Dimensions('Sales_Plan_Measures')\"]},\n",
       " Cube:{\"Name\": \"Cible_LSA_Mois\", \"Dimensions@odata.bind\": [\"Dimensions('Sandboxes')\", \"Dimensions('Product')\", \"Dimensions('Months')\", \"Dimensions('Sales_Plan_Measures')\"]},\n",
       " Cube:{\"Name\": \"Cible_LSA_Taille\", \"Dimensions@odata.bind\": [\"Dimensions('Sandboxes')\", \"Dimensions('Product')\", \"Dimensions('TAILLES')\", \"Dimensions('Sales_Plan_Measures')\"]},\n",
       " Cube:{\"Name\": \"Cible_LSA_Taille_Mois\", \"Dimensions@odata.bind\": [\"Dimensions('Sandboxes')\", \"Dimensions('Product')\", \"Dimensions('TAILLES')\", \"Dimensions('Months')\", \"Dimensions('Sales_Plan_Measures')\"]},\n",
       " Cube:{\"Name\": \"Cible_YGH_2\", \"Dimensions@odata.bind\": [\"Dimensions('Sandboxes')\", \"Dimensions('Product')\", \"Dimensions('Months')\", \"Dimensions('Sales_Plan_Measures')\"]},\n",
       " Cube:{\"Name\": \"Commissions\", \"Dimensions@odata.bind\": [\"Dimensions('Sandboxes')\", \"Dimensions('Subsidiaries')\", \"Dimensions('Months')\", \"Dimensions('Versions')\", \"Dimensions('Commission_Measures')\"], \"Rules\": \"SKIPCHECK;\\n# Pull data from the Sales_Plan cube\\n['Gross Sales Revenue' ]  = DB('Sales_Plan', !Subsidiaries,\\n\\t 'ALL CHANNELS', 'TOTAL PRODUCTS', !Months, !Versions, 'GROSS SALES REVENUE');\\n\\n# Calculate average Commission% at the consolidated level\\n['Commission_hold' ]  = N: ['Commission%' ] ;\\n['Commission_count'] = N: IF(['Commission%']<>0,1,0);\\n['Commission%'] = C: (['Commission_hold']\\\\['Commission_count']);\\n\\n# Calculate commission\\n['Commission'] = N: (['Gross Sales Revenue']*['Commission%'])/100;\\nFEEDERS;\\n['Commission%'] => ['Commission'],['Commission_hold'],['Commission_count'];\\n['Commission%'] => DB('Expenses', !Versions, !Months, !Subsidiaries, 'Commission', 'Amount') ;\"},\n",
       " Cube:{\"Name\": \"Customer_Churn\", \"Dimensions@odata.bind\": [\"Dimensions('Sandboxes')\", \"Dimensions('Months')\", \"Dimensions('Churn_Measures')\"], \"Rules\": \"SKIPCHECK;\\n['Customers at Start of Period', {'Jan','Q1','Total Year'}]=N:['Existing Customers (Pd1)','Jan'];\\n['Attrition (Numbers)']=N:['Customers at Start of Period']*\\n['Attrition Rate (%)'];\\n['CUSTOMERS EXPECTED TO PURCHASE SPECIAL OFFER']= N:(['Customers at Start of Period']*.9);\\n['PROJECTED REVENUE']=N:['CUSTOMERS EXPECTED TO PURCHASE SPECIAL OFFER']*['Average Purchase $ per Customer'];\\n\\n['Customers at Start of Period']= DB('Customer_Churn',\\n\\tATTRS ('Months', !Months, 'Previous'),'PROJECTED CUSTOMERS AT END OF PERIOD');\\n\\n['PROJECTED CUSTOMERS AT END OF PERIOD','Q1'] = C:['Mar'];\\n['PROJECTED CUSTOMERS AT END OF PERIOD','Q2'] = C:['Jun'];\\n['PROJECTED CUSTOMERS AT END OF PERIOD','Q3'] = C:['Sep'];\\n['PROJECTED CUSTOMERS AT END OF PERIOD',{'Q4','Total Year'}] = C:['Dec'];\\n\\n#Region Feeder Statements\\nFEEDERS;\\n\\t['Existing customers (Pd1)','Jan']=>['Customers at Start of Period','Jan'];\\n\\t['Attrition Rate (%)']=>['Attrition (Numbers)'];\\n\\t['Customers at Start of Period']=>['CUSTOMERS EXPECTED TO PURCHASE SPECIAL OFFER'];\\n\\t['Average Purchase $ per Customer']=>['PROJECTED REVENUE'];\\n#endregion\"},\n",
       " Cube:{\"Name\": \"Expenses\", \"Dimensions@odata.bind\": [\"Dimensions('Sandboxes')\", \"Dimensions('Versions')\", \"Dimensions('Months')\", \"Dimensions('Subsidiaries')\", \"Dimensions('Expenses')\", \"Dimensions('Expense_Measures')\"], \"Rules\": \"SKIPCHECK;\\n\\n['Commission','Amount'] = N: DB('Commissions', !Subsidiaries, !Months, !Versions, 'Commission');\\n['PENSION PLAN', 'Amount' ] = N:['SALARIES', 'Amount']  *['PENSION PLAN','Percent'] ;\\n['SOCIAL SECURITY', 'Amount' ] = N:['SALARIES', 'Amount']  *['SOCIAL SECURITY','Percent'] ;\\n['HEALTH INSURANCE','Amount' ] = N:['SALARIES', 'Amount']  *['HEALTH INSURANCE','Percent'] ;\\n\\n\\nFEEDERS;\\n['SALARIES', 'Amount'] => ['HEALTH INSURANCE','Amount'], ['PENSION PLAN','Amount'],\\n\\t\\t\\t\\t\\t['SOCIAL SECURITY','Amount'];\\n\\n\\n\"},\n",
       " Cube:{\"Name\": \"Franchise_Revenue\", \"Dimensions@odata.bind\": [\"Dimensions('Sandboxes')\", \"Dimensions('Subsidiaries')\", \"Dimensions('Months')\", \"Dimensions('Versions')\"]},\n",
       " Cube:{\"Name\": \"Mensualisation\", \"Dimensions@odata.bind\": [\"Dimensions('Sandboxes')\", \"Dimensions('Product')\", \"Dimensions('Months')\", \"Dimensions('Mensualisation-indic')\"]},\n",
       " Cube:{\"Name\": \"Price_and_Cost\", \"Dimensions@odata.bind\": [\"Dimensions('Sandboxes')\", \"Dimensions('Channels')\", \"Dimensions('Products')\", \"Dimensions('Months')\", \"Dimensions('Versions')\", \"Dimensions('Price_and_Cost_Measures')\"], \"Rules\": \"# hold the Unit Sale Price for the average\\n['UnitPrice_hold']=N:['Unit Sale Price'];\\n['UnitPrice_count']=N: IF (['Unit Sale Price'] <>0 , 1, 0);\\n['Unit Sale Price']=C:['UnitPrice_hold']\\\\['UnitPrice_count'];\\n\\n\\n\\n\\n\\n\\n\\n\"},\n",
       " Cube:{\"Name\": \"RATIO\", \"Dimensions@odata.bind\": [\"Dimensions('Sandboxes')\", \"Dimensions('Product')\", \"Dimensions('TAILLES')\", \"Dimensions('Ratio_Indic')\"]},\n",
       " Cube:{\"Name\": \"Rules\", \"Dimensions@odata.bind\": [\"Dimensions('Sandboxes')\", \"Dimensions('Months')\", \"Dimensions('Price_and_Cost_Measures')\"], \"Rules\": \"['Q1', 'Unit Sale Price' ] =7;\\n['Unit Sale Price' ]  = N: 1;C: 20;\\n['Q1']=STET;\\n['Comment' ]  = S: IF (['Unit Sale Price'] > 5, 'Summer', 'Winter');\"},\n",
       " Cube:{\"Name\": \"RulesEXOzied\", \"Dimensions@odata.bind\": [\"Dimensions('Sandboxes')\", \"Dimensions('Months')\", \"Dimensions('Price_and_Cost_Measures')\"], \"Rules\": \"['Q1','Unit Sale Price']=7;\\n['Unit Sale Price']=N:1;C:20;\\n['Q1']=STET;\\n['Comment'] = S: IF(['Unit Sale Price']>5, 'Summer', 'Winter');\\n\\n\\n\"},\n",
       " Cube:{\"Name\": \"Sales\", \"Dimensions@odata.bind\": [\"Dimensions('Sandboxes')\", \"Dimensions('Version')\", \"Dimensions('Region')\", \"Dimensions('Product')\", \"Dimensions('Account')\", \"Dimensions('Time')\"], \"Rules\": \"\\n['Variance %'] = C:(['Version':'Actual'] - ['Version':'Budget'])\\\\['Version':'Budget'];\\n['Gross Margin%']=['Gross Margin']\\\\['Sales']*100;\\n['Sales']=N:['Price']*['Units']/1000;\\n\\nFEEDERS;\\n['Units']=>['Price'];\\n['Units']=>['Sales'];\\n['Units']=>['Gross Margin%'];\\n\"},\n",
       " Cube:{\"Name\": \"Sales_Plan\", \"Dimensions@odata.bind\": [\"Dimensions('Sandboxes')\", \"Dimensions('Subsidiaries')\", \"Dimensions('Channels')\", \"Dimensions('Products')\", \"Dimensions('Months')\", \"Dimensions('Versions')\", \"Dimensions('Sales_Plan_Measures')\"], \"Rules\": \"['Unit Sale Price']=N:DB('Price_and_Cost',!Channels,!Products,!Months,!Versions,'Unit Sale Price');\"},\n",
       " Cube:{\"Name\": \"Sales_Test\", \"Dimensions@odata.bind\": [\"Dimensions('Sandboxes')\", \"Dimensions('Version')\", \"Dimensions('Region')\", \"Dimensions('Product_Test')\", \"Dimensions('Account')\", \"Dimensions('Time')\"]},\n",
       " Cube:{\"Name\": \"Source_A\", \"Dimensions@odata.bind\": [\"Dimensions('Sandboxes')\", \"Dimensions('Product')\", \"Dimensions('Sales_Plan_Measures')\"]},\n",
       " Cube:{\"Name\": \"Source_LSA\", \"Dimensions@odata.bind\": [\"Dimensions('Sandboxes')\", \"Dimensions('Product')\", \"Dimensions('Sales_Plan_Measures')\"]},\n",
       " Cube:{\"Name\": \"Source_YGH\", \"Dimensions@odata.bind\": [\"Dimensions('Sandboxes')\", \"Dimensions('Product')\", \"Dimensions('Sales_Plan_Measures')\"]},\n",
       " Cube:{\"Name\": \"Spread_Profile_SubsByMonth\", \"Dimensions@odata.bind\": [\"Dimensions('Sandboxes')\", \"Dimensions('Months')\", \"Dimensions('Subsidiaries')\", \"Dimensions('SpreadMethod')\"], \"Rules\": \"\\t['Subsidiary']=DB('Spread_Profile_Subsidiary', !Subsidiaries,\\n\\t'Subsidiary')*DB('Spread_Profiles', !Months, '4 4 5');\"},\n",
       " Cube:{\"Name\": \"Spread_Profile_Subsidiary\", \"Dimensions@odata.bind\": [\"Dimensions('Sandboxes')\", \"Dimensions('Subsidiaries')\", \"Dimensions('SpreadMethod')\"]},\n",
       " Cube:{\"Name\": \"Spread_Profiles\", \"Dimensions@odata.bind\": [\"Dimensions('Sandboxes')\", \"Dimensions('Months')\", \"Dimensions('SpreadMethod')\"]},\n",
       " Cube:{\"Name\": \"System Parameter\", \"Dimensions@odata.bind\": [\"Dimensions('Sandboxes')\", \"Dimensions('System Parameter')\", \"Dimensions('Measure System Parameter')\"], \"Rules\": \"# Global\\n[] = S: IF(ELLEV('System Parameter', !System Parameter) > 0, '', CONTINUE);\\n[] = N: IF(DB('System Parameter', !System Parameter, 'String') @= 'True', 1, CONTINUE);\\n[] = N: IF(DB('System Parameter', !System Parameter, 'String') @= 'False', 0, CONTINUE);\\n[] = N: IF(DB('System Parameter', !System Parameter, 'String') @<> '', Numbr(DB('System Parameter', !System Parameter, 'String')), CONTINUE);\\n\\n# Server\\n['Server_Time', 'Numeric'] = N: NOW;\\n['Server_Time', 'String'] = S: TIMST(NOW, ' \\\\Y-\\\\m-\\\\d \\\\h:\\\\i:\\\\s', 1);\\n\\n# Directory\\n['Backup_Directory', 'String'] = S: DB('System Parameter', 'Server_Directory', !Measure System Parameter) | '\\\\' | DB('System Parameter', 'Server_Name', !Measure System Parameter) | '\\\\Backup';\\n['Config_Directory', 'String'] = S: DB('System Parameter', 'Server_Directory', !Measure System Parameter) | '\\\\' | DB('System Parameter', 'Server_Name', !Measure System Parameter) | '\\\\Config';\\n['Data_Directory', 'String'] = S: DB('System Parameter', 'Server_Directory', !Measure System Parameter) | '\\\\' | DB('System Parameter', 'Server_Name', !Measure System Parameter) | '\\\\Data';\\n['Index_Directory', 'String'] = S: DB('System Parameter', 'Server_Directory', !Measure System Parameter) | '\\\\' | DB('System Parameter', 'Server_Name', !Measure System Parameter) | '\\\\Index';\\n['Interface_Directory', 'String'] = S: DB('System Parameter', 'Server_Directory', !Measure System Parameter) | '\\\\' | DB('System Parameter', 'Server_Name', !Measure System Parameter) | '\\\\Interface';\\n['Lib_Directory', 'String'] = S: DB('System Parameter', 'Server_Directory', !Measure System Parameter) | '\\\\' | DB('System Parameter', 'Server_Name', !Measure System Parameter) | '\\\\Lib';\\n['Log_Directory', 'String'] = S: DB('System Parameter', 'Server_Directory', !Measure System Parameter) | '\\\\' | DB('System Parameter', 'Server_Name', !Measure System Parameter) | '\\\\Log';\\n['Rawstore_Directory', 'String'] = S: DB('System Parameter', 'Server_Directory', !Measure System Parameter) | '\\\\' | DB('System Parameter', 'Server_Name', !Measure System Parameter) | '\\\\Rawstore';\\n['Script_Directory', 'String'] = S: DB('System Parameter', 'Server_Directory', !Measure System Parameter) | '\\\\' | DB('System Parameter', 'Server_Name', !Measure System Parameter) | '\\\\Script';\\n['Temp_Directory', 'String'] = S: DB('System Parameter', 'Server_Directory', !Measure System Parameter) | '\\\\' | DB('System Parameter', 'Server_Name', !Measure System Parameter) | '\\\\Temp';\\n\\n['Inbound_Directory', 'String'] = S: DB('System Parameter', 'Interface_Directory', !Measure System Parameter) | '\\\\Inbound';\\n['Dimension_Directory', 'String'] = S: DB('System Parameter', 'Inbound_Directory', !Measure System Parameter) | '\\\\Dimension';\\n['Notification_Directory', 'String'] = S: DB('System Parameter', 'Inbound_Directory', !Measure System Parameter) | '\\\\Notification';\\n\\n['Outbound_Directory', 'String'] = S: DB('System Parameter', 'Interface_Directory', !Measure System Parameter) | '\\\\Outbound';\\n['Snapshot_Directory', 'String'] = S: DB('System Parameter', 'Outbound_Directory', !Measure System Parameter) | '\\\\Snapshot';\\n['Package_Directory', 'String'] = S: DB('System Parameter', 'Outbound_Directory', !Measure System Parameter) | '\\\\Package';\\n\\n# Tm1Web\\n['Tm1Web_Url', 'String'] = S: 'http://' | TRIM(DB('System Parameter', 'Tm1Web_Host', !Measure System Parameter)) | IF(TRIM(DB('System Parameter', 'Tm1Web_Port', !Measure System Parameter)) @<> '', ':' | TRIM(DB('System Parameter', 'Tm1Web_Port', !Measure System Parameter)),'') | '/tm1web';\"},\n",
       " Cube:{\"Name\": \"TEST\", \"Dimensions@odata.bind\": [\"Dimensions('Sandboxes')\", \"Dimensions('Region')\", \"Dimensions('Indicateur')\"], \"Rules\": \"SKIPCHECK;\\n\\n['Product Category'] = S: IF( DB('TEST', !Region, 'FPM') @= 'x' , 'FPM', IF( DB('TEST', !Region, 'CPM') @= 'x' , 'CPM', 'AMP' ));\\n\\nFEEDERS;\"},\n",
       " Cube:{\"Name\": \"}Capabilities\", \"Dimensions@odata.bind\": [\"Dimensions('Sandboxes')\", \"Dimensions('}Features')\", \"Dimensions('}Permissions')\", \"Dimensions('}Groups')\"]},\n",
       " Cube:{\"Name\": \"}CellSecurity_}tp_application_root_permissions\", \"Dimensions@odata.bind\": [\"Dimensions('Sandboxes')\", \"Dimensions('}tp_applications')\", \"Dimensions('}tp_root_permissions')\", \"Dimensions('}Groups')\"]},\n",
       " Cube:{\"Name\": \"}ClientCAMAssociatedGroups\", \"Dimensions@odata.bind\": [\"Dimensions('Sandboxes')\", \"Dimensions('}CAMAssociatedGroups')\", \"Dimensions('}Groups')\"]},\n",
       " Cube:{\"Name\": \"}ClientGroups\", \"Dimensions@odata.bind\": [\"Dimensions('Sandboxes')\", \"Dimensions('}Clients')\", \"Dimensions('}Groups')\"]},\n",
       " Cube:{\"Name\": \"}ClientProperties\", \"Dimensions@odata.bind\": [\"Dimensions('Sandboxes')\", \"Dimensions('}Clients')\", \"Dimensions('}ClientProperties')\"], \"Rules\": \"#Region System\\nFEEDSTRINGS;\\nSKIPCHECK;\\n#EndRegion\"},\n",
       " Cube:{\"Name\": \"}ClientSecurity\", \"Dimensions@odata.bind\": [\"Dimensions('Sandboxes')\", \"Dimensions('}Clients')\", \"Dimensions('}Groups')\"]},\n",
       " Cube:{\"Name\": \"}ClientSettings\", \"Dimensions@odata.bind\": [\"Dimensions('Sandboxes')\", \"Dimensions('}Clients')\", \"Dimensions('}ClientSettings')\"], \"Rules\": \"#Region System\\nFEEDSTRINGS;\\nSKIPCHECK;\\n#EndRegion\"},\n",
       " Cube:{\"Name\": \"}CubeProperties\", \"Dimensions@odata.bind\": [\"Dimensions('Sandboxes')\", \"Dimensions('}Cubes')\", \"Dimensions('}CubeProperties')\"]},\n",
       " Cube:{\"Name\": \"}CubeSecurity\", \"Dimensions@odata.bind\": [\"Dimensions('Sandboxes')\", \"Dimensions('}Cubes')\", \"Dimensions('}Groups')\"]},\n",
       " Cube:{\"Name\": \"}CubeSecurityProperties\", \"Dimensions@odata.bind\": [\"Dimensions('Sandboxes')\", \"Dimensions('}Cubes')\", \"Dimensions('}CubeSecurityProperties')\"]},\n",
       " Cube:{\"Name\": \"}DimensionProperties\", \"Dimensions@odata.bind\": [\"Dimensions('Sandboxes')\", \"Dimensions('}Dimensions')\", \"Dimensions('}DimensionProperties')\"]},\n",
       " Cube:{\"Name\": \"}DimensionSecurity\", \"Dimensions@odata.bind\": [\"Dimensions('Sandboxes')\", \"Dimensions('}Dimensions')\", \"Dimensions('}Groups')\"]},\n",
       " Cube:{\"Name\": \"}ElementAttributes__ElementAttributes__Clients\", \"Dimensions@odata.bind\": [\"Dimensions('Sandboxes')\", \"Dimensions('_ElementAttributes__Clients')\", \"Dimensions('}ElementAttributes__ElementAttributes__Clients')\"]},\n",
       " Cube:{\"Name\": \"}ElementAttributes_Account\", \"Dimensions@odata.bind\": [\"Dimensions('Sandboxes')\", \"Dimensions('Account')\", \"Dimensions('}ElementAttributes_Account')\"]},\n",
       " Cube:{\"Name\": \"}ElementAttributes_COLLABORATEURS\", \"Dimensions@odata.bind\": [\"Dimensions('Sandboxes')\", \"Dimensions('COLLABORATEURS')\", \"Dimensions('}ElementAttributes_COLLABORATEURS')\"]},\n",
       " Cube:{\"Name\": \"}ElementAttributes_Indicateur\", \"Dimensions@odata.bind\": [\"Dimensions('Sandboxes')\", \"Dimensions('Indicateur')\", \"Dimensions('}ElementAttributes_Indicateur')\"]},\n",
       " Cube:{\"Name\": \"}ElementAttributes_Modele\", \"Dimensions@odata.bind\": [\"Dimensions('Sandboxes')\", \"Dimensions('Modele')\", \"Dimensions('}ElementAttributes_Modele')\"]},\n",
       " Cube:{\"Name\": \"}ElementAttributes_Months\", \"Dimensions@odata.bind\": [\"Dimensions('Sandboxes')\", \"Dimensions('Months')\", \"Dimensions('}ElementAttributes_Months')\"]},\n",
       " Cube:{\"Name\": \"}ElementAttributes_Price_and_Cost_Measures\", \"Dimensions@odata.bind\": [\"Dimensions('Sandboxes')\", \"Dimensions('Price_and_Cost_Measures')\", \"Dimensions('}ElementAttributes_Price_and_Cost_Measures')\"]},\n",
       " Cube:{\"Name\": \"}ElementAttributes_Product\", \"Dimensions@odata.bind\": [\"Dimensions('Sandboxes')\", \"Dimensions('Product')\", \"Dimensions('}ElementAttributes_Product')\"]},\n",
       " Cube:{\"Name\": \"}ElementAttributes_Product_Test\", \"Dimensions@odata.bind\": [\"Dimensions('Sandboxes')\", \"Dimensions('Product_Test')\", \"Dimensions('}ElementAttributes_Product_Test')\"]},\n",
       " Cube:{\"Name\": \"}ElementAttributes_Products\", \"Dimensions@odata.bind\": [\"Dimensions('Sandboxes')\", \"Dimensions('Products')\", \"Dimensions('}ElementAttributes_Products')\"]},\n",
       " Cube:{\"Name\": \"}ElementAttributes_Ratio_Indic\", \"Dimensions@odata.bind\": [\"Dimensions('Sandboxes')\", \"Dimensions('Ratio_Indic')\", \"Dimensions('}ElementAttributes_Ratio_Indic')\"]},\n",
       " Cube:{\"Name\": \"}ElementAttributes_Region\", \"Dimensions@odata.bind\": [\"Dimensions('Sandboxes')\", \"Dimensions('Region')\", \"Dimensions('}ElementAttributes_Region')\"]},\n",
       " Cube:{\"Name\": \"}ElementAttributes_Sales_Plan_Measures\", \"Dimensions@odata.bind\": [\"Dimensions('Sandboxes')\", \"Dimensions('Sales_Plan_Measures')\", \"Dimensions('}ElementAttributes_Sales_Plan_Measures')\"]},\n",
       " Cube:{\"Name\": \"}ElementAttributes_Time\", \"Dimensions@odata.bind\": [\"Dimensions('Sandboxes')\", \"Dimensions('Time')\", \"Dimensions('}ElementAttributes_Time')\"]},\n",
       " Cube:{\"Name\": \"}ElementAttributes_Version\", \"Dimensions@odata.bind\": [\"Dimensions('Sandboxes')\", \"Dimensions('Version')\", \"Dimensions('}ElementAttributes_Version')\"]},\n",
       " Cube:{\"Name\": \"}ElementAttributes_}CAMAssociatedGroups\", \"Dimensions@odata.bind\": [\"Dimensions('Sandboxes')\", \"Dimensions('}CAMAssociatedGroups')\", \"Dimensions('}ElementAttributes_}CAMAssociatedGroups')\"]},\n",
       " Cube:{\"Name\": \"}ElementAttributes_}Clients\", \"Dimensions@odata.bind\": [\"Dimensions('Sandboxes')\", \"Dimensions('}Clients')\", \"Dimensions('}ElementAttributes_}Clients')\"], \"Rules\": \"#Region System\\nFEEDSTRINGS;\\nSKIPCHECK;\\n#EndRegion\"},\n",
       " Cube:{\"Name\": \"}ElementAttributes_}Cultures\", \"Dimensions@odata.bind\": [\"Dimensions('Sandboxes')\", \"Dimensions('}Cultures')\", \"Dimensions('}ElementAttributes_}Cultures')\"]},\n",
       " Cube:{\"Name\": \"}ElementAttributes_}Groups\", \"Dimensions@odata.bind\": [\"Dimensions('Sandboxes')\", \"Dimensions('}Groups')\", \"Dimensions('}ElementAttributes_}Groups')\"]},\n",
       " Cube:{\"Name\": \"}ElementAttributes_}Hierarchies_Product\", \"Dimensions@odata.bind\": [\"Dimensions('Sandboxes')\", \"Dimensions('}Hierarchies_Product')\", \"Dimensions('}ElementAttributes_}Hierarchies_Product')\"]},\n",
       " Cube:{\"Name\": \"}ElementAttributes_}tp_applications\", \"Dimensions@odata.bind\": [\"Dimensions('Sandboxes')\", \"Dimensions('}tp_applications')\", \"Dimensions('}ElementAttributes_}tp_applications')\"]},\n",
       " Cube:{\"Name\": \"}ElementAttributes_}tp_config\", \"Dimensions@odata.bind\": [\"Dimensions('Sandboxes')\", \"Dimensions('}tp_config')\", \"Dimensions('}ElementAttributes_}tp_config')\"]},\n",
       " Cube:{\"Name\": \"}ElementAttributes_}tp_process_errors_localization\", \"Dimensions@odata.bind\": [\"Dimensions('Sandboxes')\", \"Dimensions('}tp_process_errors_localization')\", \"Dimensions('}ElementAttributes_}tp_process_errors_localization')\"]},\n",
       " Cube:{\"Name\": \"}ElementAttributes_}tp_system_config\", \"Dimensions@odata.bind\": [\"Dimensions('Sandboxes')\", \"Dimensions('}tp_system_config')\", \"Dimensions('}ElementAttributes_}tp_system_config')\"]},\n",
       " Cube:{\"Name\": \"}ElementSecurity_Product\", \"Dimensions@odata.bind\": [\"Dimensions('Sandboxes')\", \"Dimensions('Product')\", \"Dimensions('}Groups')\"]},\n",
       " Cube:{\"Name\": \"}ElementSecurity_Region\", \"Dimensions@odata.bind\": [\"Dimensions('Sandboxes')\", \"Dimensions('Region')\", \"Dimensions('}Groups')\"]},\n",
       " Cube:{\"Name\": \"}ElementSecurity_}tp_applications\", \"Dimensions@odata.bind\": [\"Dimensions('Sandboxes')\", \"Dimensions('}tp_applications')\", \"Dimensions('}Groups')\"], \"Rules\": \"[]=S:STET;\"},\n",
       " Cube:{\"Name\": \"}HierarchyProperties\", \"Dimensions@odata.bind\": [\"Dimensions('Sandboxes')\", \"Dimensions('}Dimensions')\", \"Dimensions('}Hierarchies')\", \"Dimensions('}HierarchyProperties')\"]},\n",
       " Cube:{\"Name\": \"}izi.ProcessMessage\", \"Dimensions@odata.bind\": [\"Dimensions('Sandboxes')\", \"Dimensions('}Processes')\", \"Dimensions('}Clients')\", \"Dimensions('}izi.Year')\", \"Dimensions('}izi.Date')\", \"Dimensions('}izi.Time')\", \"Dimensions('}izi.Millisecond')\", \"Dimensions('}izi.ProcessMessage')\"]},\n",
       " Cube:{\"Name\": \"}PickList_TEST\", \"Dimensions@odata.bind\": [\"Dimensions('Sandboxes')\", \"Dimensions('Region')\", \"Dimensions('Indicateur')\", \"Dimensions('}PickList')\"], \"Rules\": \"SKIPCHECK;\\n\\n['FPM'] = S: IF( DB('TEST', !Region, 'CPM' ) @= '' & DB('TEST', !Region, 'AMP' ) @= ''  , 'Static::x' , 'Static::'); \\n\\n['CPM'] = S: IF( DB('TEST', !Region, 'FPM' ) @= '' & DB('TEST', !Region, 'AMP' ) @= '' , 'Static::x' , 'Static::'); \\n\\n['AMP'] = S: IF( DB('TEST', !Region, 'CPM' ) @= '' & DB('TEST', !Region, 'FPM' ) @= '' , 'Static::x' , 'Static::'); \\n\\nFEEDERS;\"},\n",
       " Cube:{\"Name\": \"}ProcessSecurity\", \"Dimensions@odata.bind\": [\"Dimensions('Sandboxes')\", \"Dimensions('}Processes')\", \"Dimensions('}Groups')\"]},\n",
       " Cube:{\"Name\": \"}StatsByChore\", \"Dimensions@odata.bind\": [\"Dimensions('Sandboxes')\", \"Dimensions('}TimeIntervals')\", \"Dimensions('}Chores')\", \"Dimensions('}StatsByProcess')\"]},\n",
       " Cube:{\"Name\": \"}StatsByClient\", \"Dimensions@odata.bind\": [\"Dimensions('Sandboxes')\", \"Dimensions('}StatsStatsByClient')\", \"Dimensions('}PerfClients')\", \"Dimensions('}TimeIntervals')\"], \"Rules\": \"skipcheck;\\n['Bytes/Message']=['Message Bytes']/['Message Count'];\\nfeeders;\\n['Message Bytes']=>['Bytes/Message'];\"},\n",
       " Cube:{\"Name\": \"}StatsByCube\", \"Dimensions@odata.bind\": [\"Dimensions('Sandboxes')\", \"Dimensions('}StatsStatsByCube')\", \"Dimensions('}PerfCubes')\", \"Dimensions('}TimeIntervals')\"]},\n",
       " Cube:{\"Name\": \"}StatsByCubeByClient\", \"Dimensions@odata.bind\": [\"Dimensions('Sandboxes')\", \"Dimensions('}PerfClients')\", \"Dimensions('}PerfCubes')\", \"Dimensions('}Cube Functions')\", \"Dimensions('}StatsStatsByCubeByClient')\", \"Dimensions('}TimeIntervals')\"]},\n",
       " Cube:{\"Name\": \"}StatsByProcess\", \"Dimensions@odata.bind\": [\"Dimensions('Sandboxes')\", \"Dimensions('}TimeIntervals')\", \"Dimensions('}Processes')\", \"Dimensions('}StatsByProcess')\"]},\n",
       " Cube:{\"Name\": \"}StatsByRule\", \"Dimensions@odata.bind\": [\"Dimensions('Sandboxes')\", \"Dimensions('}Cubes')\", \"Dimensions('}LineNumber')\", \"Dimensions('}RuleStats')\"]},\n",
       " Cube:{\"Name\": \"}StatsForServer\", \"Dimensions@odata.bind\": [\"Dimensions('Sandboxes')\", \"Dimensions('}StatsStatsForServer')\", \"Dimensions('}TimeIntervals')\"]},\n",
       " Cube:{\"Name\": \"}tp_app_user_preferences\", \"Dimensions@odata.bind\": [\"Dimensions('Sandboxes')\", \"Dimensions('}Clients')\", \"Dimensions('}tp_applications')\", \"Dimensions('}tp_app_user_preference')\"]},\n",
       " Cube:{\"Name\": \"}tp_application_cubes\", \"Dimensions@odata.bind\": [\"Dimensions('Sandboxes')\", \"Dimensions('}tp_applications')\", \"Dimensions('}Cubes')\"]},\n",
       " Cube:{\"Name\": \"}tp_application_jobs\", \"Dimensions@odata.bind\": [\"Dimensions('Sandboxes')\", \"Dimensions('}tp_jobs')\", \"Dimensions('}tp_job_info')\"]},\n",
       " Cube:{\"Name\": \"}tp_application_root_permissions\", \"Dimensions@odata.bind\": [\"Dimensions('Sandboxes')\", \"Dimensions('}tp_applications')\", \"Dimensions('}tp_root_permissions')\"], \"Rules\": \"[]=S:'Y';\"},\n",
       " Cube:{\"Name\": \"}tp_central_application_state\", \"Dimensions@odata.bind\": [\"Dimensions('Sandboxes')\", \"Dimensions('}tp_applications')\", \"Dimensions('}tp_node_info')\"]},\n",
       " Cube:{\"Name\": \"}tp_process_errors\", \"Dimensions@odata.bind\": [\"Dimensions('Sandboxes')\", \"Dimensions('}tp_process_guids')\", \"Dimensions('}tp_process_error_measures')\"]},\n",
       " Cube:{\"Name\": \"}tp_workflow_action_TI\", \"Dimensions@odata.bind\": [\"Dimensions('Sandboxes')\", \"Dimensions('}tp_applications')\", \"Dimensions('}tp_workflow_actions')\", \"Dimensions('}tp_workflow_action_TI_measures')\"]}]"
      ]
     },
     "execution_count": 138,
     "metadata": {},
     "output_type": "execute_result"
    }
   ],
   "source": [
    "cubes_no_control"
   ]
  },
  {
   "cell_type": "code",
   "execution_count": 125,
   "metadata": {},
   "outputs": [
    {
     "data": {
      "text/plain": [
       "False"
      ]
     },
     "execution_count": 125,
     "metadata": {},
     "output_type": "execute_result"
    }
   ],
   "source": [
    "# cubes with SKIPCHECK\n",
    "cubes_with_skipcheck = [cube.name for cube in cubes if cube.skipcheck]\n",
    "cubes[0].skipcheck\n",
    "# print(\"Cubes with SKIPCHECK:\")\n",
    "# print(cubes_with_skipcheck)"
   ]
  },
  {
   "cell_type": "code",
   "execution_count": 91,
   "metadata": {},
   "outputs": [
    {
     "data": {
      "text/plain": [
       "['Commissions',\n",
       " 'Customer_Churn',\n",
       " 'Expenses',\n",
       " 'Price_and_Cost',\n",
       " 'Rules',\n",
       " 'RulesEXOzied',\n",
       " 'Sales',\n",
       " 'Sales_Plan',\n",
       " 'Spread_Profile_SubsByMonth',\n",
       " 'System Parameter',\n",
       " 'TEST',\n",
       " '}ClientProperties',\n",
       " '}ClientSettings',\n",
       " '}ElementAttributes_}Clients',\n",
       " '}ElementSecurity_}tp_applications',\n",
       " '}PickList_TEST',\n",
       " '}StatsByClient',\n",
       " '}tp_application_root_permissions']"
      ]
     },
     "execution_count": 91,
     "metadata": {},
     "output_type": "execute_result"
    }
   ],
   "source": [
    "tm1.cubes.get_all_names_with_rules()"
   ]
  },
  {
   "cell_type": "code",
   "execution_count": 114,
   "metadata": {},
   "outputs": [
    {
     "data": {
      "text/plain": [
       "True"
      ]
     },
     "execution_count": 114,
     "metadata": {},
     "output_type": "execute_result"
    }
   ],
   "source": [
    "tm1.cubes.get('Commissions').rules.skipcheck"
   ]
  },
  {
   "cell_type": "code",
   "execution_count": 126,
   "metadata": {},
   "outputs": [
    {
     "name": "stdout",
     "output_type": "stream",
     "text": [
      "Cubes sorted by number of Rule Statements:\n",
      "['System Parameter', 'Customer_Churn', 'Commissions', 'Expenses', 'Rules', 'RulesEXOzied', '}PickList_TEST', 'Price_and_Cost', 'Sales', 'TEST', '}ClientProperties', '}ClientSettings', '}ElementAttributes_}Clients', '}StatsByClient', 'Sales_Plan', 'Spread_Profile_SubsByMonth', '}ElementSecurity_}tp_applications', '}tp_application_root_permissions', '_ElementAttributes__Clients', '_ElementAttributes__Groups', '_ElementAttributes_Months', '_ElementAttributes_Price_and_Cost_Measures', '_ElementAttributes_Sales_Plan_Measures', 'Cible_B', 'Cible_LSA', 'Cible_LSA_Mois', 'Cible_LSA_Taille', 'Cible_LSA_Taille_Mois', 'Cible_YGH_2', 'Franchise_Revenue', 'Mensualisation', 'RATIO', 'Sales_Test', 'Source_A', 'Source_LSA', 'Source_YGH', 'Spread_Profile_Subsidiary', 'Spread_Profiles', '}Capabilities', '}CellSecurity_}tp_application_root_permissions', '}ClientCAMAssociatedGroups', '}ClientGroups', '}ClientSecurity', '}CubeProperties', '}CubeSecurity', '}CubeSecurityProperties', '}DimensionProperties', '}DimensionSecurity', '}ElementAttributes__ElementAttributes__Clients', '}ElementAttributes_Account', '}ElementAttributes_COLLABORATEURS', '}ElementAttributes_Indicateur', '}ElementAttributes_Modele', '}ElementAttributes_Months', '}ElementAttributes_Price_and_Cost_Measures', '}ElementAttributes_Product', '}ElementAttributes_Product_Test', '}ElementAttributes_Products', '}ElementAttributes_Ratio_Indic', '}ElementAttributes_Region', '}ElementAttributes_Sales_Plan_Measures', '}ElementAttributes_Time', '}ElementAttributes_Version', '}ElementAttributes_}CAMAssociatedGroups', '}ElementAttributes_}Cultures', '}ElementAttributes_}Groups', '}ElementAttributes_}Hierarchies_Product', '}ElementAttributes_}tp_applications', '}ElementAttributes_}tp_config', '}ElementAttributes_}tp_process_errors_localization', '}ElementAttributes_}tp_system_config', '}ElementSecurity_Product', '}ElementSecurity_Region', '}HierarchyProperties', '}izi.ProcessMessage', '}ProcessSecurity', '}StatsByChore', '}StatsByCube', '}StatsByCubeByClient', '}StatsByProcess', '}StatsByRule', '}StatsForServer', '}tp_app_user_preferences', '}tp_application_cubes', '}tp_application_jobs', '}tp_central_application_state', '}tp_process_errors', '}tp_workflow_action_TI']\n"
     ]
    }
   ],
   "source": [
    "control_cubes.sort(key=lambda cube: len(cube.rules.rule_statements) if cube.has_rules else 0, reverse=True)\n",
    "\n",
    "print(\"Cubes sorted by number of Rule Statements:\")\n",
    "print([cube.name for cube in control_cubes])"
   ]
  },
  {
   "cell_type": "code",
   "execution_count": null,
   "metadata": {},
   "outputs": [],
   "source": [
    "cubes."
   ]
  }
 ],
 "metadata": {
  "kernelspec": {
   "display_name": "Python 3",
   "language": "python",
   "name": "python3"
  },
  "language_info": {
   "codemirror_mode": {
    "name": "ipython",
    "version": 3
   },
   "file_extension": ".py",
   "mimetype": "text/x-python",
   "name": "python",
   "nbconvert_exporter": "python",
   "pygments_lexer": "ipython3",
   "version": "3.12.2"
  }
 },
 "nbformat": 4,
 "nbformat_minor": 2
}
