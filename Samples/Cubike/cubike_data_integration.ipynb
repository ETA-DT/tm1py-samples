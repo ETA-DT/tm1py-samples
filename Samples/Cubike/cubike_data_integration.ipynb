{
 "cells": [
  {
   "cell_type": "markdown",
   "metadata": {},
   "source": [
    "<h1 style=\"font-size:42px; text-align:center; margin-bottom:30px;\"><span style=\"color:SteelBlue\">TM1py:</span> Data Integration</h1>\n",
    "<hr>\n"
   ]
  },
  {
   "cell_type": "markdown",
   "metadata": {},
   "source": [
    "Load Weather Data From NOAA (National Oceanic and Atmospheric Administration) API into Python.\n",
    "\n",
    "Rearrange the data and push it to Target Cube <span style=\"color:SteelBlue\">Weather Data</span>\n"
   ]
  },
  {
   "cell_type": "markdown",
   "metadata": {},
   "source": [
    "## Imports\n",
    "\n",
    "<b>requests</b> library for HTTP / REST Request against Webservices\n",
    "\n",
    "<b>json</b> standard library for JSON parsing, manipulation\n"
   ]
  },
  {
   "cell_type": "code",
   "execution_count": 1,
   "metadata": {},
   "outputs": [],
   "source": [
    "import requests\n",
    "import json\n",
    "from TM1py import TM1Service"
   ]
  },
  {
   "cell_type": "markdown",
   "metadata": {},
   "source": [
    "## Constants\n",
    "\n",
    "<b>STATION</b>  <a href=\"https://www.ncdc.noaa.gov/cdo-web/datasets/NORMAL_DLY/stations/GHCND:USW00014732/detail\">GHCND:USW00014732</a> (40.7792°, -73.88°) \n",
    "\n",
    "<b>FROM, TO</b> Timeframe\n",
    "\n",
    "<b>HEADERS</b> Token for Authentication with the API"
   ]
  },
  {
   "cell_type": "code",
   "execution_count": 2,
   "metadata": {},
   "outputs": [],
   "source": [
    "STATION = 'GHCND:USW00014732'\n",
    "FROM, TO = '2017-01-01', '2017-01-04'\n",
    "HEADERS = {\"token\": 'yyqEBOAbHVbtXkfAmZuPNfnSXvdfyhgn'}"
   ]
  },
  {
   "cell_type": "markdown",
   "metadata": {},
   "source": [
    "## Build URL for the Query\n",
    "\n",
    "Build the parametrized URL and print it\n"
   ]
  },
  {
   "cell_type": "code",
   "execution_count": 3,
   "metadata": {},
   "outputs": [
    {
     "name": "stdout",
     "output_type": "stream",
     "text": [
      "https://www.ncdc.noaa.gov/cdo-web/api/v2/data?datasetid=GHCND&startdate=2017-01-01&enddate=2017-01-04&limit=1000&datatypeid=TMIN&datatypeid=TAVG&datatypeid=TMAX&stationid=GHCND:USW00014732\n"
     ]
    }
   ],
   "source": [
    "url = 'https://www.ncdc.noaa.gov/cdo-web/api/v2/data?' \\\n",
    "      'datasetid=GHCND&' \\\n",
    "      'startdate=' + FROM + '&' \\\n",
    "      'enddate=' + TO + '&' \\\n",
    "      'limit=1000&' \\\n",
    "      'datatypeid=TMIN&' \\\n",
    "      'datatypeid=TAVG&' \\\n",
    "      'datatypeid=TMAX&' \\\n",
    "      'stationid=' + STATION\n",
    "\n",
    "print(url)"
   ]
  },
  {
   "cell_type": "markdown",
   "metadata": {},
   "source": [
    "## Query Weather Data\n",
    "\n",
    "Execute the URL against the NOAA API to get the results\n",
    "\n",
    "Prettyprint first three items from result-set"
   ]
  },
  {
   "cell_type": "code",
   "execution_count": 4,
   "metadata": {},
   "outputs": [
    {
     "name": "stdout",
     "output_type": "stream",
     "text": [
      "[\n",
      "  {\n",
      "    \"date\": \"2017-01-01T00:00:00\",\n",
      "    \"datatype\": \"TAVG\",\n",
      "    \"station\": \"GHCND:USW00014732\",\n",
      "    \"attributes\": \"H,,S,\",\n",
      "    \"value\": 80\n",
      "  },\n",
      "  {\n",
      "    \"date\": \"2017-01-01T00:00:00\",\n",
      "    \"datatype\": \"TMAX\",\n",
      "    \"station\": \"GHCND:USW00014732\",\n",
      "    \"attributes\": \",,W,2400\",\n",
      "    \"value\": 94\n",
      "  },\n",
      "  {\n",
      "    \"date\": \"2017-01-01T00:00:00\",\n",
      "    \"datatype\": \"TMIN\",\n",
      "    \"station\": \"GHCND:USW00014732\",\n",
      "    \"attributes\": \",,W,2400\",\n",
      "    \"value\": 39\n",
      "  }\n",
      "]\n"
     ]
    }
   ],
   "source": [
    "response = requests.get(url, headers=HEADERS).json()\n",
    "results = response[\"results\"]   \n",
    "\n",
    "print(json.dumps(results[0:3], indent=2))"
   ]
  },
  {
   "cell_type": "markdown",
   "metadata": {},
   "source": [
    "## Rearrange Data \n",
    "\n",
    "Rearrange data from native JSON into a format that TM1 understands \n",
    "\n",
    "... Map of coordinates and value"
   ]
  },
  {
   "cell_type": "code",
   "execution_count": 5,
   "metadata": {},
   "outputs": [],
   "source": [
    "cells = dict()\n",
    "\n",
    "for record in results:\n",
    "    value = record['value'] / 10\n",
    "    coordinates = (\"Actual\", record['date'][0:10], \"NYC\", record['datatype'])\n",
    "    cells[coordinates] = value"
   ]
  },
  {
   "cell_type": "code",
   "execution_count": 6,
   "metadata": {},
   "outputs": [
    {
     "name": "stdout",
     "output_type": "stream",
     "text": [
      "('Actual', '2017-01-01', 'NYC', 'TAVG') 8.0\n",
      "('Actual', '2017-01-01', 'NYC', 'TMAX') 9.4\n",
      "('Actual', '2017-01-01', 'NYC', 'TMIN') 3.9\n",
      "('Actual', '2017-01-02', 'NYC', 'TAVG') 4.4\n",
      "('Actual', '2017-01-02', 'NYC', 'TMAX') 5.6\n",
      "('Actual', '2017-01-02', 'NYC', 'TMIN') 3.3\n",
      "('Actual', '2017-01-03', 'NYC', 'TAVG') 5.6\n",
      "('Actual', '2017-01-03', 'NYC', 'TMAX') 8.3\n",
      "('Actual', '2017-01-03', 'NYC', 'TMIN') 4.4\n",
      "('Actual', '2017-01-04', 'NYC', 'TAVG') 8.2\n",
      "('Actual', '2017-01-04', 'NYC', 'TMAX') 12.2\n",
      "('Actual', '2017-01-04', 'NYC', 'TMIN') 2.2\n"
     ]
    }
   ],
   "source": [
    "for coordinate, value in cells.items():\n",
    "    print(coordinate, value)"
   ]
  },
  {
   "cell_type": "markdown",
   "metadata": {},
   "source": [
    "## Send Data to TM1\n",
    "\n",
    "Connect to TM1 and send the cellset"
   ]
  },
  {
   "cell_type": "code",
   "execution_count": 7,
   "metadata": {},
   "outputs": [],
   "source": [
    "with TM1Service(address='10.77.19.60', port=\"12354\", user=\"admin\", password=\"apple\", ssl=True) as tm1:\n",
    "    tm1.cubes.cells.write_values(\"Weather Data\", cells)"
   ]
  }
 ],
 "metadata": {
  "anaconda-cloud": {},
  "kernelspec": {
   "display_name": "Python 3",
   "language": "python",
   "name": "python3"
  },
  "language_info": {
   "codemirror_mode": {
    "name": "ipython",
    "version": 3
   },
   "file_extension": ".py",
   "mimetype": "text/x-python",
   "name": "python",
   "nbconvert_exporter": "python",
   "pygments_lexer": "ipython3",
   "version": "3.7.3"
  }
 },
 "nbformat": 4,
 "nbformat_minor": 2
}
