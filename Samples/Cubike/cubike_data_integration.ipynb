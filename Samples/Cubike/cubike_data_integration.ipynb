{
 "cells": [
  {
   "cell_type": "markdown",
   "metadata": {},
   "source": [
    "# Data science with IBM Planning Analytics\n",
    "# Cubike example - Part 1\n"
   ]
  },
  {
   "cell_type": "markdown",
   "metadata": {},
   "source": [
    "Cubike is a fictional Bike Sharing company that we use in the series of articles about Data Science with TM1 and Planning Analytics:\n",
    "\n",
    "* [Part 1: Upload weather data from web services](https://code.cubewise.com/tm1py-help-content/upload-weather-data-from-web-services-into-planning-analytics)\n",
    "* [Part 2: Explore your TM1 and Planning Analytics data with Pandas and Ploty](https://code.cubewise.com/tm1py-help-content/explore-you-tm1-planning-analytics-with-pandas-and-ploty)\n",
    "* [Part 3: Timeseries Forecasting with Facebook Prophet](https://code.cubewise.com/tm1py-help-content/timeseries-forecasting-with-facebook-prophet-and-tm1-planning-analytics)\n",
    "If you are new to TM1py, this article will guide you to setup TM1py and all the different modules required in the Cubike example.\n",
    "\n",
    "**Note**: All the prerequisites to run this sample into your environement are defined in this article:\n",
    "* [Setup cubike example](https://code.cubewise.com/tm1py-help-content/setup-cubike-example)\n"
   ]
  },
  {
   "cell_type": "markdown",
   "metadata": {},
   "source": [
    "# Part 1: Upload weather data from web services into TM1/Planning Analytics\n",
    "The objective in this first part is to upload weather data from [National Oceanic and Atmospheric Administation (NOAA) Web service API](https://www.ncdc.noaa.gov/cdo-web/webservices/v2)."
   ]
  },
  {
   "cell_type": "markdown",
   "metadata": {},
   "source": [
    "## Step 1: Imports librairies\n",
    "\n",
    "The first step in the Jupyter notebook is to import the packages and define the constants we need:\n",
    "\n",
    "* **requests**: library for HTTP / REST Request against Webservices\n",
    "\n",
    "* **json**: standard library for JSON parsing, manipulation\n"
   ]
  },
  {
   "cell_type": "code",
   "execution_count": null,
   "metadata": {},
   "outputs": [],
   "source": [
    "import requests\n",
    "import json\n",
    "from TM1py import TM1Service"
   ]
  },
  {
   "cell_type": "markdown",
   "metadata": {},
   "source": [
    "## Constants\n",
    "\n",
    "We are pulling the weather data from the National Oceanic and Atmospheric Administation (NOAA). NOAA has a rich API which allows us to access all kind of environmental data from the US.\n",
    "\n",
    "<b>STATION</b>  <a href=\"https://www.ncdc.noaa.gov/cdo-web/datasets/NORMAL_DLY/stations/GHCND:USW00014732/detail\">GHCND:USW00014732</a> (40.7792°, -73.88°) \n",
    "\n",
    "<b>FROM, TO</b> Timeframe\n",
    "\n",
    "<b>HEADERS</b> Token for Authentication with the API"
   ]
  },
  {
   "cell_type": "code",
   "execution_count": null,
   "metadata": {},
   "outputs": [],
   "source": [
    "STATION = 'GHCND:USW00014732'\n",
    "FROM, TO = '2017-01-01', '2017-01-04'\n",
    "HEADERS = {\"token\": 'yyqEBOAbHVbtXkfAmZuPNfnSXvdfyhgn'}"
   ]
  },
  {
   "cell_type": "markdown",
   "metadata": {},
   "source": [
    "## Step 2: Build URL for the Query\n",
    "\n",
    "Build the parametrized URL and print it\n"
   ]
  },
  {
   "cell_type": "code",
   "execution_count": null,
   "metadata": {},
   "outputs": [],
   "source": [
    "url = 'https://www.ncdc.noaa.gov/cdo-web/api/v2/data?' \\\n",
    "      'datasetid=GHCND&' \\\n",
    "      'startdate=' + FROM + '&' \\\n",
    "      'enddate=' + TO + '&' \\\n",
    "      'limit=1000&' \\\n",
    "      'datatypeid=TMIN&' \\\n",
    "      'datatypeid=TAVG&' \\\n",
    "      'datatypeid=TMAX&' \\\n",
    "      'stationid=' + STATION\n",
    "\n",
    "print(url)"
   ]
  },
  {
   "cell_type": "markdown",
   "metadata": {},
   "source": [
    "This is the URL we will get the data from.\n",
    "\n",
    "## Step 3: Query Weather Data\n",
    "\n",
    "Now that our URL is ready, we need to send the request to the API:\n",
    "\n",
    "* Execute the URL against the NOAA API to get the results\n",
    "* Prettyprint first three items from result-set"
   ]
  },
  {
   "cell_type": "code",
   "execution_count": null,
   "metadata": {},
   "outputs": [],
   "source": [
    "response = requests.get(url, headers=HEADERS).json()\n",
    "results = response[\"results\"]   \n",
    "\n",
    "print(json.dumps(results[0:3], indent=2))"
   ]
  },
  {
   "cell_type": "markdown",
   "metadata": {},
   "source": [
    "## Step 4: Rearrange Data \n",
    "\n",
    "Before sending the data into TM1, we now need to rearrange the data so it matches our TM1 cube structure:\n",
    "\n",
    "* Version = Actual\n",
    "* Date = record['date'][0:10]\n",
    "* City = NYC\n",
    "* DataType = record['datatype']"
   ]
  },
  {
   "cell_type": "code",
   "execution_count": null,
   "metadata": {},
   "outputs": [],
   "source": [
    "cells = dict()\n",
    "\n",
    "for record in results:\n",
    "    value = record['value'] / 10\n",
    "    coordinates = (\"Actual\", record['date'][0:10], \"NYC\", record['datatype'])\n",
    "    cells[coordinates] = value"
   ]
  },
  {
   "cell_type": "code",
   "execution_count": null,
   "metadata": {},
   "outputs": [],
   "source": [
    "for coordinate, value in cells.items():\n",
    "    print(coordinate, value)"
   ]
  },
  {
   "cell_type": "markdown",
   "metadata": {},
   "source": [
    "## Step 5: Send Data to TM1\n",
    "Now that the data is ready, we just need to connect to our TM1 instance and finally write the values into the TM1 cube \"Weather Data\".\n",
    "\n",
    "First we need to get the authentication parameters of our TM1 instance which are stored in a config.ini file:\n"
   ]
  },
  {
   "cell_type": "code",
   "execution_count": null,
   "metadata": {},
   "outputs": [],
   "source": [
    "import configparser\n",
    "config = configparser.ConfigParser()\n",
    "config.read(r'..\\..\\config.ini')"
   ]
  },
  {
   "cell_type": "markdown",
   "metadata": {},
   "source": [
    "With TM1py we can send data to a cube with two lines of code as long as our cell set match dimensions in our cube:"
   ]
  },
  {
   "cell_type": "code",
   "execution_count": null,
   "metadata": {},
   "outputs": [],
   "source": [
    "with TM1Service(**config['tm1srv01']) as tm1:\n",
    "    tm1.cubes.cells.write_values(\"Weather Data\", cells)"
   ]
  },
  {
   "cell_type": "markdown",
   "metadata": {},
   "source": [
    "# Next\n",
    "To open next Jupyter Notebook:\n",
    "1. Go to File at the top left\n",
    "1. Click Open\n",
    "1. A new tab will open and then click on cubike_data_science.ipynb"
   ]
  }
 ],
 "metadata": {
  "anaconda-cloud": {},
  "kernelspec": {
   "display_name": "Python 3",
   "language": "python",
   "name": "python3"
  },
  "language_info": {
   "codemirror_mode": {
    "name": "ipython",
    "version": 3
   },
   "file_extension": ".py",
   "mimetype": "text/x-python",
   "name": "python",
   "nbconvert_exporter": "python",
   "pygments_lexer": "ipython3",
   "version": "3.7.3"
  }
 },
 "nbformat": 4,
 "nbformat_minor": 2
}
