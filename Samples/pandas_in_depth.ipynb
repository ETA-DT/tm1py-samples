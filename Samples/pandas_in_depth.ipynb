{
 "cells": [
  {
   "cell_type": "markdown",
   "metadata": {},
   "source": [
    "# Pandas in Depth \n",
    "\n",
    "based on https://medium.com/fintechexplained/did-you-know-pandas-can-do-so-much-f65dc7db3051\n",
    "\n",
    "## Objectives: \n",
    "   1. Get data from a cube\n",
    "   1. Calculate the Median and Standard Deviation\n",
    "   1. Send these values back to TM1\n",
    "   "
   ]
  },
  {
   "cell_type": "markdown",
   "metadata": {},
   "source": [
    "# Ways to build Pandas DataFrames from TM1 data"
   ]
  },
  {
   "cell_type": "code",
   "execution_count": 71,
   "metadata": {},
   "outputs": [],
   "source": [
    "import numpy as np\n",
    "import pandas as pd\n",
    "\n",
    "import statistics"
   ]
  },
  {
   "cell_type": "code",
   "execution_count": 72,
   "metadata": {},
   "outputs": [],
   "source": [
    "# This mdx will be used as data in this example\n",
    "mdx = \"\"\"\n",
    "SELECT \n",
    "NON EMPTY {[Date].[2014-01-01]:[Date].[2017-12-31]} ON ROWS,\n",
    "{[City].[NYC], [City].[Chicago], [City].[Washington]} ON COLUMNS\n",
    "FROM [Bike Shares]\n",
    "WHERE ([Bike Shares Measure].[Count], [Version].[Actual])\n",
    "\"\"\""
   ]
  },
  {
   "cell_type": "markdown",
   "metadata": {},
   "source": [
    "*The cube **Bike Shares** is coming from the **tm1py-samples\\Samples\\Cubike\\cubike_setup.py**, you can execute this script to create the **Bike Shares** cube.*"
   ]
  },
  {
   "cell_type": "code",
   "execution_count": 73,
   "metadata": {},
   "outputs": [],
   "source": [
    "# Create the TM1 service\n",
    "from TM1py.Services import TM1Service\n",
    "\n",
    "tm1 = TM1Service(address='localhost', port=8009, user='admin', password='apple', ssl=True)"
   ]
  },
  {
   "cell_type": "markdown",
   "metadata": {},
   "source": [
    "## 1. Getting data from TM1 then building the dataframe"
   ]
  },
  {
   "cell_type": "code",
   "execution_count": 74,
   "metadata": {
    "scrolled": true
   },
   "outputs": [
    {
     "data": {
      "text/html": [
       "<div>\n",
       "<style scoped>\n",
       "    .dataframe tbody tr th:only-of-type {\n",
       "        vertical-align: middle;\n",
       "    }\n",
       "\n",
       "    .dataframe tbody tr th {\n",
       "        vertical-align: top;\n",
       "    }\n",
       "\n",
       "    .dataframe thead th {\n",
       "        text-align: right;\n",
       "    }\n",
       "</style>\n",
       "<table border=\"1\" class=\"dataframe\">\n",
       "  <thead>\n",
       "    <tr style=\"text-align: right;\">\n",
       "      <th></th>\n",
       "      <th>Version</th>\n",
       "      <th>Date</th>\n",
       "      <th>City</th>\n",
       "      <th>Bike Shares Measure</th>\n",
       "      <th>Values</th>\n",
       "    </tr>\n",
       "  </thead>\n",
       "  <tbody>\n",
       "    <tr>\n",
       "      <th>1</th>\n",
       "      <td>Actual</td>\n",
       "      <td>2014-01-01</td>\n",
       "      <td>Chicago</td>\n",
       "      <td>Count</td>\n",
       "      <td>123.0</td>\n",
       "    </tr>\n",
       "    <tr>\n",
       "      <th>0</th>\n",
       "      <td>Actual</td>\n",
       "      <td>2014-01-01</td>\n",
       "      <td>NYC</td>\n",
       "      <td>Count</td>\n",
       "      <td>6059.0</td>\n",
       "    </tr>\n",
       "    <tr>\n",
       "      <th>2</th>\n",
       "      <td>Actual</td>\n",
       "      <td>2014-01-01</td>\n",
       "      <td>Washington</td>\n",
       "      <td>Count</td>\n",
       "      <td>3011.0</td>\n",
       "    </tr>\n",
       "    <tr>\n",
       "      <th>4</th>\n",
       "      <td>Actual</td>\n",
       "      <td>2014-01-02</td>\n",
       "      <td>Chicago</td>\n",
       "      <td>Count</td>\n",
       "      <td>112.0</td>\n",
       "    </tr>\n",
       "    <tr>\n",
       "      <th>3</th>\n",
       "      <td>Actual</td>\n",
       "      <td>2014-01-02</td>\n",
       "      <td>NYC</td>\n",
       "      <td>Count</td>\n",
       "      <td>8600.0</td>\n",
       "    </tr>\n",
       "  </tbody>\n",
       "</table>\n",
       "</div>"
      ],
      "text/plain": [
       "  Version        Date        City Bike Shares Measure  Values\n",
       "1  Actual  2014-01-01     Chicago               Count   123.0\n",
       "0  Actual  2014-01-01         NYC               Count  6059.0\n",
       "2  Actual  2014-01-01  Washington               Count  3011.0\n",
       "4  Actual  2014-01-02     Chicago               Count   112.0\n",
       "3  Actual  2014-01-02         NYC               Count  8600.0"
      ]
     },
     "execution_count": 74,
     "metadata": {},
     "output_type": "execute_result"
    }
   ],
   "source": [
    "# retrieve a dictionary through TM1py and build a DataFrame from it\n",
    "from TM1py.Utils.Utils import build_pandas_dataframe_from_cellset\n",
    "\n",
    "data = tm1.cubes.cells.execute_mdx(mdx)\n",
    "\n",
    "df = build_pandas_dataframe_from_cellset(data, multiindex=False)\n",
    "df.head()"
   ]
  },
  {
   "cell_type": "markdown",
   "metadata": {},
   "source": [
    "## 2. Retrieving a dataframe from TM1"
   ]
  },
  {
   "cell_type": "code",
   "execution_count": 75,
   "metadata": {},
   "outputs": [
    {
     "data": {
      "text/html": [
       "<div>\n",
       "<style scoped>\n",
       "    .dataframe tbody tr th:only-of-type {\n",
       "        vertical-align: middle;\n",
       "    }\n",
       "\n",
       "    .dataframe tbody tr th {\n",
       "        vertical-align: top;\n",
       "    }\n",
       "\n",
       "    .dataframe thead th {\n",
       "        text-align: right;\n",
       "    }\n",
       "</style>\n",
       "<table border=\"1\" class=\"dataframe\">\n",
       "  <thead>\n",
       "    <tr style=\"text-align: right;\">\n",
       "      <th></th>\n",
       "      <th>Date</th>\n",
       "      <th>City</th>\n",
       "      <th>Value</th>\n",
       "    </tr>\n",
       "  </thead>\n",
       "  <tbody>\n",
       "    <tr>\n",
       "      <th>0</th>\n",
       "      <td>2014-01-01</td>\n",
       "      <td>NYC</td>\n",
       "      <td>6059</td>\n",
       "    </tr>\n",
       "    <tr>\n",
       "      <th>1</th>\n",
       "      <td>2014-01-01</td>\n",
       "      <td>Chicago</td>\n",
       "      <td>123</td>\n",
       "    </tr>\n",
       "    <tr>\n",
       "      <th>2</th>\n",
       "      <td>2014-01-01</td>\n",
       "      <td>Washington</td>\n",
       "      <td>3011</td>\n",
       "    </tr>\n",
       "    <tr>\n",
       "      <th>3</th>\n",
       "      <td>2014-01-02</td>\n",
       "      <td>NYC</td>\n",
       "      <td>8600</td>\n",
       "    </tr>\n",
       "    <tr>\n",
       "      <th>4</th>\n",
       "      <td>2014-01-02</td>\n",
       "      <td>Chicago</td>\n",
       "      <td>112</td>\n",
       "    </tr>\n",
       "  </tbody>\n",
       "</table>\n",
       "</div>"
      ],
      "text/plain": [
       "         Date        City  Value\n",
       "0  2014-01-01         NYC   6059\n",
       "1  2014-01-01     Chicago    123\n",
       "2  2014-01-01  Washington   3011\n",
       "3  2014-01-02         NYC   8600\n",
       "4  2014-01-02     Chicago    112"
      ]
     },
     "execution_count": 75,
     "metadata": {},
     "output_type": "execute_result"
    }
   ],
   "source": [
    "# retrieve DataFrame directly\n",
    "df = tm1.cubes.cells.execute_mdx_dataframe(mdx)\n",
    "df.head()"
   ]
  },
  {
   "cell_type": "markdown",
   "metadata": {},
   "source": [
    "## Building a pivot table"
   ]
  },
  {
   "cell_type": "code",
   "execution_count": 76,
   "metadata": {},
   "outputs": [],
   "source": [
    "# Transform into something more convenient\n",
    "for city in ('NYC', 'Chicago', 'Washington'):\n",
    "    df[city] = df.apply(lambda row: row[\"Value\"] if row[\"City\"] == city else None, axis=1)\n",
    "df.drop(columns=[\"Value\"], inplace=True)\n",
    "df = df.groupby(\"Date\").sum()"
   ]
  },
  {
   "cell_type": "code",
   "execution_count": 77,
   "metadata": {},
   "outputs": [
    {
     "data": {
      "text/html": [
       "<div>\n",
       "<style scoped>\n",
       "    .dataframe tbody tr th:only-of-type {\n",
       "        vertical-align: middle;\n",
       "    }\n",
       "\n",
       "    .dataframe tbody tr th {\n",
       "        vertical-align: top;\n",
       "    }\n",
       "\n",
       "    .dataframe thead th {\n",
       "        text-align: right;\n",
       "    }\n",
       "</style>\n",
       "<table border=\"1\" class=\"dataframe\">\n",
       "  <thead>\n",
       "    <tr style=\"text-align: right;\">\n",
       "      <th></th>\n",
       "      <th>NYC</th>\n",
       "      <th>Chicago</th>\n",
       "      <th>Washington</th>\n",
       "    </tr>\n",
       "    <tr>\n",
       "      <th>Date</th>\n",
       "      <th></th>\n",
       "      <th></th>\n",
       "      <th></th>\n",
       "    </tr>\n",
       "  </thead>\n",
       "  <tbody>\n",
       "    <tr>\n",
       "      <th>2014-01-01</th>\n",
       "      <td>6059.0</td>\n",
       "      <td>123.0</td>\n",
       "      <td>3011.0</td>\n",
       "    </tr>\n",
       "    <tr>\n",
       "      <th>2014-01-02</th>\n",
       "      <td>8600.0</td>\n",
       "      <td>112.0</td>\n",
       "      <td>3316.0</td>\n",
       "    </tr>\n",
       "    <tr>\n",
       "      <th>2014-01-03</th>\n",
       "      <td>1144.0</td>\n",
       "      <td>6.0</td>\n",
       "      <td>1608.0</td>\n",
       "    </tr>\n",
       "    <tr>\n",
       "      <th>2014-01-04</th>\n",
       "      <td>2292.0</td>\n",
       "      <td>205.0</td>\n",
       "      <td>2242.0</td>\n",
       "    </tr>\n",
       "    <tr>\n",
       "      <th>2014-01-05</th>\n",
       "      <td>2678.0</td>\n",
       "      <td>33.0</td>\n",
       "      <td>2060.0</td>\n",
       "    </tr>\n",
       "  </tbody>\n",
       "</table>\n",
       "</div>"
      ],
      "text/plain": [
       "               NYC  Chicago  Washington\n",
       "Date                                   \n",
       "2014-01-01  6059.0    123.0      3011.0\n",
       "2014-01-02  8600.0    112.0      3316.0\n",
       "2014-01-03  1144.0      6.0      1608.0\n",
       "2014-01-04  2292.0    205.0      2242.0\n",
       "2014-01-05  2678.0     33.0      2060.0"
      ]
     },
     "execution_count": 77,
     "metadata": {},
     "output_type": "execute_result"
    }
   ],
   "source": [
    "# Getting the first 5 rows\n",
    "df.head()"
   ]
  },
  {
   "cell_type": "code",
   "execution_count": 79,
   "metadata": {},
   "outputs": [
    {
     "data": {
      "text/html": [
       "<div>\n",
       "<style scoped>\n",
       "    .dataframe tbody tr th:only-of-type {\n",
       "        vertical-align: middle;\n",
       "    }\n",
       "\n",
       "    .dataframe tbody tr th {\n",
       "        vertical-align: top;\n",
       "    }\n",
       "\n",
       "    .dataframe thead tr th {\n",
       "        text-align: left;\n",
       "    }\n",
       "\n",
       "    .dataframe thead tr:last-of-type th {\n",
       "        text-align: right;\n",
       "    }\n",
       "</style>\n",
       "<table border=\"1\" class=\"dataframe\">\n",
       "  <thead>\n",
       "    <tr>\n",
       "      <th></th>\n",
       "      <th colspan=\"3\" halign=\"left\">Values</th>\n",
       "    </tr>\n",
       "    <tr>\n",
       "      <th>City</th>\n",
       "      <th>Chicago</th>\n",
       "      <th>NYC</th>\n",
       "      <th>Washington</th>\n",
       "    </tr>\n",
       "    <tr>\n",
       "      <th>Date</th>\n",
       "      <th></th>\n",
       "      <th></th>\n",
       "      <th></th>\n",
       "    </tr>\n",
       "  </thead>\n",
       "  <tbody>\n",
       "    <tr>\n",
       "      <th>2014-01-01</th>\n",
       "      <td>123.0</td>\n",
       "      <td>6059.0</td>\n",
       "      <td>3011.0</td>\n",
       "    </tr>\n",
       "    <tr>\n",
       "      <th>2014-01-02</th>\n",
       "      <td>112.0</td>\n",
       "      <td>8600.0</td>\n",
       "      <td>3316.0</td>\n",
       "    </tr>\n",
       "    <tr>\n",
       "      <th>2014-01-03</th>\n",
       "      <td>6.0</td>\n",
       "      <td>1144.0</td>\n",
       "      <td>1608.0</td>\n",
       "    </tr>\n",
       "    <tr>\n",
       "      <th>2014-01-04</th>\n",
       "      <td>205.0</td>\n",
       "      <td>2292.0</td>\n",
       "      <td>2242.0</td>\n",
       "    </tr>\n",
       "    <tr>\n",
       "      <th>2014-01-05</th>\n",
       "      <td>33.0</td>\n",
       "      <td>2678.0</td>\n",
       "      <td>2060.0</td>\n",
       "    </tr>\n",
       "    <tr>\n",
       "      <th>2014-01-06</th>\n",
       "      <td>1.0</td>\n",
       "      <td>9510.0</td>\n",
       "      <td>3507.0</td>\n",
       "    </tr>\n",
       "    <tr>\n",
       "      <th>2014-01-07</th>\n",
       "      <td>0.0</td>\n",
       "      <td>6267.0</td>\n",
       "      <td>2282.0</td>\n",
       "    </tr>\n",
       "    <tr>\n",
       "      <th>2014-01-08</th>\n",
       "      <td>0.0</td>\n",
       "      <td>9246.0</td>\n",
       "      <td>3855.0</td>\n",
       "    </tr>\n",
       "    <tr>\n",
       "      <th>2014-01-09</th>\n",
       "      <td>860.0</td>\n",
       "      <td>13354.0</td>\n",
       "      <td>4948.0</td>\n",
       "    </tr>\n",
       "    <tr>\n",
       "      <th>2014-01-10</th>\n",
       "      <td>823.0</td>\n",
       "      <td>9847.0</td>\n",
       "      <td>1843.0</td>\n",
       "    </tr>\n",
       "  </tbody>\n",
       "</table>\n",
       "</div>"
      ],
      "text/plain": [
       "            Values                    \n",
       "City       Chicago      NYC Washington\n",
       "Date                                  \n",
       "2014-01-01   123.0   6059.0     3011.0\n",
       "2014-01-02   112.0   8600.0     3316.0\n",
       "2014-01-03     6.0   1144.0     1608.0\n",
       "2014-01-04   205.0   2292.0     2242.0\n",
       "2014-01-05    33.0   2678.0     2060.0\n",
       "2014-01-06     1.0   9510.0     3507.0\n",
       "2014-01-07     0.0   6267.0     2282.0\n",
       "2014-01-08     0.0   9246.0     3855.0\n",
       "2014-01-09   860.0  13354.0     4948.0\n",
       "2014-01-10   823.0   9847.0     1843.0"
      ]
     },
     "execution_count": 79,
     "metadata": {},
     "output_type": "execute_result"
    }
   ],
   "source": [
    "# retrieve a pivot DataFrame from a cubeview / MDX Query \n",
    "pivot = tm1.cubes.cells.execute_mdx_dataframe_pivot(mdx)\n",
    "pivot.head(10)"
   ]
  },
  {
   "cell_type": "markdown",
   "metadata": {},
   "source": [
    "# Engineering and Analysis on Pandas DataFrames\n",
    "## head, tail, sample"
   ]
  },
  {
   "cell_type": "code",
   "execution_count": 15,
   "metadata": {},
   "outputs": [
    {
     "data": {
      "text/html": [
       "<div>\n",
       "<style scoped>\n",
       "    .dataframe tbody tr th:only-of-type {\n",
       "        vertical-align: middle;\n",
       "    }\n",
       "\n",
       "    .dataframe tbody tr th {\n",
       "        vertical-align: top;\n",
       "    }\n",
       "\n",
       "    .dataframe thead th {\n",
       "        text-align: right;\n",
       "    }\n",
       "</style>\n",
       "<table border=\"1\" class=\"dataframe\">\n",
       "  <thead>\n",
       "    <tr style=\"text-align: right;\">\n",
       "      <th></th>\n",
       "      <th>NYC</th>\n",
       "      <th>Chicago</th>\n",
       "      <th>Washington</th>\n",
       "    </tr>\n",
       "    <tr>\n",
       "      <th>Date</th>\n",
       "      <th></th>\n",
       "      <th></th>\n",
       "      <th></th>\n",
       "    </tr>\n",
       "  </thead>\n",
       "  <tbody>\n",
       "    <tr>\n",
       "      <th>2014-01-01</th>\n",
       "      <td>6059.0</td>\n",
       "      <td>123.0</td>\n",
       "      <td>3011.0</td>\n",
       "    </tr>\n",
       "    <tr>\n",
       "      <th>2014-01-02</th>\n",
       "      <td>8600.0</td>\n",
       "      <td>112.0</td>\n",
       "      <td>3316.0</td>\n",
       "    </tr>\n",
       "    <tr>\n",
       "      <th>2014-01-03</th>\n",
       "      <td>1144.0</td>\n",
       "      <td>6.0</td>\n",
       "      <td>1608.0</td>\n",
       "    </tr>\n",
       "    <tr>\n",
       "      <th>2014-01-04</th>\n",
       "      <td>2292.0</td>\n",
       "      <td>205.0</td>\n",
       "      <td>2242.0</td>\n",
       "    </tr>\n",
       "    <tr>\n",
       "      <th>2014-01-05</th>\n",
       "      <td>2678.0</td>\n",
       "      <td>33.0</td>\n",
       "      <td>2060.0</td>\n",
       "    </tr>\n",
       "  </tbody>\n",
       "</table>\n",
       "</div>"
      ],
      "text/plain": [
       "               NYC  Chicago  Washington\n",
       "Date                                   \n",
       "2014-01-01  6059.0    123.0      3011.0\n",
       "2014-01-02  8600.0    112.0      3316.0\n",
       "2014-01-03  1144.0      6.0      1608.0\n",
       "2014-01-04  2292.0    205.0      2242.0\n",
       "2014-01-05  2678.0     33.0      2060.0"
      ]
     },
     "execution_count": 15,
     "metadata": {},
     "output_type": "execute_result"
    }
   ],
   "source": [
    "# head() returns the first 5 records\n",
    "df.head()"
   ]
  },
  {
   "cell_type": "code",
   "execution_count": 16,
   "metadata": {},
   "outputs": [
    {
     "data": {
      "text/html": [
       "<div>\n",
       "<style scoped>\n",
       "    .dataframe tbody tr th:only-of-type {\n",
       "        vertical-align: middle;\n",
       "    }\n",
       "\n",
       "    .dataframe tbody tr th {\n",
       "        vertical-align: top;\n",
       "    }\n",
       "\n",
       "    .dataframe thead th {\n",
       "        text-align: right;\n",
       "    }\n",
       "</style>\n",
       "<table border=\"1\" class=\"dataframe\">\n",
       "  <thead>\n",
       "    <tr style=\"text-align: right;\">\n",
       "      <th></th>\n",
       "      <th>NYC</th>\n",
       "      <th>Chicago</th>\n",
       "      <th>Washington</th>\n",
       "    </tr>\n",
       "    <tr>\n",
       "      <th>Date</th>\n",
       "      <th></th>\n",
       "      <th></th>\n",
       "      <th></th>\n",
       "    </tr>\n",
       "  </thead>\n",
       "  <tbody>\n",
       "    <tr>\n",
       "      <th>2017-12-27</th>\n",
       "      <td>16365.0</td>\n",
       "      <td>1138.0</td>\n",
       "      <td>3321.0</td>\n",
       "    </tr>\n",
       "    <tr>\n",
       "      <th>2017-12-28</th>\n",
       "      <td>13420.0</td>\n",
       "      <td>1294.0</td>\n",
       "      <td>2866.0</td>\n",
       "    </tr>\n",
       "    <tr>\n",
       "      <th>2017-12-29</th>\n",
       "      <td>13759.0</td>\n",
       "      <td>1076.0</td>\n",
       "      <td>3088.0</td>\n",
       "    </tr>\n",
       "    <tr>\n",
       "      <th>2017-12-30</th>\n",
       "      <td>5956.0</td>\n",
       "      <td>548.0</td>\n",
       "      <td>1876.0</td>\n",
       "    </tr>\n",
       "    <tr>\n",
       "      <th>2017-12-31</th>\n",
       "      <td>6569.0</td>\n",
       "      <td>651.0</td>\n",
       "      <td>1437.0</td>\n",
       "    </tr>\n",
       "  </tbody>\n",
       "</table>\n",
       "</div>"
      ],
      "text/plain": [
       "                NYC  Chicago  Washington\n",
       "Date                                    \n",
       "2017-12-27  16365.0   1138.0      3321.0\n",
       "2017-12-28  13420.0   1294.0      2866.0\n",
       "2017-12-29  13759.0   1076.0      3088.0\n",
       "2017-12-30   5956.0    548.0      1876.0\n",
       "2017-12-31   6569.0    651.0      1437.0"
      ]
     },
     "execution_count": 16,
     "metadata": {},
     "output_type": "execute_result"
    }
   ],
   "source": [
    "# tail() returns the last 5 records\n",
    "df.tail()"
   ]
  },
  {
   "cell_type": "code",
   "execution_count": 17,
   "metadata": {
    "scrolled": true
   },
   "outputs": [
    {
     "data": {
      "text/html": [
       "<div>\n",
       "<style scoped>\n",
       "    .dataframe tbody tr th:only-of-type {\n",
       "        vertical-align: middle;\n",
       "    }\n",
       "\n",
       "    .dataframe tbody tr th {\n",
       "        vertical-align: top;\n",
       "    }\n",
       "\n",
       "    .dataframe thead th {\n",
       "        text-align: right;\n",
       "    }\n",
       "</style>\n",
       "<table border=\"1\" class=\"dataframe\">\n",
       "  <thead>\n",
       "    <tr style=\"text-align: right;\">\n",
       "      <th></th>\n",
       "      <th>NYC</th>\n",
       "      <th>Chicago</th>\n",
       "      <th>Washington</th>\n",
       "    </tr>\n",
       "    <tr>\n",
       "      <th>Date</th>\n",
       "      <th></th>\n",
       "      <th></th>\n",
       "      <th></th>\n",
       "    </tr>\n",
       "  </thead>\n",
       "  <tbody>\n",
       "    <tr>\n",
       "      <th>2016-08-18</th>\n",
       "      <td>53218.0</td>\n",
       "      <td>13365.0</td>\n",
       "      <td>11821.0</td>\n",
       "    </tr>\n",
       "    <tr>\n",
       "      <th>2015-11-15</th>\n",
       "      <td>25990.0</td>\n",
       "      <td>7707.0</td>\n",
       "      <td>7441.0</td>\n",
       "    </tr>\n",
       "    <tr>\n",
       "      <th>2015-03-09</th>\n",
       "      <td>14878.0</td>\n",
       "      <td>4362.0</td>\n",
       "      <td>7942.0</td>\n",
       "    </tr>\n",
       "    <tr>\n",
       "      <th>2017-05-13</th>\n",
       "      <td>5704.0</td>\n",
       "      <td>15015.0</td>\n",
       "      <td>8177.0</td>\n",
       "    </tr>\n",
       "    <tr>\n",
       "      <th>2015-08-11</th>\n",
       "      <td>25066.0</td>\n",
       "      <td>17489.0</td>\n",
       "      <td>11342.0</td>\n",
       "    </tr>\n",
       "  </tbody>\n",
       "</table>\n",
       "</div>"
      ],
      "text/plain": [
       "                NYC  Chicago  Washington\n",
       "Date                                    \n",
       "2016-08-18  53218.0  13365.0     11821.0\n",
       "2015-11-15  25990.0   7707.0      7441.0\n",
       "2015-03-09  14878.0   4362.0      7942.0\n",
       "2017-05-13   5704.0  15015.0      8177.0\n",
       "2015-08-11  25066.0  17489.0     11342.0"
      ]
     },
     "execution_count": 17,
     "metadata": {},
     "output_type": "execute_result"
    }
   ],
   "source": [
    "# sample(n) retrieves n random lines\n",
    "df.sample(5)"
   ]
  },
  {
   "cell_type": "markdown",
   "metadata": {},
   "source": [
    "## Accessing cells"
   ]
  },
  {
   "cell_type": "code",
   "execution_count": 24,
   "metadata": {},
   "outputs": [
    {
     "data": {
      "text/plain": [
       "47430.0"
      ]
     },
     "execution_count": 24,
     "metadata": {},
     "output_type": "execute_result"
    }
   ],
   "source": [
    "df.loc['2016-08-11']['NYC']"
   ]
  },
  {
   "cell_type": "code",
   "execution_count": 80,
   "metadata": {},
   "outputs": [
    {
     "data": {
      "text/plain": [
       "NYC           6569.0\n",
       "Chicago        651.0\n",
       "Washington    1437.0\n",
       "Name: 2017-12-31, dtype: float64"
      ]
     },
     "execution_count": 80,
     "metadata": {},
     "output_type": "execute_result"
    }
   ],
   "source": [
    "# accessing cells in pivot\n",
    "df.loc[(\"2017-12-31\")]"
   ]
  },
  {
   "cell_type": "code",
   "execution_count": 82,
   "metadata": {
    "scrolled": true
   },
   "outputs": [
    {
     "data": {
      "text/plain": [
       "6569.0"
      ]
     },
     "execution_count": 82,
     "metadata": {},
     "output_type": "execute_result"
    }
   ],
   "source": [
    "pivot.loc[(\"2017-12-31\")][\"Values\"][\"NYC\"]"
   ]
  },
  {
   "cell_type": "markdown",
   "metadata": {},
   "source": [
    "## Sorting"
   ]
  },
  {
   "cell_type": "code",
   "execution_count": 27,
   "metadata": {
    "scrolled": true
   },
   "outputs": [
    {
     "data": {
      "text/html": [
       "<div>\n",
       "<style scoped>\n",
       "    .dataframe tbody tr th:only-of-type {\n",
       "        vertical-align: middle;\n",
       "    }\n",
       "\n",
       "    .dataframe tbody tr th {\n",
       "        vertical-align: top;\n",
       "    }\n",
       "\n",
       "    .dataframe thead th {\n",
       "        text-align: right;\n",
       "    }\n",
       "</style>\n",
       "<table border=\"1\" class=\"dataframe\">\n",
       "  <thead>\n",
       "    <tr style=\"text-align: right;\">\n",
       "      <th></th>\n",
       "      <th>NYC</th>\n",
       "      <th>Chicago</th>\n",
       "      <th>Washington</th>\n",
       "    </tr>\n",
       "    <tr>\n",
       "      <th>Date</th>\n",
       "      <th></th>\n",
       "      <th></th>\n",
       "      <th></th>\n",
       "    </tr>\n",
       "  </thead>\n",
       "  <tbody>\n",
       "    <tr>\n",
       "      <th>2016-01-24</th>\n",
       "      <td>0.0</td>\n",
       "      <td>1988.0</td>\n",
       "      <td>0.0</td>\n",
       "    </tr>\n",
       "    <tr>\n",
       "      <th>2016-01-25</th>\n",
       "      <td>0.0</td>\n",
       "      <td>4078.0</td>\n",
       "      <td>0.0</td>\n",
       "    </tr>\n",
       "    <tr>\n",
       "      <th>2016-01-26</th>\n",
       "      <td>0.0</td>\n",
       "      <td>4327.0</td>\n",
       "      <td>0.0</td>\n",
       "    </tr>\n",
       "    <tr>\n",
       "      <th>2017-03-16</th>\n",
       "      <td>0.0</td>\n",
       "      <td>4989.0</td>\n",
       "      <td>5179.0</td>\n",
       "    </tr>\n",
       "    <tr>\n",
       "      <th>2017-03-15</th>\n",
       "      <td>0.0</td>\n",
       "      <td>3598.0</td>\n",
       "      <td>3359.0</td>\n",
       "    </tr>\n",
       "    <tr>\n",
       "      <th>2017-03-14</th>\n",
       "      <td>0.0</td>\n",
       "      <td>1746.0</td>\n",
       "      <td>1583.0</td>\n",
       "    </tr>\n",
       "    <tr>\n",
       "      <th>2016-01-23</th>\n",
       "      <td>0.0</td>\n",
       "      <td>2279.0</td>\n",
       "      <td>0.0</td>\n",
       "    </tr>\n",
       "    <tr>\n",
       "      <th>2017-02-09</th>\n",
       "      <td>0.0</td>\n",
       "      <td>4127.0</td>\n",
       "      <td>5369.0</td>\n",
       "    </tr>\n",
       "    <tr>\n",
       "      <th>2014-02-13</th>\n",
       "      <td>876.0</td>\n",
       "      <td>1389.0</td>\n",
       "      <td>52.0</td>\n",
       "    </tr>\n",
       "    <tr>\n",
       "      <th>2015-03-28</th>\n",
       "      <td>1107.0</td>\n",
       "      <td>1890.0</td>\n",
       "      <td>4573.0</td>\n",
       "    </tr>\n",
       "  </tbody>\n",
       "</table>\n",
       "</div>"
      ],
      "text/plain": [
       "               NYC  Chicago  Washington\n",
       "Date                                   \n",
       "2016-01-24     0.0   1988.0         0.0\n",
       "2016-01-25     0.0   4078.0         0.0\n",
       "2016-01-26     0.0   4327.0         0.0\n",
       "2017-03-16     0.0   4989.0      5179.0\n",
       "2017-03-15     0.0   3598.0      3359.0\n",
       "2017-03-14     0.0   1746.0      1583.0\n",
       "2016-01-23     0.0   2279.0         0.0\n",
       "2017-02-09     0.0   4127.0      5369.0\n",
       "2014-02-13   876.0   1389.0        52.0\n",
       "2015-03-28  1107.0   1890.0      4573.0"
      ]
     },
     "execution_count": 27,
     "metadata": {},
     "output_type": "execute_result"
    }
   ],
   "source": [
    "df.sort_values(by=['NYC'], ascending=True).head(10)"
   ]
  },
  {
   "cell_type": "markdown",
   "metadata": {},
   "source": [
    "## filtering"
   ]
  },
  {
   "cell_type": "code",
   "execution_count": 28,
   "metadata": {
    "scrolled": false
   },
   "outputs": [
    {
     "data": {
      "text/html": [
       "<div>\n",
       "<style scoped>\n",
       "    .dataframe tbody tr th:only-of-type {\n",
       "        vertical-align: middle;\n",
       "    }\n",
       "\n",
       "    .dataframe tbody tr th {\n",
       "        vertical-align: top;\n",
       "    }\n",
       "\n",
       "    .dataframe thead th {\n",
       "        text-align: right;\n",
       "    }\n",
       "</style>\n",
       "<table border=\"1\" class=\"dataframe\">\n",
       "  <thead>\n",
       "    <tr style=\"text-align: right;\">\n",
       "      <th></th>\n",
       "      <th>NYC</th>\n",
       "      <th>Chicago</th>\n",
       "      <th>Washington</th>\n",
       "    </tr>\n",
       "    <tr>\n",
       "      <th>Date</th>\n",
       "      <th></th>\n",
       "      <th></th>\n",
       "      <th></th>\n",
       "    </tr>\n",
       "  </thead>\n",
       "  <tbody>\n",
       "    <tr>\n",
       "      <th>2017-09-12</th>\n",
       "      <td>74580.0</td>\n",
       "      <td>17453.0</td>\n",
       "      <td>14497.0</td>\n",
       "    </tr>\n",
       "    <tr>\n",
       "      <th>2017-10-10</th>\n",
       "      <td>74118.0</td>\n",
       "      <td>10648.0</td>\n",
       "      <td>13153.0</td>\n",
       "    </tr>\n",
       "  </tbody>\n",
       "</table>\n",
       "</div>"
      ],
      "text/plain": [
       "                NYC  Chicago  Washington\n",
       "Date                                    \n",
       "2017-09-12  74580.0  17453.0     14497.0\n",
       "2017-10-10  74118.0  10648.0     13153.0"
      ]
     },
     "execution_count": 28,
     "metadata": {},
     "output_type": "execute_result"
    }
   ],
   "source": [
    "df.loc[lambda df: df['NYC'] > 74000]"
   ]
  },
  {
   "cell_type": "markdown",
   "metadata": {},
   "source": [
    "## filter and sort"
   ]
  },
  {
   "cell_type": "code",
   "execution_count": 29,
   "metadata": {
    "scrolled": true
   },
   "outputs": [
    {
     "data": {
      "text/html": [
       "<div>\n",
       "<style scoped>\n",
       "    .dataframe tbody tr th:only-of-type {\n",
       "        vertical-align: middle;\n",
       "    }\n",
       "\n",
       "    .dataframe tbody tr th {\n",
       "        vertical-align: top;\n",
       "    }\n",
       "\n",
       "    .dataframe thead th {\n",
       "        text-align: right;\n",
       "    }\n",
       "</style>\n",
       "<table border=\"1\" class=\"dataframe\">\n",
       "  <thead>\n",
       "    <tr style=\"text-align: right;\">\n",
       "      <th></th>\n",
       "      <th>NYC</th>\n",
       "      <th>Chicago</th>\n",
       "      <th>Washington</th>\n",
       "    </tr>\n",
       "    <tr>\n",
       "      <th>Date</th>\n",
       "      <th></th>\n",
       "      <th></th>\n",
       "      <th></th>\n",
       "    </tr>\n",
       "  </thead>\n",
       "  <tbody>\n",
       "    <tr>\n",
       "      <th>2017-10-10</th>\n",
       "      <td>74118.0</td>\n",
       "      <td>10648.0</td>\n",
       "      <td>13153.0</td>\n",
       "    </tr>\n",
       "    <tr>\n",
       "      <th>2017-09-12</th>\n",
       "      <td>74580.0</td>\n",
       "      <td>17453.0</td>\n",
       "      <td>14497.0</td>\n",
       "    </tr>\n",
       "  </tbody>\n",
       "</table>\n",
       "</div>"
      ],
      "text/plain": [
       "                NYC  Chicago  Washington\n",
       "Date                                    \n",
       "2017-10-10  74118.0  10648.0     13153.0\n",
       "2017-09-12  74580.0  17453.0     14497.0"
      ]
     },
     "execution_count": 29,
     "metadata": {},
     "output_type": "execute_result"
    }
   ],
   "source": [
    "df.loc[lambda df: df['NYC'] > 74000].sort_index(ascending=False)"
   ]
  },
  {
   "cell_type": "markdown",
   "metadata": {},
   "source": [
    "## Transpose"
   ]
  },
  {
   "cell_type": "code",
   "execution_count": 30,
   "metadata": {},
   "outputs": [
    {
     "data": {
      "text/html": [
       "<div>\n",
       "<style scoped>\n",
       "    .dataframe tbody tr th:only-of-type {\n",
       "        vertical-align: middle;\n",
       "    }\n",
       "\n",
       "    .dataframe tbody tr th {\n",
       "        vertical-align: top;\n",
       "    }\n",
       "\n",
       "    .dataframe thead th {\n",
       "        text-align: right;\n",
       "    }\n",
       "</style>\n",
       "<table border=\"1\" class=\"dataframe\">\n",
       "  <thead>\n",
       "    <tr style=\"text-align: right;\">\n",
       "      <th>Date</th>\n",
       "      <th>2014-01-01</th>\n",
       "      <th>2014-01-02</th>\n",
       "      <th>2014-01-03</th>\n",
       "      <th>2014-01-04</th>\n",
       "      <th>2014-01-05</th>\n",
       "    </tr>\n",
       "  </thead>\n",
       "  <tbody>\n",
       "    <tr>\n",
       "      <th>NYC</th>\n",
       "      <td>6059.0</td>\n",
       "      <td>8600.0</td>\n",
       "      <td>1144.0</td>\n",
       "      <td>2292.0</td>\n",
       "      <td>2678.0</td>\n",
       "    </tr>\n",
       "    <tr>\n",
       "      <th>Chicago</th>\n",
       "      <td>123.0</td>\n",
       "      <td>112.0</td>\n",
       "      <td>6.0</td>\n",
       "      <td>205.0</td>\n",
       "      <td>33.0</td>\n",
       "    </tr>\n",
       "    <tr>\n",
       "      <th>Washington</th>\n",
       "      <td>3011.0</td>\n",
       "      <td>3316.0</td>\n",
       "      <td>1608.0</td>\n",
       "      <td>2242.0</td>\n",
       "      <td>2060.0</td>\n",
       "    </tr>\n",
       "  </tbody>\n",
       "</table>\n",
       "</div>"
      ],
      "text/plain": [
       "Date        2014-01-01  2014-01-02  2014-01-03  2014-01-04  2014-01-05\n",
       "NYC             6059.0      8600.0      1144.0      2292.0      2678.0\n",
       "Chicago          123.0       112.0         6.0       205.0        33.0\n",
       "Washington      3011.0      3316.0      1608.0      2242.0      2060.0"
      ]
     },
     "execution_count": 30,
     "metadata": {},
     "output_type": "execute_result"
    }
   ],
   "source": [
    "df.head().T"
   ]
  },
  {
   "cell_type": "markdown",
   "metadata": {},
   "source": [
    "## Describe() to get a quick summary of your data frame"
   ]
  },
  {
   "cell_type": "code",
   "execution_count": 32,
   "metadata": {},
   "outputs": [
    {
     "data": {
      "text/html": [
       "<div>\n",
       "<style scoped>\n",
       "    .dataframe tbody tr th:only-of-type {\n",
       "        vertical-align: middle;\n",
       "    }\n",
       "\n",
       "    .dataframe tbody tr th {\n",
       "        vertical-align: top;\n",
       "    }\n",
       "\n",
       "    .dataframe thead th {\n",
       "        text-align: right;\n",
       "    }\n",
       "</style>\n",
       "<table border=\"1\" class=\"dataframe\">\n",
       "  <thead>\n",
       "    <tr style=\"text-align: right;\">\n",
       "      <th></th>\n",
       "      <th>NYC</th>\n",
       "      <th>Chicago</th>\n",
       "      <th>Washington</th>\n",
       "    </tr>\n",
       "  </thead>\n",
       "  <tbody>\n",
       "    <tr>\n",
       "      <th>count</th>\n",
       "      <td>1461.000000</td>\n",
       "      <td>1461.000000</td>\n",
       "      <td>1461.000000</td>\n",
       "    </tr>\n",
       "    <tr>\n",
       "      <th>mean</th>\n",
       "      <td>33011.291581</td>\n",
       "      <td>8940.773443</td>\n",
       "      <td>9028.629021</td>\n",
       "    </tr>\n",
       "    <tr>\n",
       "      <th>std</th>\n",
       "      <td>17316.021157</td>\n",
       "      <td>5806.161916</td>\n",
       "      <td>3564.236783</td>\n",
       "    </tr>\n",
       "    <tr>\n",
       "      <th>min</th>\n",
       "      <td>0.000000</td>\n",
       "      <td>0.000000</td>\n",
       "      <td>0.000000</td>\n",
       "    </tr>\n",
       "    <tr>\n",
       "      <th>25%</th>\n",
       "      <td>19695.000000</td>\n",
       "      <td>3733.000000</td>\n",
       "      <td>6074.000000</td>\n",
       "    </tr>\n",
       "    <tr>\n",
       "      <th>50%</th>\n",
       "      <td>32419.000000</td>\n",
       "      <td>8264.000000</td>\n",
       "      <td>9848.000000</td>\n",
       "    </tr>\n",
       "    <tr>\n",
       "      <th>75%</th>\n",
       "      <td>44553.000000</td>\n",
       "      <td>14197.000000</td>\n",
       "      <td>11821.000000</td>\n",
       "    </tr>\n",
       "    <tr>\n",
       "      <th>max</th>\n",
       "      <td>74580.000000</td>\n",
       "      <td>24989.000000</td>\n",
       "      <td>16896.000000</td>\n",
       "    </tr>\n",
       "  </tbody>\n",
       "</table>\n",
       "</div>"
      ],
      "text/plain": [
       "                NYC       Chicago    Washington\n",
       "count   1461.000000   1461.000000   1461.000000\n",
       "mean   33011.291581   8940.773443   9028.629021\n",
       "std    17316.021157   5806.161916   3564.236783\n",
       "min        0.000000      0.000000      0.000000\n",
       "25%    19695.000000   3733.000000   6074.000000\n",
       "50%    32419.000000   8264.000000   9848.000000\n",
       "75%    44553.000000  14197.000000  11821.000000\n",
       "max    74580.000000  24989.000000  16896.000000"
      ]
     },
     "execution_count": 32,
     "metadata": {},
     "output_type": "execute_result"
    }
   ],
   "source": [
    "df.describe()"
   ]
  },
  {
   "cell_type": "markdown",
   "metadata": {},
   "source": [
    "## Apply a custom function"
   ]
  },
  {
   "cell_type": "code",
   "execution_count": 36,
   "metadata": {},
   "outputs": [],
   "source": [
    "# Create a new column called 'Total'\n",
    "df['Total'] = df['NYC'] + df['Chicago'] + df['Washington']\n",
    "# Create a  new column 'Mean'\n",
    "df['Mean'] = df['Total'] / 3"
   ]
  },
  {
   "cell_type": "code",
   "execution_count": 37,
   "metadata": {},
   "outputs": [
    {
     "data": {
      "text/html": [
       "<div>\n",
       "<style scoped>\n",
       "    .dataframe tbody tr th:only-of-type {\n",
       "        vertical-align: middle;\n",
       "    }\n",
       "\n",
       "    .dataframe tbody tr th {\n",
       "        vertical-align: top;\n",
       "    }\n",
       "\n",
       "    .dataframe thead th {\n",
       "        text-align: right;\n",
       "    }\n",
       "</style>\n",
       "<table border=\"1\" class=\"dataframe\">\n",
       "  <thead>\n",
       "    <tr style=\"text-align: right;\">\n",
       "      <th></th>\n",
       "      <th>NYC</th>\n",
       "      <th>Chicago</th>\n",
       "      <th>Washington</th>\n",
       "      <th>Total</th>\n",
       "      <th>Mean</th>\n",
       "    </tr>\n",
       "    <tr>\n",
       "      <th>Date</th>\n",
       "      <th></th>\n",
       "      <th></th>\n",
       "      <th></th>\n",
       "      <th></th>\n",
       "      <th></th>\n",
       "    </tr>\n",
       "  </thead>\n",
       "  <tbody>\n",
       "    <tr>\n",
       "      <th>2014-01-01</th>\n",
       "      <td>6059.0</td>\n",
       "      <td>123.0</td>\n",
       "      <td>3011.0</td>\n",
       "      <td>9193.0</td>\n",
       "      <td>3064.333333</td>\n",
       "    </tr>\n",
       "    <tr>\n",
       "      <th>2014-01-02</th>\n",
       "      <td>8600.0</td>\n",
       "      <td>112.0</td>\n",
       "      <td>3316.0</td>\n",
       "      <td>12028.0</td>\n",
       "      <td>4009.333333</td>\n",
       "    </tr>\n",
       "    <tr>\n",
       "      <th>2014-01-03</th>\n",
       "      <td>1144.0</td>\n",
       "      <td>6.0</td>\n",
       "      <td>1608.0</td>\n",
       "      <td>2758.0</td>\n",
       "      <td>919.333333</td>\n",
       "    </tr>\n",
       "    <tr>\n",
       "      <th>2014-01-04</th>\n",
       "      <td>2292.0</td>\n",
       "      <td>205.0</td>\n",
       "      <td>2242.0</td>\n",
       "      <td>4739.0</td>\n",
       "      <td>1579.666667</td>\n",
       "    </tr>\n",
       "    <tr>\n",
       "      <th>2014-01-05</th>\n",
       "      <td>2678.0</td>\n",
       "      <td>33.0</td>\n",
       "      <td>2060.0</td>\n",
       "      <td>4771.0</td>\n",
       "      <td>1590.333333</td>\n",
       "    </tr>\n",
       "  </tbody>\n",
       "</table>\n",
       "</div>"
      ],
      "text/plain": [
       "               NYC  Chicago  Washington    Total         Mean\n",
       "Date                                                         \n",
       "2014-01-01  6059.0    123.0      3011.0   9193.0  3064.333333\n",
       "2014-01-02  8600.0    112.0      3316.0  12028.0  4009.333333\n",
       "2014-01-03  1144.0      6.0      1608.0   2758.0   919.333333\n",
       "2014-01-04  2292.0    205.0      2242.0   4739.0  1579.666667\n",
       "2014-01-05  2678.0     33.0      2060.0   4771.0  1590.333333"
      ]
     },
     "execution_count": 37,
     "metadata": {},
     "output_type": "execute_result"
    }
   ],
   "source": [
    "df.head()"
   ]
  },
  {
   "cell_type": "markdown",
   "metadata": {},
   "source": [
    "## Rolling Moving Average With Window"
   ]
  },
  {
   "cell_type": "code",
   "execution_count": 38,
   "metadata": {},
   "outputs": [],
   "source": [
    "df['NYC Rolling Median'] = df['NYC'].rolling(window=10,).median()"
   ]
  },
  {
   "cell_type": "code",
   "execution_count": 39,
   "metadata": {},
   "outputs": [],
   "source": [
    "df['NYC Rolling StdDev'] = df['NYC'].rolling(window=10,).std()"
   ]
  },
  {
   "cell_type": "code",
   "execution_count": 40,
   "metadata": {},
   "outputs": [
    {
     "data": {
      "text/html": [
       "<div>\n",
       "<style scoped>\n",
       "    .dataframe tbody tr th:only-of-type {\n",
       "        vertical-align: middle;\n",
       "    }\n",
       "\n",
       "    .dataframe tbody tr th {\n",
       "        vertical-align: top;\n",
       "    }\n",
       "\n",
       "    .dataframe thead th {\n",
       "        text-align: right;\n",
       "    }\n",
       "</style>\n",
       "<table border=\"1\" class=\"dataframe\">\n",
       "  <thead>\n",
       "    <tr style=\"text-align: right;\">\n",
       "      <th></th>\n",
       "      <th>NYC</th>\n",
       "      <th>Chicago</th>\n",
       "      <th>Washington</th>\n",
       "      <th>Total</th>\n",
       "      <th>Mean</th>\n",
       "      <th>NYC Rolling Median</th>\n",
       "      <th>NYC Rolling StdDev</th>\n",
       "    </tr>\n",
       "    <tr>\n",
       "      <th>Date</th>\n",
       "      <th></th>\n",
       "      <th></th>\n",
       "      <th></th>\n",
       "      <th></th>\n",
       "      <th></th>\n",
       "      <th></th>\n",
       "      <th></th>\n",
       "    </tr>\n",
       "  </thead>\n",
       "  <tbody>\n",
       "    <tr>\n",
       "      <th>2017-12-22</th>\n",
       "      <td>34341.0</td>\n",
       "      <td>4576.0</td>\n",
       "      <td>6159.0</td>\n",
       "      <td>45076.0</td>\n",
       "      <td>15025.333333</td>\n",
       "      <td>33482.0</td>\n",
       "      <td>9751.619806</td>\n",
       "    </tr>\n",
       "    <tr>\n",
       "      <th>2017-12-23</th>\n",
       "      <td>9608.0</td>\n",
       "      <td>1727.0</td>\n",
       "      <td>2464.0</td>\n",
       "      <td>13799.0</td>\n",
       "      <td>4599.666667</td>\n",
       "      <td>30918.0</td>\n",
       "      <td>12196.708518</td>\n",
       "    </tr>\n",
       "    <tr>\n",
       "      <th>2017-12-24</th>\n",
       "      <td>13216.0</td>\n",
       "      <td>403.0</td>\n",
       "      <td>2041.0</td>\n",
       "      <td>15660.0</td>\n",
       "      <td>5220.000000</td>\n",
       "      <td>28642.5</td>\n",
       "      <td>13362.247531</td>\n",
       "    </tr>\n",
       "    <tr>\n",
       "      <th>2017-12-25</th>\n",
       "      <td>6479.0</td>\n",
       "      <td>240.0</td>\n",
       "      <td>1041.0</td>\n",
       "      <td>7760.0</td>\n",
       "      <td>2586.666667</td>\n",
       "      <td>28372.0</td>\n",
       "      <td>15097.236422</td>\n",
       "    </tr>\n",
       "    <tr>\n",
       "      <th>2017-12-26</th>\n",
       "      <td>14113.0</td>\n",
       "      <td>779.0</td>\n",
       "      <td>2789.0</td>\n",
       "      <td>17681.0</td>\n",
       "      <td>5893.666667</td>\n",
       "      <td>28372.0</td>\n",
       "      <td>15476.560005</td>\n",
       "    </tr>\n",
       "    <tr>\n",
       "      <th>2017-12-27</th>\n",
       "      <td>16365.0</td>\n",
       "      <td>1138.0</td>\n",
       "      <td>3321.0</td>\n",
       "      <td>20824.0</td>\n",
       "      <td>6941.333333</td>\n",
       "      <td>25353.0</td>\n",
       "      <td>15785.700251</td>\n",
       "    </tr>\n",
       "    <tr>\n",
       "      <th>2017-12-28</th>\n",
       "      <td>13420.0</td>\n",
       "      <td>1294.0</td>\n",
       "      <td>2866.0</td>\n",
       "      <td>17580.0</td>\n",
       "      <td>5860.000000</td>\n",
       "      <td>15239.0</td>\n",
       "      <td>15434.122651</td>\n",
       "    </tr>\n",
       "    <tr>\n",
       "      <th>2017-12-29</th>\n",
       "      <td>13759.0</td>\n",
       "      <td>1076.0</td>\n",
       "      <td>3088.0</td>\n",
       "      <td>17923.0</td>\n",
       "      <td>5974.333333</td>\n",
       "      <td>13936.0</td>\n",
       "      <td>12661.142113</td>\n",
       "    </tr>\n",
       "    <tr>\n",
       "      <th>2017-12-30</th>\n",
       "      <td>5956.0</td>\n",
       "      <td>548.0</td>\n",
       "      <td>1876.0</td>\n",
       "      <td>8380.0</td>\n",
       "      <td>2793.333333</td>\n",
       "      <td>13589.5</td>\n",
       "      <td>10830.859394</td>\n",
       "    </tr>\n",
       "    <tr>\n",
       "      <th>2017-12-31</th>\n",
       "      <td>6569.0</td>\n",
       "      <td>651.0</td>\n",
       "      <td>1437.0</td>\n",
       "      <td>8657.0</td>\n",
       "      <td>2885.666667</td>\n",
       "      <td>13318.0</td>\n",
       "      <td>8248.504150</td>\n",
       "    </tr>\n",
       "  </tbody>\n",
       "</table>\n",
       "</div>"
      ],
      "text/plain": [
       "                NYC  Chicago  Washington    Total          Mean  \\\n",
       "Date                                                              \n",
       "2017-12-22  34341.0   4576.0      6159.0  45076.0  15025.333333   \n",
       "2017-12-23   9608.0   1727.0      2464.0  13799.0   4599.666667   \n",
       "2017-12-24  13216.0    403.0      2041.0  15660.0   5220.000000   \n",
       "2017-12-25   6479.0    240.0      1041.0   7760.0   2586.666667   \n",
       "2017-12-26  14113.0    779.0      2789.0  17681.0   5893.666667   \n",
       "2017-12-27  16365.0   1138.0      3321.0  20824.0   6941.333333   \n",
       "2017-12-28  13420.0   1294.0      2866.0  17580.0   5860.000000   \n",
       "2017-12-29  13759.0   1076.0      3088.0  17923.0   5974.333333   \n",
       "2017-12-30   5956.0    548.0      1876.0   8380.0   2793.333333   \n",
       "2017-12-31   6569.0    651.0      1437.0   8657.0   2885.666667   \n",
       "\n",
       "            NYC Rolling Median  NYC Rolling StdDev  \n",
       "Date                                                \n",
       "2017-12-22             33482.0         9751.619806  \n",
       "2017-12-23             30918.0        12196.708518  \n",
       "2017-12-24             28642.5        13362.247531  \n",
       "2017-12-25             28372.0        15097.236422  \n",
       "2017-12-26             28372.0        15476.560005  \n",
       "2017-12-27             25353.0        15785.700251  \n",
       "2017-12-28             15239.0        15434.122651  \n",
       "2017-12-29             13936.0        12661.142113  \n",
       "2017-12-30             13589.5        10830.859394  \n",
       "2017-12-31             13318.0         8248.504150  "
      ]
     },
     "execution_count": 40,
     "metadata": {},
     "output_type": "execute_result"
    }
   ],
   "source": [
    "df.tail(10)"
   ]
  },
  {
   "cell_type": "markdown",
   "metadata": {},
   "source": [
    "# Apply any function a column"
   ]
  },
  {
   "cell_type": "code",
   "execution_count": 41,
   "metadata": {},
   "outputs": [
    {
     "data": {
      "text/html": [
       "<div>\n",
       "<style scoped>\n",
       "    .dataframe tbody tr th:only-of-type {\n",
       "        vertical-align: middle;\n",
       "    }\n",
       "\n",
       "    .dataframe tbody tr th {\n",
       "        vertical-align: top;\n",
       "    }\n",
       "\n",
       "    .dataframe thead th {\n",
       "        text-align: right;\n",
       "    }\n",
       "</style>\n",
       "<table border=\"1\" class=\"dataframe\">\n",
       "  <thead>\n",
       "    <tr style=\"text-align: right;\">\n",
       "      <th></th>\n",
       "      <th>NYC</th>\n",
       "      <th>Chicago</th>\n",
       "      <th>Washington</th>\n",
       "      <th>Total</th>\n",
       "      <th>Mean</th>\n",
       "      <th>NYC Rolling Median</th>\n",
       "      <th>NYC Rolling StdDev</th>\n",
       "    </tr>\n",
       "    <tr>\n",
       "      <th>Date</th>\n",
       "      <th></th>\n",
       "      <th></th>\n",
       "      <th></th>\n",
       "      <th></th>\n",
       "      <th></th>\n",
       "      <th></th>\n",
       "      <th></th>\n",
       "    </tr>\n",
       "  </thead>\n",
       "  <tbody>\n",
       "    <tr>\n",
       "      <th>2017-12-27</th>\n",
       "      <td>16365.0</td>\n",
       "      <td>1138.0</td>\n",
       "      <td>3321.0</td>\n",
       "      <td>20824.0</td>\n",
       "      <td>6941.333333</td>\n",
       "      <td>25353.0</td>\n",
       "      <td>15785.700251</td>\n",
       "    </tr>\n",
       "    <tr>\n",
       "      <th>2017-12-28</th>\n",
       "      <td>13420.0</td>\n",
       "      <td>1294.0</td>\n",
       "      <td>2866.0</td>\n",
       "      <td>17580.0</td>\n",
       "      <td>5860.000000</td>\n",
       "      <td>15239.0</td>\n",
       "      <td>15434.122651</td>\n",
       "    </tr>\n",
       "    <tr>\n",
       "      <th>2017-12-29</th>\n",
       "      <td>13759.0</td>\n",
       "      <td>1076.0</td>\n",
       "      <td>3088.0</td>\n",
       "      <td>17923.0</td>\n",
       "      <td>5974.333333</td>\n",
       "      <td>13936.0</td>\n",
       "      <td>12661.142113</td>\n",
       "    </tr>\n",
       "    <tr>\n",
       "      <th>2017-12-30</th>\n",
       "      <td>5956.0</td>\n",
       "      <td>548.0</td>\n",
       "      <td>1876.0</td>\n",
       "      <td>8380.0</td>\n",
       "      <td>2793.333333</td>\n",
       "      <td>13589.5</td>\n",
       "      <td>10830.859394</td>\n",
       "    </tr>\n",
       "    <tr>\n",
       "      <th>2017-12-31</th>\n",
       "      <td>6569.0</td>\n",
       "      <td>651.0</td>\n",
       "      <td>1437.0</td>\n",
       "      <td>8657.0</td>\n",
       "      <td>2885.666667</td>\n",
       "      <td>13318.0</td>\n",
       "      <td>8248.504150</td>\n",
       "    </tr>\n",
       "  </tbody>\n",
       "</table>\n",
       "</div>"
      ],
      "text/plain": [
       "                NYC  Chicago  Washington    Total         Mean  \\\n",
       "Date                                                             \n",
       "2017-12-27  16365.0   1138.0      3321.0  20824.0  6941.333333   \n",
       "2017-12-28  13420.0   1294.0      2866.0  17580.0  5860.000000   \n",
       "2017-12-29  13759.0   1076.0      3088.0  17923.0  5974.333333   \n",
       "2017-12-30   5956.0    548.0      1876.0   8380.0  2793.333333   \n",
       "2017-12-31   6569.0    651.0      1437.0   8657.0  2885.666667   \n",
       "\n",
       "            NYC Rolling Median  NYC Rolling StdDev  \n",
       "Date                                                \n",
       "2017-12-27             25353.0        15785.700251  \n",
       "2017-12-28             15239.0        15434.122651  \n",
       "2017-12-29             13936.0        12661.142113  \n",
       "2017-12-30             13589.5        10830.859394  \n",
       "2017-12-31             13318.0         8248.504150  "
      ]
     },
     "execution_count": 41,
     "metadata": {},
     "output_type": "execute_result"
    }
   ],
   "source": [
    "# Uses pipe to apply the function 'abs' to all values in the column 'NYC'\n",
    "df['NYC'] = df['NYC'].pipe(func=abs)\n",
    "df.tail(5)"
   ]
  },
  {
   "cell_type": "markdown",
   "metadata": {},
   "source": [
    "## To csv, to xlsx"
   ]
  },
  {
   "cell_type": "code",
   "execution_count": 42,
   "metadata": {},
   "outputs": [],
   "source": [
    "df.to_csv(\"out.csv\")"
   ]
  },
  {
   "cell_type": "markdown",
   "metadata": {},
   "source": [
    "# Plotting Pandas DataFrames"
   ]
  },
  {
   "cell_type": "code",
   "execution_count": 43,
   "metadata": {},
   "outputs": [],
   "source": [
    "%matplotlib inline"
   ]
  },
  {
   "cell_type": "code",
   "execution_count": 44,
   "metadata": {},
   "outputs": [
    {
     "data": {
      "text/plain": [
       "<matplotlib.axes._subplots.AxesSubplot at 0x2b696805f98>"
      ]
     },
     "execution_count": 44,
     "metadata": {},
     "output_type": "execute_result"
    },
    {
     "data": {
      "image/png": "[encoded data removed]",
      "text/plain": [
       "<Figure size 432x288 with 1 Axes>"
      ]
     },
     "metadata": {
      "needs_background": "light"
     },
     "output_type": "display_data"
    }
   ],
   "source": [
    "df['NYC'].plot.line()"
   ]
  },
  {
   "cell_type": "code",
   "execution_count": 45,
   "metadata": {},
   "outputs": [
    {
     "data": {
      "text/plain": [
       "<matplotlib.axes._subplots.AxesSubplot at 0x2b696349e80>"
      ]
     },
     "execution_count": 45,
     "metadata": {},
     "output_type": "execute_result"
    },
    {
     "data": {
      "image/png": "[encoded data removed]",
      "text/plain": [
       "<Figure size 432x288 with 1 Axes>"
      ]
     },
     "metadata": {
      "needs_background": "light"
     },
     "output_type": "display_data"
    }
   ],
   "source": [
    "df.filter(like='2017', axis=0)[['NYC', 'NYC Rolling Median']].plot.line()"
   ]
  },
  {
   "cell_type": "code",
   "execution_count": 46,
   "metadata": {},
   "outputs": [
    {
     "data": {
      "text/plain": [
       "<matplotlib.axes._subplots.AxesSubplot at 0x2b695e2cc18>"
      ]
     },
     "execution_count": 46,
     "metadata": {},
     "output_type": "execute_result"
    },
    {
     "data": {
      "image/png": "[encoded data removed]",
      "text/plain": [
       "<Figure size 432x288 with 1 Axes>"
      ]
     },
     "metadata": {
      "needs_background": "light"
     },
     "output_type": "display_data"
    }
   ],
   "source": [
    "df[['NYC', 'Chicago']].plot.hist()"
   ]
  },
  {
   "cell_type": "code",
   "execution_count": 47,
   "metadata": {},
   "outputs": [
    {
     "data": {
      "text/plain": [
       "array([[<matplotlib.axes._subplots.AxesSubplot object at 0x000002B69646A9E8>,\n",
       "        <matplotlib.axes._subplots.AxesSubplot object at 0x000002B696886780>],\n",
       "       [<matplotlib.axes._subplots.AxesSubplot object at 0x000002B696670CC0>,\n",
       "        <matplotlib.axes._subplots.AxesSubplot object at 0x000002B6966E0278>]],\n",
       "      dtype=object)"
      ]
     },
     "execution_count": 47,
     "metadata": {},
     "output_type": "execute_result"
    },
    {
     "data": {
      "image/png": "[encoded data removed]",
      "text/plain": [
       "<Figure size 432x288 with 4 Axes>"
      ]
     },
     "metadata": {
      "needs_background": "light"
     },
     "output_type": "display_data"
    }
   ],
   "source": [
    "pivot.hist()"
   ]
  },
  {
   "cell_type": "markdown",
   "metadata": {},
   "source": [
    "# Writing DataFrames back to TM1"
   ]
  },
  {
   "cell_type": "code",
   "execution_count": 48,
   "metadata": {},
   "outputs": [],
   "source": [
    "# We want to send back to TM1 the two columns Rolling Median and Rolling StdDev\n",
    "df_writeback = df[['NYC Rolling Median', 'NYC Rolling StdDev']]"
   ]
  },
  {
   "cell_type": "code",
   "execution_count": 49,
   "metadata": {},
   "outputs": [
    {
     "data": {
      "text/html": [
       "<div>\n",
       "<style scoped>\n",
       "    .dataframe tbody tr th:only-of-type {\n",
       "        vertical-align: middle;\n",
       "    }\n",
       "\n",
       "    .dataframe tbody tr th {\n",
       "        vertical-align: top;\n",
       "    }\n",
       "\n",
       "    .dataframe thead th {\n",
       "        text-align: right;\n",
       "    }\n",
       "</style>\n",
       "<table border=\"1\" class=\"dataframe\">\n",
       "  <thead>\n",
       "    <tr style=\"text-align: right;\">\n",
       "      <th></th>\n",
       "      <th>NYC Rolling Median</th>\n",
       "      <th>NYC Rolling StdDev</th>\n",
       "    </tr>\n",
       "    <tr>\n",
       "      <th>Date</th>\n",
       "      <th></th>\n",
       "      <th></th>\n",
       "    </tr>\n",
       "  </thead>\n",
       "  <tbody>\n",
       "    <tr>\n",
       "      <th>2014-01-01</th>\n",
       "      <td>NaN</td>\n",
       "      <td>NaN</td>\n",
       "    </tr>\n",
       "    <tr>\n",
       "      <th>2014-01-02</th>\n",
       "      <td>NaN</td>\n",
       "      <td>NaN</td>\n",
       "    </tr>\n",
       "    <tr>\n",
       "      <th>2014-01-03</th>\n",
       "      <td>NaN</td>\n",
       "      <td>NaN</td>\n",
       "    </tr>\n",
       "    <tr>\n",
       "      <th>2014-01-04</th>\n",
       "      <td>NaN</td>\n",
       "      <td>NaN</td>\n",
       "    </tr>\n",
       "    <tr>\n",
       "      <th>2014-01-05</th>\n",
       "      <td>NaN</td>\n",
       "      <td>NaN</td>\n",
       "    </tr>\n",
       "    <tr>\n",
       "      <th>2014-01-06</th>\n",
       "      <td>NaN</td>\n",
       "      <td>NaN</td>\n",
       "    </tr>\n",
       "    <tr>\n",
       "      <th>2014-01-07</th>\n",
       "      <td>NaN</td>\n",
       "      <td>NaN</td>\n",
       "    </tr>\n",
       "    <tr>\n",
       "      <th>2014-01-08</th>\n",
       "      <td>NaN</td>\n",
       "      <td>NaN</td>\n",
       "    </tr>\n",
       "    <tr>\n",
       "      <th>2014-01-09</th>\n",
       "      <td>NaN</td>\n",
       "      <td>NaN</td>\n",
       "    </tr>\n",
       "    <tr>\n",
       "      <th>2014-01-10</th>\n",
       "      <td>7433.5</td>\n",
       "      <td>3927.724732</td>\n",
       "    </tr>\n",
       "  </tbody>\n",
       "</table>\n",
       "</div>"
      ],
      "text/plain": [
       "            NYC Rolling Median  NYC Rolling StdDev\n",
       "Date                                              \n",
       "2014-01-01                 NaN                 NaN\n",
       "2014-01-02                 NaN                 NaN\n",
       "2014-01-03                 NaN                 NaN\n",
       "2014-01-04                 NaN                 NaN\n",
       "2014-01-05                 NaN                 NaN\n",
       "2014-01-06                 NaN                 NaN\n",
       "2014-01-07                 NaN                 NaN\n",
       "2014-01-08                 NaN                 NaN\n",
       "2014-01-09                 NaN                 NaN\n",
       "2014-01-10              7433.5         3927.724732"
      ]
     },
     "execution_count": 49,
     "metadata": {},
     "output_type": "execute_result"
    }
   ],
   "source": [
    "df_writeback.head(10)"
   ]
  },
  {
   "cell_type": "code",
   "execution_count": 52,
   "metadata": {},
   "outputs": [],
   "source": [
    "# Convert the NaN values into 0\n",
    "df_writeback = df_writeback.fillna(0)"
   ]
  },
  {
   "cell_type": "code",
   "execution_count": 57,
   "metadata": {
    "scrolled": true
   },
   "outputs": [
    {
     "data": {
      "text/html": [
       "<div>\n",
       "<style scoped>\n",
       "    .dataframe tbody tr th:only-of-type {\n",
       "        vertical-align: middle;\n",
       "    }\n",
       "\n",
       "    .dataframe tbody tr th {\n",
       "        vertical-align: top;\n",
       "    }\n",
       "\n",
       "    .dataframe thead th {\n",
       "        text-align: right;\n",
       "    }\n",
       "</style>\n",
       "<table border=\"1\" class=\"dataframe\">\n",
       "  <thead>\n",
       "    <tr style=\"text-align: right;\">\n",
       "      <th></th>\n",
       "      <th>NYC Rolling Median</th>\n",
       "      <th>NYC Rolling StdDev</th>\n",
       "    </tr>\n",
       "    <tr>\n",
       "      <th>Date</th>\n",
       "      <th></th>\n",
       "      <th></th>\n",
       "    </tr>\n",
       "  </thead>\n",
       "  <tbody>\n",
       "    <tr>\n",
       "      <th>2014-01-01</th>\n",
       "      <td>0.0</td>\n",
       "      <td>0.000000</td>\n",
       "    </tr>\n",
       "    <tr>\n",
       "      <th>2014-01-02</th>\n",
       "      <td>0.0</td>\n",
       "      <td>0.000000</td>\n",
       "    </tr>\n",
       "    <tr>\n",
       "      <th>2014-01-03</th>\n",
       "      <td>0.0</td>\n",
       "      <td>0.000000</td>\n",
       "    </tr>\n",
       "    <tr>\n",
       "      <th>2014-01-04</th>\n",
       "      <td>0.0</td>\n",
       "      <td>0.000000</td>\n",
       "    </tr>\n",
       "    <tr>\n",
       "      <th>2014-01-05</th>\n",
       "      <td>0.0</td>\n",
       "      <td>0.000000</td>\n",
       "    </tr>\n",
       "    <tr>\n",
       "      <th>2014-01-06</th>\n",
       "      <td>0.0</td>\n",
       "      <td>0.000000</td>\n",
       "    </tr>\n",
       "    <tr>\n",
       "      <th>2014-01-07</th>\n",
       "      <td>0.0</td>\n",
       "      <td>0.000000</td>\n",
       "    </tr>\n",
       "    <tr>\n",
       "      <th>2014-01-08</th>\n",
       "      <td>0.0</td>\n",
       "      <td>0.000000</td>\n",
       "    </tr>\n",
       "    <tr>\n",
       "      <th>2014-01-09</th>\n",
       "      <td>0.0</td>\n",
       "      <td>0.000000</td>\n",
       "    </tr>\n",
       "    <tr>\n",
       "      <th>2014-01-10</th>\n",
       "      <td>7433.5</td>\n",
       "      <td>3927.724732</td>\n",
       "    </tr>\n",
       "  </tbody>\n",
       "</table>\n",
       "</div>"
      ],
      "text/plain": [
       "            NYC Rolling Median  NYC Rolling StdDev\n",
       "Date                                              \n",
       "2014-01-01                 0.0            0.000000\n",
       "2014-01-02                 0.0            0.000000\n",
       "2014-01-03                 0.0            0.000000\n",
       "2014-01-04                 0.0            0.000000\n",
       "2014-01-05                 0.0            0.000000\n",
       "2014-01-06                 0.0            0.000000\n",
       "2014-01-07                 0.0            0.000000\n",
       "2014-01-08                 0.0            0.000000\n",
       "2014-01-09                 0.0            0.000000\n",
       "2014-01-10              7433.5         3927.724732"
      ]
     },
     "execution_count": 57,
     "metadata": {},
     "output_type": "execute_result"
    }
   ],
   "source": [
    "df_writeback.head(10)"
   ]
  },
  {
   "cell_type": "code",
   "execution_count": 58,
   "metadata": {},
   "outputs": [],
   "source": [
    "cellset = {}"
   ]
  },
  {
   "cell_type": "code",
   "execution_count": 61,
   "metadata": {
    "scrolled": false
   },
   "outputs": [],
   "source": [
    "# Prepare the cellset\n",
    "for date in df_writeback.index:\n",
    "    cellset[('Actual', date, 'NYC', 'Rolling Median')] = median = df_writeback.loc[date]['NYC Rolling Median']\n",
    "    cellset[('Actual', date, 'NYC', 'Rolling StdDev')] = stddev = df_writeback.loc[date]['NYC Rolling StdDev']"
   ]
  },
  {
   "cell_type": "code",
   "execution_count": 62,
   "metadata": {},
   "outputs": [],
   "source": [
    "#Before executing this scritp check that 'Rolling Median' and 'Rolling StdDev' exist in the Bike Shares Measure dimension"
   ]
  },
  {
   "cell_type": "code",
   "execution_count": 64,
   "metadata": {},
   "outputs": [
    {
     "data": {
      "text/plain": [
       "<Response [204]>"
      ]
     },
     "execution_count": 64,
     "metadata": {},
     "output_type": "execute_result"
    }
   ],
   "source": [
    "tm1.cubes.cells.write_values(\"Bike Shares\", cellset)\n",
    "# If you are getting <Response [204]>, it means it worked"
   ]
  }
 ],
 "metadata": {
  "kernelspec": {
   "display_name": "Python 3",
   "language": "python",
   "name": "python3"
  },
  "language_info": {
   "codemirror_mode": {
    "name": "ipython",
    "version": 3
   },
   "file_extension": ".py",
   "mimetype": "text/x-python",
   "name": "python",
   "nbconvert_exporter": "python",
   "pygments_lexer": "ipython3",
   "version": "3.7.1"
  }
 },
 "nbformat": 4,
 "nbformat_minor": 2
}
