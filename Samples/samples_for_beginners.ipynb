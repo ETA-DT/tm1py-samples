{
 "cells": [
  {
   "cell_type": "markdown",
   "metadata": {},
   "source": [
    "# Sample 1"
   ]
  },
  {
   "cell_type": "code",
   "execution_count": 1,
   "metadata": {},
   "outputs": [],
   "source": [
    "import matplotlib\n",
    "%matplotlib inline\n",
    "\n",
    "from TM1py import TM1Service"
   ]
  },
  {
   "cell_type": "code",
   "execution_count": 2,
   "metadata": {},
   "outputs": [],
   "source": [
    "ADDRESS = \"localhost\"\n",
    "PORT = 8009\n",
    "USER = \"admin\"\n",
    "PWD = \"apple\"\n",
    "SSL = True\n",
    "tm1 = TM1Service(address=ADDRESS, port=PORT, user=USER, password=PWD, ssl=SSL)"
   ]
  },
  {
   "cell_type": "code",
   "execution_count": 3,
   "metadata": {},
   "outputs": [],
   "source": [
    "pivot = tm1.cubes.cells.execute_view_dataframe_pivot(\n",
    "    cube_name=\"Bike Shares\",\n",
    "    view_name=\"2017 Counts by Month\",\n",
    "    private=False)"
   ]
  },
  {
   "cell_type": "code",
   "execution_count": 4,
   "metadata": {},
   "outputs": [
    {
     "data": {
      "text/html": [
       "<div>\n",
       "<style scoped>\n",
       "    .dataframe tbody tr th:only-of-type {\n",
       "        vertical-align: middle;\n",
       "    }\n",
       "\n",
       "    .dataframe tbody tr th {\n",
       "        vertical-align: top;\n",
       "    }\n",
       "\n",
       "    .dataframe thead tr th {\n",
       "        text-align: left;\n",
       "    }\n",
       "\n",
       "    .dataframe thead tr:last-of-type th {\n",
       "        text-align: right;\n",
       "    }\n",
       "</style>\n",
       "<table border=\"1\" class=\"dataframe\">\n",
       "  <thead>\n",
       "    <tr>\n",
       "      <th></th>\n",
       "      <th colspan=\"3\" halign=\"left\">Values</th>\n",
       "    </tr>\n",
       "    <tr>\n",
       "      <th>City</th>\n",
       "      <th>Chicago</th>\n",
       "      <th>NYC</th>\n",
       "      <th>Washington</th>\n",
       "    </tr>\n",
       "    <tr>\n",
       "      <th>Date</th>\n",
       "      <th></th>\n",
       "      <th></th>\n",
       "      <th></th>\n",
       "    </tr>\n",
       "  </thead>\n",
       "  <tbody>\n",
       "    <tr>\n",
       "      <th>2017-01</th>\n",
       "      <td>111942</td>\n",
       "      <td>726676</td>\n",
       "      <td>174804</td>\n",
       "    </tr>\n",
       "    <tr>\n",
       "      <th>2017-02</th>\n",
       "      <td>166343</td>\n",
       "      <td>791647</td>\n",
       "      <td>226303</td>\n",
       "    </tr>\n",
       "    <tr>\n",
       "      <th>2017-03</th>\n",
       "      <td>153406</td>\n",
       "      <td>727665</td>\n",
       "      <td>245403</td>\n",
       "    </tr>\n",
       "    <tr>\n",
       "      <th>2017-04</th>\n",
       "      <td>268662</td>\n",
       "      <td>1315404</td>\n",
       "      <td>365990</td>\n",
       "    </tr>\n",
       "    <tr>\n",
       "      <th>2017-05</th>\n",
       "      <td>345988</td>\n",
       "      <td>1523268</td>\n",
       "      <td>339677</td>\n",
       "    </tr>\n",
       "    <tr>\n",
       "      <th>2017-06</th>\n",
       "      <td>505164</td>\n",
       "      <td>1731594</td>\n",
       "      <td>398751</td>\n",
       "    </tr>\n",
       "    <tr>\n",
       "      <th>2017-07</th>\n",
       "      <td>565142</td>\n",
       "      <td>1735599</td>\n",
       "      <td>397680</td>\n",
       "    </tr>\n",
       "    <tr>\n",
       "      <th>2017-08</th>\n",
       "      <td>557639</td>\n",
       "      <td>1816498</td>\n",
       "      <td>402534</td>\n",
       "    </tr>\n",
       "    <tr>\n",
       "      <th>2017-09</th>\n",
       "      <td>485489</td>\n",
       "      <td>1878098</td>\n",
       "      <td>391371</td>\n",
       "    </tr>\n",
       "    <tr>\n",
       "      <th>2017-10</th>\n",
       "      <td>354104</td>\n",
       "      <td>1897592</td>\n",
       "      <td>384833</td>\n",
       "    </tr>\n",
       "    <tr>\n",
       "      <th>2017-11</th>\n",
       "      <td>189739</td>\n",
       "      <td>1330649</td>\n",
       "      <td>252534</td>\n",
       "    </tr>\n",
       "    <tr>\n",
       "      <th>2017-12</th>\n",
       "      <td>125396</td>\n",
       "      <td>889967</td>\n",
       "      <td>177897</td>\n",
       "    </tr>\n",
       "  </tbody>\n",
       "</table>\n",
       "</div>"
      ],
      "text/plain": [
       "         Values                    \n",
       "City    Chicago      NYC Washington\n",
       "Date                               \n",
       "2017-01  111942   726676     174804\n",
       "2017-02  166343   791647     226303\n",
       "2017-03  153406   727665     245403\n",
       "2017-04  268662  1315404     365990\n",
       "2017-05  345988  1523268     339677\n",
       "2017-06  505164  1731594     398751\n",
       "2017-07  565142  1735599     397680\n",
       "2017-08  557639  1816498     402534\n",
       "2017-09  485489  1878098     391371\n",
       "2017-10  354104  1897592     384833\n",
       "2017-11  189739  1330649     252534\n",
       "2017-12  125396   889967     177897"
      ]
     },
     "execution_count": 4,
     "metadata": {},
     "output_type": "execute_result"
    }
   ],
   "source": [
    "pivot"
   ]
  },
  {
   "cell_type": "code",
   "execution_count": 5,
   "metadata": {},
   "outputs": [
    {
     "data": {
      "text/html": [
       "<div>\n",
       "<style scoped>\n",
       "    .dataframe tbody tr th:only-of-type {\n",
       "        vertical-align: middle;\n",
       "    }\n",
       "\n",
       "    .dataframe tbody tr th {\n",
       "        vertical-align: top;\n",
       "    }\n",
       "\n",
       "    .dataframe thead tr th {\n",
       "        text-align: left;\n",
       "    }\n",
       "\n",
       "    .dataframe thead tr:last-of-type th {\n",
       "        text-align: right;\n",
       "    }\n",
       "</style>\n",
       "<table border=\"1\" class=\"dataframe\">\n",
       "  <thead>\n",
       "    <tr>\n",
       "      <th></th>\n",
       "      <th></th>\n",
       "      <th colspan=\"3\" halign=\"left\">Values</th>\n",
       "    </tr>\n",
       "    <tr>\n",
       "      <th></th>\n",
       "      <th>City</th>\n",
       "      <th>Chicago</th>\n",
       "      <th>NYC</th>\n",
       "      <th>Washington</th>\n",
       "    </tr>\n",
       "    <tr>\n",
       "      <th></th>\n",
       "      <th>City</th>\n",
       "      <th></th>\n",
       "      <th></th>\n",
       "      <th></th>\n",
       "    </tr>\n",
       "  </thead>\n",
       "  <tbody>\n",
       "    <tr>\n",
       "      <th rowspan=\"3\" valign=\"top\">Values</th>\n",
       "      <th>Chicago</th>\n",
       "      <td>1.000000</td>\n",
       "      <td>0.892110</td>\n",
       "      <td>0.916156</td>\n",
       "    </tr>\n",
       "    <tr>\n",
       "      <th>NYC</th>\n",
       "      <td>0.892110</td>\n",
       "      <td>1.000000</td>\n",
       "      <td>0.920426</td>\n",
       "    </tr>\n",
       "    <tr>\n",
       "      <th>Washington</th>\n",
       "      <td>0.916156</td>\n",
       "      <td>0.920426</td>\n",
       "      <td>1.000000</td>\n",
       "    </tr>\n",
       "  </tbody>\n",
       "</table>\n",
       "</div>"
      ],
      "text/plain": [
       "                     Values                     \n",
       "City                Chicago       NYC Washington\n",
       "       City                                     \n",
       "Values Chicago     1.000000  0.892110   0.916156\n",
       "       NYC         0.892110  1.000000   0.920426\n",
       "       Washington  0.916156  0.920426   1.000000"
      ]
     },
     "execution_count": 5,
     "metadata": {},
     "output_type": "execute_result"
    }
   ],
   "source": [
    "pivot.corr()"
   ]
  },
  {
   "cell_type": "code",
   "execution_count": 6,
   "metadata": {},
   "outputs": [
    {
     "data": {
      "text/plain": [
       "<matplotlib.axes._subplots.AxesSubplot at 0x2332fd91ba8>"
      ]
     },
     "execution_count": 6,
     "metadata": {},
     "output_type": "execute_result"
    },
    {
     "data": {
      "image/png": "[encoded data removed]",
      "text/plain": [
       "<Figure size 432x288 with 1 Axes>"
      ]
     },
     "metadata": {
      "needs_background": "light"
     },
     "output_type": "display_data"
    }
   ],
   "source": [
    "pivot.plot()"
   ]
  },
  {
   "cell_type": "code",
   "execution_count": 7,
   "metadata": {},
   "outputs": [
    {
     "data": {
      "text/html": [
       "<div>\n",
       "<style scoped>\n",
       "    .dataframe tbody tr th:only-of-type {\n",
       "        vertical-align: middle;\n",
       "    }\n",
       "\n",
       "    .dataframe tbody tr th {\n",
       "        vertical-align: top;\n",
       "    }\n",
       "\n",
       "    .dataframe thead tr th {\n",
       "        text-align: left;\n",
       "    }\n",
       "</style>\n",
       "<table border=\"1\" class=\"dataframe\">\n",
       "  <thead>\n",
       "    <tr>\n",
       "      <th></th>\n",
       "      <th colspan=\"3\" halign=\"left\">Values</th>\n",
       "    </tr>\n",
       "    <tr>\n",
       "      <th>City</th>\n",
       "      <th>Chicago</th>\n",
       "      <th>NYC</th>\n",
       "      <th>Washington</th>\n",
       "    </tr>\n",
       "  </thead>\n",
       "  <tbody>\n",
       "    <tr>\n",
       "      <th>count</th>\n",
       "      <td>12.000000</td>\n",
       "      <td>1.200000e+01</td>\n",
       "      <td>12.000000</td>\n",
       "    </tr>\n",
       "    <tr>\n",
       "      <th>mean</th>\n",
       "      <td>319084.500000</td>\n",
       "      <td>1.363721e+06</td>\n",
       "      <td>313148.083333</td>\n",
       "    </tr>\n",
       "    <tr>\n",
       "      <th>std</th>\n",
       "      <td>173779.905944</td>\n",
       "      <td>4.689661e+05</td>\n",
       "      <td>90681.471883</td>\n",
       "    </tr>\n",
       "    <tr>\n",
       "      <th>min</th>\n",
       "      <td>111942.000000</td>\n",
       "      <td>7.266760e+05</td>\n",
       "      <td>174804.000000</td>\n",
       "    </tr>\n",
       "    <tr>\n",
       "      <th>25%</th>\n",
       "      <td>163108.750000</td>\n",
       "      <td>8.653870e+05</td>\n",
       "      <td>240628.000000</td>\n",
       "    </tr>\n",
       "    <tr>\n",
       "      <th>50%</th>\n",
       "      <td>307325.000000</td>\n",
       "      <td>1.426958e+06</td>\n",
       "      <td>352833.500000</td>\n",
       "    </tr>\n",
       "    <tr>\n",
       "      <th>75%</th>\n",
       "      <td>490407.750000</td>\n",
       "      <td>1.755824e+06</td>\n",
       "      <td>392948.250000</td>\n",
       "    </tr>\n",
       "    <tr>\n",
       "      <th>max</th>\n",
       "      <td>565142.000000</td>\n",
       "      <td>1.897592e+06</td>\n",
       "      <td>402534.000000</td>\n",
       "    </tr>\n",
       "  </tbody>\n",
       "</table>\n",
       "</div>"
      ],
      "text/plain": [
       "              Values                             \n",
       "City         Chicago           NYC     Washington\n",
       "count      12.000000  1.200000e+01      12.000000\n",
       "mean   319084.500000  1.363721e+06  313148.083333\n",
       "std    173779.905944  4.689661e+05   90681.471883\n",
       "min    111942.000000  7.266760e+05  174804.000000\n",
       "25%    163108.750000  8.653870e+05  240628.000000\n",
       "50%    307325.000000  1.426958e+06  352833.500000\n",
       "75%    490407.750000  1.755824e+06  392948.250000\n",
       "max    565142.000000  1.897592e+06  402534.000000"
      ]
     },
     "execution_count": 7,
     "metadata": {},
     "output_type": "execute_result"
    }
   ],
   "source": [
    "stats = pivot.describe()\n",
    "stats"
   ]
  },
  {
   "cell_type": "code",
   "execution_count": 8,
   "metadata": {},
   "outputs": [],
   "source": [
    "stats.to_csv(\"stats.csv\", sep=\";\")"
   ]
  },
  {
   "cell_type": "markdown",
   "metadata": {},
   "source": [
    "# Sample 2"
   ]
  },
  {
   "cell_type": "code",
   "execution_count": 9,
   "metadata": {},
   "outputs": [],
   "source": [
    "process_name = \"Bedrock.Server.Wait\"\n",
    "\n",
    "with TM1Service(address=ADDRESS, port=PORT, user=USER, password=PWD, ssl=SSL) as tm1:\n",
    "    success, state, error_log_file = tm1.processes.execute_with_return(\n",
    "        process_name=process_name, \n",
    "        pWaitSec=\"1\")"
   ]
  },
  {
   "cell_type": "code",
   "execution_count": 10,
   "metadata": {},
   "outputs": [
    {
     "name": "stdout",
     "output_type": "stream",
     "text": [
      "(False, 'HasMinorErrors', 'TM1ProcessError_20190424094543_65308772_Bedrock.Server.Wait.log')\n"
     ]
    }
   ],
   "source": [
    "process_name = \"Bedrock.Server.wait\"\n",
    "\n",
    "with TM1Service(address=ADDRESS, port=PORT, user=USER, password=PWD, ssl=SSL) as tm1:\n",
    "    response = tm1.processes.execute_with_return(process_name=process_name, pWaitSec=\"m\")\n",
    "    print(response)"
   ]
  },
  {
   "cell_type": "code",
   "execution_count": 13,
   "metadata": {},
   "outputs": [
    {
     "name": "stdout",
     "output_type": "stream",
     "text": [
      "ï»¿Error: Prolog procedure line (42):  Errors occurred during execution of process \"}bedrock.server.wait\".  Check error log file for that process for more details\r\n",
      "\n"
     ]
    }
   ],
   "source": [
    "with TM1Service(address=ADDRESS, port=PORT, user=USER, password=PWD, ssl=SSL) as tm1:\n",
    "    error = tm1.processes.get_error_log_file_content('TM1ProcessError_20190424094543_65308772_Bedrock.Server.Wait.log')\n",
    "    print(error)"
   ]
  },
  {
   "cell_type": "markdown",
   "metadata": {},
   "source": [
    "# Sample 3"
   ]
  },
  {
   "cell_type": "code",
   "execution_count": 14,
   "metadata": {},
   "outputs": [],
   "source": [
    "with TM1Service(address=ADDRESS, port=PORT, user=USER, password=PWD, ssl=SSL) as tm1:\n",
    "    threads = tm1.monitoring.get_threads()"
   ]
  },
  {
   "cell_type": "code",
   "execution_count": 15,
   "metadata": {},
   "outputs": [
    {
     "name": "stdout",
     "output_type": "stream",
     "text": [
      "Pseudo\n",
      "DynamicConfig\n"
     ]
    }
   ],
   "source": [
    "for thread in threads:\n",
    "    if thread[\"State\"] == \"Idle\":\n",
    "        print(thread[\"Name\"])"
   ]
  },
  {
   "cell_type": "code",
   "execution_count": null,
   "metadata": {},
   "outputs": [],
   "source": []
  }
 ],
 "metadata": {
  "kernelspec": {
   "display_name": "Python 3",
   "language": "python",
   "name": "python3"
  },
  "language_info": {
   "codemirror_mode": {
    "name": "ipython",
    "version": 3
   },
   "file_extension": ".py",
   "mimetype": "text/x-python",
   "name": "python",
   "nbconvert_exporter": "python",
   "pygments_lexer": "ipython3",
   "version": "3.7.1"
  }
 },
 "nbformat": 4,
 "nbformat_minor": 2
}
